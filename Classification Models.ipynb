{
 "cells": [
  {
   "cell_type": "markdown",
   "id": "3f7b8292-edde-4486-b21e-72d055c5a96b",
   "metadata": {},
   "source": [
    "# Using Classification Models to Predict Which Reddit Page a Submission Came From"
   ]
  },
  {
   "cell_type": "code",
   "execution_count": 1,
   "id": "4e099462-a20e-4ac0-bf89-338eed527bad",
   "metadata": {},
   "outputs": [],
   "source": [
    "import pandas as pd\n",
    "import numpy as np \n",
    "import matplotlib.pyplot as plt\n"
   ]
  },
  {
   "cell_type": "code",
   "execution_count": 2,
   "id": "12ab4110-5774-4f83-a7a1-c036abfab6e1",
   "metadata": {},
   "outputs": [
    {
     "data": {
      "text/html": [
       "<div>\n",
       "<style scoped>\n",
       "    .dataframe tbody tr th:only-of-type {\n",
       "        vertical-align: middle;\n",
       "    }\n",
       "\n",
       "    .dataframe tbody tr th {\n",
       "        vertical-align: top;\n",
       "    }\n",
       "\n",
       "    .dataframe thead th {\n",
       "        text-align: right;\n",
       "    }\n",
       "</style>\n",
       "<table border=\"1\" class=\"dataframe\">\n",
       "  <thead>\n",
       "    <tr style=\"text-align: right;\">\n",
       "      <th></th>\n",
       "      <th>selftext</th>\n",
       "      <th>title</th>\n",
       "      <th>subreddit</th>\n",
       "    </tr>\n",
       "  </thead>\n",
       "  <tbody>\n",
       "    <tr>\n",
       "      <th>0</th>\n",
       "      <td>NaN</td>\n",
       "      <td>What would your first official act be if you r...</td>\n",
       "      <td>askphilosophy</td>\n",
       "    </tr>\n",
       "    <tr>\n",
       "      <th>1</th>\n",
       "      <td>Can’t find anything from Google. There was an ...</td>\n",
       "      <td>Does anyone have the review of Camus’ The Rebe...</td>\n",
       "      <td>askphilosophy</td>\n",
       "    </tr>\n",
       "    <tr>\n",
       "      <th>2</th>\n",
       "      <td>I'm need to describe how they would handle foo...</td>\n",
       "      <td>What are characteristics of Ecological Constru...</td>\n",
       "      <td>askphilosophy</td>\n",
       "    </tr>\n",
       "    <tr>\n",
       "      <th>3</th>\n",
       "      <td>I can see how this cause would be eternal, nec...</td>\n",
       "      <td>How does the contingency argument show that th...</td>\n",
       "      <td>askphilosophy</td>\n",
       "    </tr>\n",
       "    <tr>\n",
       "      <th>4</th>\n",
       "      <td>What was once a precious guideline has been di...</td>\n",
       "      <td>From my very limited perspective, philosophy a...</td>\n",
       "      <td>askphilosophy</td>\n",
       "    </tr>\n",
       "  </tbody>\n",
       "</table>\n",
       "</div>"
      ],
      "text/plain": [
       "                                            selftext  \\\n",
       "0                                                NaN   \n",
       "1  Can’t find anything from Google. There was an ...   \n",
       "2  I'm need to describe how they would handle foo...   \n",
       "3  I can see how this cause would be eternal, nec...   \n",
       "4  What was once a precious guideline has been di...   \n",
       "\n",
       "                                               title      subreddit  \n",
       "0  What would your first official act be if you r...  askphilosophy  \n",
       "1  Does anyone have the review of Camus’ The Rebe...  askphilosophy  \n",
       "2  What are characteristics of Ecological Constru...  askphilosophy  \n",
       "3  How does the contingency argument show that th...  askphilosophy  \n",
       "4  From my very limited perspective, philosophy a...  askphilosophy  "
      ]
     },
     "execution_count": 2,
     "metadata": {},
     "output_type": "execute_result"
    }
   ],
   "source": [
    "phil = pd.read_csv('./data/askphil.csv')\n",
    "phil.drop(columns = 'Unnamed: 0', inplace = True)\n",
    "phil.head()"
   ]
  },
  {
   "cell_type": "code",
   "execution_count": 3,
   "id": "4a0953b3-9826-4339-aa11-eeeeb374568e",
   "metadata": {},
   "outputs": [
    {
     "data": {
      "text/html": [
       "<div>\n",
       "<style scoped>\n",
       "    .dataframe tbody tr th:only-of-type {\n",
       "        vertical-align: middle;\n",
       "    }\n",
       "\n",
       "    .dataframe tbody tr th {\n",
       "        vertical-align: top;\n",
       "    }\n",
       "\n",
       "    .dataframe thead th {\n",
       "        text-align: right;\n",
       "    }\n",
       "</style>\n",
       "<table border=\"1\" class=\"dataframe\">\n",
       "  <thead>\n",
       "    <tr style=\"text-align: right;\">\n",
       "      <th></th>\n",
       "      <th>selftext</th>\n",
       "      <th>title</th>\n",
       "      <th>subreddit</th>\n",
       "    </tr>\n",
       "  </thead>\n",
       "  <tbody>\n",
       "    <tr>\n",
       "      <th>0</th>\n",
       "      <td>In some Buddhist texts, Buddhas are referred t...</td>\n",
       "      <td>Why the Buddha is called \"god over the gods\"</td>\n",
       "      <td>religion</td>\n",
       "    </tr>\n",
       "    <tr>\n",
       "      <th>1</th>\n",
       "      <td>Hi! As a Hellenic polytheist with Christian pa...</td>\n",
       "      <td>My mom confronting me on my altar.</td>\n",
       "      <td>religion</td>\n",
       "    </tr>\n",
       "    <tr>\n",
       "      <th>2</th>\n",
       "      <td>\\n\\nI was having a friendly discussion with a...</td>\n",
       "      <td>Does the act of looking for evidence of god’s ...</td>\n",
       "      <td>religion</td>\n",
       "    </tr>\n",
       "    <tr>\n",
       "      <th>3</th>\n",
       "      <td>[removed]</td>\n",
       "      <td>Interreligious marriage</td>\n",
       "      <td>religion</td>\n",
       "    </tr>\n",
       "    <tr>\n",
       "      <th>4</th>\n",
       "      <td>NaN</td>\n",
       "      <td>⚠️Persecution Exists Today, For Minorities Reg...</td>\n",
       "      <td>religion</td>\n",
       "    </tr>\n",
       "  </tbody>\n",
       "</table>\n",
       "</div>"
      ],
      "text/plain": [
       "                                            selftext  \\\n",
       "0  In some Buddhist texts, Buddhas are referred t...   \n",
       "1  Hi! As a Hellenic polytheist with Christian pa...   \n",
       "2   \\n\\nI was having a friendly discussion with a...   \n",
       "3                                          [removed]   \n",
       "4                                                NaN   \n",
       "\n",
       "                                               title subreddit  \n",
       "0       Why the Buddha is called \"god over the gods\"  religion  \n",
       "1                 My mom confronting me on my altar.  religion  \n",
       "2  Does the act of looking for evidence of god’s ...  religion  \n",
       "3                            Interreligious marriage  religion  \n",
       "4  ⚠️Persecution Exists Today, For Minorities Reg...  religion  "
      ]
     },
     "execution_count": 3,
     "metadata": {},
     "output_type": "execute_result"
    }
   ],
   "source": [
    "relig = pd.read_csv('./data/relig.csv')\n",
    "relig.drop(columns = 'Unnamed: 0', inplace = True)\n",
    "relig.head()"
   ]
  },
  {
   "cell_type": "code",
   "execution_count": 4,
   "id": "0626d59a-d61e-4e26-bc1f-6913aef6caf2",
   "metadata": {},
   "outputs": [
    {
     "data": {
      "text/plain": [
       "(5989, 3)"
      ]
     },
     "execution_count": 4,
     "metadata": {},
     "output_type": "execute_result"
    }
   ],
   "source": [
    "all_posts = pd.concat([phil, relig])\n",
    "all_posts.shape"
   ]
  },
  {
   "cell_type": "code",
   "execution_count": 5,
   "id": "889a1c2e-240a-4af1-af2e-af22f518a169",
   "metadata": {},
   "outputs": [
    {
     "data": {
      "text/plain": [
       "selftext     1252\n",
       "title           0\n",
       "subreddit       0\n",
       "dtype: int64"
      ]
     },
     "execution_count": 5,
     "metadata": {},
     "output_type": "execute_result"
    }
   ],
   "source": [
    "all_posts.isnull().sum()"
   ]
  },
  {
   "cell_type": "code",
   "execution_count": null,
   "id": "57afb0aa-77cc-4ffb-9612-39caa6553684",
   "metadata": {},
   "outputs": [],
   "source": []
  }
 ],
 "metadata": {
  "kernelspec": {
   "display_name": "Python 3 (ipykernel)",
   "language": "python",
   "name": "python3"
  },
  "language_info": {
   "codemirror_mode": {
    "name": "ipython",
    "version": 3
   },
   "file_extension": ".py",
   "mimetype": "text/x-python",
   "name": "python",
   "nbconvert_exporter": "python",
   "pygments_lexer": "ipython3",
   "version": "3.9.12"
  }
 },
 "nbformat": 4,
 "nbformat_minor": 5
}
