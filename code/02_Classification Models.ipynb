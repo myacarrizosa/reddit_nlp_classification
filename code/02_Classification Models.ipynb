{
 "cells": [
  {
   "cell_type": "markdown",
   "id": "3f7b8292-edde-4486-b21e-72d055c5a96b",
   "metadata": {},
   "source": [
    "# Using Classification Models to Predict Which Reddit Page a Submission Came From"
   ]
  },
  {
   "cell_type": "code",
   "execution_count": 1,
   "id": "4e099462-a20e-4ac0-bf89-338eed527bad",
   "metadata": {},
   "outputs": [],
   "source": [
    "import pandas as pd\n",
    "import numpy as np \n",
    "import matplotlib.pyplot as plt\n",
    "import seaborn as sns\n",
    "\n",
    "from sklearn.pipeline import Pipeline\n",
    "from sklearn.model_selection import train_test_split, cross_val_score, GridSearchCV\n",
    "from sklearn.preprocessing import StandardScaler\n",
    "from sklearn.feature_extraction.text import CountVectorizer\n",
    "from sklearn.linear_model import LogisticRegression\n",
    "from sklearn.neighbors import KNeighborsClassifier\n",
    "from sklearn.ensemble import RandomForestClassifier, AdaBoostClassifier\n",
    "from sklearn.metrics import confusion_matrix, ConfusionMatrixDisplay"
   ]
  },
  {
   "cell_type": "markdown",
   "id": "c2f527c5-c3f6-4be3-9a85-f5a94d0788f4",
   "metadata": {},
   "source": [
    "## Cleaning and EDA"
   ]
  },
  {
   "cell_type": "code",
   "execution_count": 2,
   "id": "12ab4110-5774-4f83-a7a1-c036abfab6e1",
   "metadata": {},
   "outputs": [
    {
     "data": {
      "text/html": [
       "<div>\n",
       "<style scoped>\n",
       "    .dataframe tbody tr th:only-of-type {\n",
       "        vertical-align: middle;\n",
       "    }\n",
       "\n",
       "    .dataframe tbody tr th {\n",
       "        vertical-align: top;\n",
       "    }\n",
       "\n",
       "    .dataframe thead th {\n",
       "        text-align: right;\n",
       "    }\n",
       "</style>\n",
       "<table border=\"1\" class=\"dataframe\">\n",
       "  <thead>\n",
       "    <tr style=\"text-align: right;\">\n",
       "      <th></th>\n",
       "      <th>selftext</th>\n",
       "      <th>title</th>\n",
       "      <th>subreddit</th>\n",
       "    </tr>\n",
       "  </thead>\n",
       "  <tbody>\n",
       "    <tr>\n",
       "      <th>0</th>\n",
       "      <td>NaN</td>\n",
       "      <td>What would your first official act be if you r...</td>\n",
       "      <td>askphilosophy</td>\n",
       "    </tr>\n",
       "    <tr>\n",
       "      <th>1</th>\n",
       "      <td>Can’t find anything from Google. There was an ...</td>\n",
       "      <td>Does anyone have the review of Camus’ The Rebe...</td>\n",
       "      <td>askphilosophy</td>\n",
       "    </tr>\n",
       "    <tr>\n",
       "      <th>2</th>\n",
       "      <td>I'm need to describe how they would handle foo...</td>\n",
       "      <td>What are characteristics of Ecological Constru...</td>\n",
       "      <td>askphilosophy</td>\n",
       "    </tr>\n",
       "    <tr>\n",
       "      <th>3</th>\n",
       "      <td>I can see how this cause would be eternal, nec...</td>\n",
       "      <td>How does the contingency argument show that th...</td>\n",
       "      <td>askphilosophy</td>\n",
       "    </tr>\n",
       "    <tr>\n",
       "      <th>4</th>\n",
       "      <td>What was once a precious guideline has been di...</td>\n",
       "      <td>From my very limited perspective, philosophy a...</td>\n",
       "      <td>askphilosophy</td>\n",
       "    </tr>\n",
       "  </tbody>\n",
       "</table>\n",
       "</div>"
      ],
      "text/plain": [
       "                                            selftext  \\\n",
       "0                                                NaN   \n",
       "1  Can’t find anything from Google. There was an ...   \n",
       "2  I'm need to describe how they would handle foo...   \n",
       "3  I can see how this cause would be eternal, nec...   \n",
       "4  What was once a precious guideline has been di...   \n",
       "\n",
       "                                               title      subreddit  \n",
       "0  What would your first official act be if you r...  askphilosophy  \n",
       "1  Does anyone have the review of Camus’ The Rebe...  askphilosophy  \n",
       "2  What are characteristics of Ecological Constru...  askphilosophy  \n",
       "3  How does the contingency argument show that th...  askphilosophy  \n",
       "4  From my very limited perspective, philosophy a...  askphilosophy  "
      ]
     },
     "execution_count": 2,
     "metadata": {},
     "output_type": "execute_result"
    }
   ],
   "source": [
    "phil = pd.read_csv('../data/askphil.csv')\n",
    "phil.drop(columns = 'Unnamed: 0', inplace = True)\n",
    "phil.head()"
   ]
  },
  {
   "cell_type": "code",
   "execution_count": 3,
   "id": "4a0953b3-9826-4339-aa11-eeeeb374568e",
   "metadata": {},
   "outputs": [
    {
     "data": {
      "text/html": [
       "<div>\n",
       "<style scoped>\n",
       "    .dataframe tbody tr th:only-of-type {\n",
       "        vertical-align: middle;\n",
       "    }\n",
       "\n",
       "    .dataframe tbody tr th {\n",
       "        vertical-align: top;\n",
       "    }\n",
       "\n",
       "    .dataframe thead th {\n",
       "        text-align: right;\n",
       "    }\n",
       "</style>\n",
       "<table border=\"1\" class=\"dataframe\">\n",
       "  <thead>\n",
       "    <tr style=\"text-align: right;\">\n",
       "      <th></th>\n",
       "      <th>selftext</th>\n",
       "      <th>title</th>\n",
       "      <th>subreddit</th>\n",
       "    </tr>\n",
       "  </thead>\n",
       "  <tbody>\n",
       "    <tr>\n",
       "      <th>0</th>\n",
       "      <td>In some Buddhist texts, Buddhas are referred t...</td>\n",
       "      <td>Why the Buddha is called \"god over the gods\"</td>\n",
       "      <td>religion</td>\n",
       "    </tr>\n",
       "    <tr>\n",
       "      <th>1</th>\n",
       "      <td>Hi! As a Hellenic polytheist with Christian pa...</td>\n",
       "      <td>My mom confronting me on my altar.</td>\n",
       "      <td>religion</td>\n",
       "    </tr>\n",
       "    <tr>\n",
       "      <th>2</th>\n",
       "      <td>\\n\\nI was having a friendly discussion with a...</td>\n",
       "      <td>Does the act of looking for evidence of god’s ...</td>\n",
       "      <td>religion</td>\n",
       "    </tr>\n",
       "    <tr>\n",
       "      <th>3</th>\n",
       "      <td>[removed]</td>\n",
       "      <td>Interreligious marriage</td>\n",
       "      <td>religion</td>\n",
       "    </tr>\n",
       "    <tr>\n",
       "      <th>4</th>\n",
       "      <td>NaN</td>\n",
       "      <td>⚠️Persecution Exists Today, For Minorities Reg...</td>\n",
       "      <td>religion</td>\n",
       "    </tr>\n",
       "  </tbody>\n",
       "</table>\n",
       "</div>"
      ],
      "text/plain": [
       "                                            selftext  \\\n",
       "0  In some Buddhist texts, Buddhas are referred t...   \n",
       "1  Hi! As a Hellenic polytheist with Christian pa...   \n",
       "2   \\n\\nI was having a friendly discussion with a...   \n",
       "3                                          [removed]   \n",
       "4                                                NaN   \n",
       "\n",
       "                                               title subreddit  \n",
       "0       Why the Buddha is called \"god over the gods\"  religion  \n",
       "1                 My mom confronting me on my altar.  religion  \n",
       "2  Does the act of looking for evidence of god’s ...  religion  \n",
       "3                            Interreligious marriage  religion  \n",
       "4  ⚠️Persecution Exists Today, For Minorities Reg...  religion  "
      ]
     },
     "execution_count": 3,
     "metadata": {},
     "output_type": "execute_result"
    }
   ],
   "source": [
    "relig = pd.read_csv('../data/relig.csv')\n",
    "relig.drop(columns = 'Unnamed: 0', inplace = True)\n",
    "relig.head()"
   ]
  },
  {
   "cell_type": "code",
   "execution_count": 4,
   "id": "0626d59a-d61e-4e26-bc1f-6913aef6caf2",
   "metadata": {},
   "outputs": [
    {
     "data": {
      "text/plain": [
       "(5989, 3)"
      ]
     },
     "execution_count": 4,
     "metadata": {},
     "output_type": "execute_result"
    }
   ],
   "source": [
    "all_posts = pd.concat([phil, relig], ignore_index=True)\n",
    "all_posts.shape"
   ]
  },
  {
   "cell_type": "code",
   "execution_count": 5,
   "id": "889a1c2e-240a-4af1-af2e-af22f518a169",
   "metadata": {},
   "outputs": [
    {
     "data": {
      "text/plain": [
       "selftext     1252\n",
       "title           0\n",
       "subreddit       0\n",
       "dtype: int64"
      ]
     },
     "execution_count": 5,
     "metadata": {},
     "output_type": "execute_result"
    }
   ],
   "source": [
    "all_posts.isnull().sum()"
   ]
  },
  {
   "cell_type": "code",
   "execution_count": 6,
   "id": "57afb0aa-77cc-4ffb-9612-39caa6553684",
   "metadata": {},
   "outputs": [],
   "source": [
    "null_rows = all_posts[all_posts['selftext'].isna()]"
   ]
  },
  {
   "cell_type": "code",
   "execution_count": 7,
   "id": "71e5a937-4612-4433-9135-d315bc2d2b12",
   "metadata": {},
   "outputs": [
    {
     "data": {
      "text/plain": [
       "(1252, 3)"
      ]
     },
     "execution_count": 7,
     "metadata": {},
     "output_type": "execute_result"
    }
   ],
   "source": [
    "null_rows.shape"
   ]
  },
  {
   "cell_type": "code",
   "execution_count": 8,
   "id": "6fc93bb1-ac70-462b-9cf0-56e7bbef07ea",
   "metadata": {},
   "outputs": [
    {
     "data": {
      "text/plain": [
       "religion         0.634185\n",
       "askphilosophy    0.365815\n",
       "Name: subreddit, dtype: float64"
      ]
     },
     "execution_count": 8,
     "metadata": {},
     "output_type": "execute_result"
    }
   ],
   "source": [
    "null_rows['subreddit'].value_counts(normalize=True)"
   ]
  },
  {
   "cell_type": "code",
   "execution_count": 9,
   "id": "bc6087ff-1f65-48da-bf93-9cbea7e9e5d7",
   "metadata": {},
   "outputs": [],
   "source": [
    "all_posts = all_posts.fillna('')"
   ]
  },
  {
   "cell_type": "code",
   "execution_count": 10,
   "id": "be3c21b9-82aa-4bd9-b45a-856eebd35951",
   "metadata": {},
   "outputs": [
    {
     "data": {
      "text/plain": [
       "selftext     0\n",
       "title        0\n",
       "subreddit    0\n",
       "dtype: int64"
      ]
     },
     "execution_count": 10,
     "metadata": {},
     "output_type": "execute_result"
    }
   ],
   "source": [
    "all_posts.isnull().sum()"
   ]
  },
  {
   "cell_type": "markdown",
   "id": "44c91d9a-d61b-4b0a-9348-759685ada65c",
   "metadata": {},
   "source": [
    "Because roughly 20% of our data had a null value for self text, we didn't want to drop all the rows that had null values. Instead, we replaced null values with an empty string. There might be a pattern in which subreddit is more likely to only have a title and not submission text, and so we wanted to leave these instances in represented by only an empty string. "
   ]
  },
  {
   "cell_type": "code",
   "execution_count": 11,
   "id": "1d252056-e807-4ebf-bb8e-9fe70d1daa65",
   "metadata": {},
   "outputs": [],
   "source": [
    "all_posts['subreddit'] = all_posts['subreddit'].map({'askphilosophy': 0, 'religion': 1})"
   ]
  },
  {
   "cell_type": "code",
   "execution_count": 12,
   "id": "54d0b23d-fbb2-443d-bb68-4d48e8ba3281",
   "metadata": {},
   "outputs": [
    {
     "data": {
      "text/html": [
       "<div>\n",
       "<style scoped>\n",
       "    .dataframe tbody tr th:only-of-type {\n",
       "        vertical-align: middle;\n",
       "    }\n",
       "\n",
       "    .dataframe tbody tr th {\n",
       "        vertical-align: top;\n",
       "    }\n",
       "\n",
       "    .dataframe thead th {\n",
       "        text-align: right;\n",
       "    }\n",
       "</style>\n",
       "<table border=\"1\" class=\"dataframe\">\n",
       "  <thead>\n",
       "    <tr style=\"text-align: right;\">\n",
       "      <th></th>\n",
       "      <th>selftext</th>\n",
       "      <th>title</th>\n",
       "      <th>subreddit</th>\n",
       "    </tr>\n",
       "  </thead>\n",
       "  <tbody>\n",
       "    <tr>\n",
       "      <th>0</th>\n",
       "      <td></td>\n",
       "      <td>What would your first official act be if you r...</td>\n",
       "      <td>0</td>\n",
       "    </tr>\n",
       "    <tr>\n",
       "      <th>1</th>\n",
       "      <td>Can’t find anything from Google. There was an ...</td>\n",
       "      <td>Does anyone have the review of Camus’ The Rebe...</td>\n",
       "      <td>0</td>\n",
       "    </tr>\n",
       "    <tr>\n",
       "      <th>2</th>\n",
       "      <td>I'm need to describe how they would handle foo...</td>\n",
       "      <td>What are characteristics of Ecological Constru...</td>\n",
       "      <td>0</td>\n",
       "    </tr>\n",
       "    <tr>\n",
       "      <th>3</th>\n",
       "      <td>I can see how this cause would be eternal, nec...</td>\n",
       "      <td>How does the contingency argument show that th...</td>\n",
       "      <td>0</td>\n",
       "    </tr>\n",
       "    <tr>\n",
       "      <th>4</th>\n",
       "      <td>What was once a precious guideline has been di...</td>\n",
       "      <td>From my very limited perspective, philosophy a...</td>\n",
       "      <td>0</td>\n",
       "    </tr>\n",
       "  </tbody>\n",
       "</table>\n",
       "</div>"
      ],
      "text/plain": [
       "                                            selftext  \\\n",
       "0                                                      \n",
       "1  Can’t find anything from Google. There was an ...   \n",
       "2  I'm need to describe how they would handle foo...   \n",
       "3  I can see how this cause would be eternal, nec...   \n",
       "4  What was once a precious guideline has been di...   \n",
       "\n",
       "                                               title  subreddit  \n",
       "0  What would your first official act be if you r...          0  \n",
       "1  Does anyone have the review of Camus’ The Rebe...          0  \n",
       "2  What are characteristics of Ecological Constru...          0  \n",
       "3  How does the contingency argument show that th...          0  \n",
       "4  From my very limited perspective, philosophy a...          0  "
      ]
     },
     "execution_count": 12,
     "metadata": {},
     "output_type": "execute_result"
    }
   ],
   "source": [
    "all_posts.head()"
   ]
  },
  {
   "cell_type": "code",
   "execution_count": 13,
   "id": "330d9f5a-ae21-4c4c-8d46-7a1ea74eebe9",
   "metadata": {},
   "outputs": [
    {
     "data": {
      "text/plain": [
       "65"
      ]
     },
     "execution_count": 13,
     "metadata": {},
     "output_type": "execute_result"
    }
   ],
   "source": [
    "#check for and remove duplicated posts \n",
    "all_posts.duplicated().sum()"
   ]
  },
  {
   "cell_type": "code",
   "execution_count": 14,
   "id": "a8d644ba-ee4e-4e6b-9165-e763f7de549b",
   "metadata": {},
   "outputs": [],
   "source": [
    "all_posts = all_posts.drop_duplicates(keep = 'first')"
   ]
  },
  {
   "cell_type": "code",
   "execution_count": 15,
   "id": "ef4cd736-e366-4f25-8b80-38293bba556a",
   "metadata": {},
   "outputs": [
    {
     "data": {
      "text/plain": [
       "0"
      ]
     },
     "execution_count": 15,
     "metadata": {},
     "output_type": "execute_result"
    }
   ],
   "source": [
    "all_posts.duplicated().sum()"
   ]
  },
  {
   "cell_type": "code",
   "execution_count": 16,
   "id": "cd2f39e0-bee5-4624-bbc6-72dc02719e87",
   "metadata": {},
   "outputs": [],
   "source": [
    "removed_rows = all_posts[all_posts['selftext'] == '[removed]']"
   ]
  },
  {
   "cell_type": "code",
   "execution_count": 17,
   "id": "1b69589f-6ffc-4e95-a9cd-000218722dfc",
   "metadata": {},
   "outputs": [
    {
     "data": {
      "text/html": [
       "<div>\n",
       "<style scoped>\n",
       "    .dataframe tbody tr th:only-of-type {\n",
       "        vertical-align: middle;\n",
       "    }\n",
       "\n",
       "    .dataframe tbody tr th {\n",
       "        vertical-align: top;\n",
       "    }\n",
       "\n",
       "    .dataframe thead th {\n",
       "        text-align: right;\n",
       "    }\n",
       "</style>\n",
       "<table border=\"1\" class=\"dataframe\">\n",
       "  <thead>\n",
       "    <tr style=\"text-align: right;\">\n",
       "      <th></th>\n",
       "      <th>selftext</th>\n",
       "      <th>title</th>\n",
       "      <th>subreddit</th>\n",
       "    </tr>\n",
       "  </thead>\n",
       "  <tbody>\n",
       "    <tr>\n",
       "      <th>33</th>\n",
       "      <td>[removed]</td>\n",
       "      <td>Is it wrong to to use these terms?</td>\n",
       "      <td>0</td>\n",
       "    </tr>\n",
       "    <tr>\n",
       "      <th>35</th>\n",
       "      <td>[removed]</td>\n",
       "      <td>Is it wrong to call people fools?</td>\n",
       "      <td>0</td>\n",
       "    </tr>\n",
       "    <tr>\n",
       "      <th>70</th>\n",
       "      <td>[removed]</td>\n",
       "      <td>What is wrong with this point of view: the onl...</td>\n",
       "      <td>0</td>\n",
       "    </tr>\n",
       "    <tr>\n",
       "      <th>139</th>\n",
       "      <td>[removed]</td>\n",
       "      <td>Is materialism a lind of platonism?</td>\n",
       "      <td>0</td>\n",
       "    </tr>\n",
       "    <tr>\n",
       "      <th>150</th>\n",
       "      <td>[removed]</td>\n",
       "      <td>would this be a valid deductive argument.</td>\n",
       "      <td>0</td>\n",
       "    </tr>\n",
       "  </tbody>\n",
       "</table>\n",
       "</div>"
      ],
      "text/plain": [
       "      selftext                                              title  subreddit\n",
       "33   [removed]                 Is it wrong to to use these terms?          0\n",
       "35   [removed]                  Is it wrong to call people fools?          0\n",
       "70   [removed]  What is wrong with this point of view: the onl...          0\n",
       "139  [removed]                Is materialism a lind of platonism?          0\n",
       "150  [removed]          would this be a valid deductive argument.          0"
      ]
     },
     "execution_count": 17,
     "metadata": {},
     "output_type": "execute_result"
    }
   ],
   "source": [
    "removed_rows.head()"
   ]
  },
  {
   "cell_type": "code",
   "execution_count": 18,
   "id": "c79d9c9c-5735-4c31-a773-23f2bc827f3e",
   "metadata": {},
   "outputs": [
    {
     "data": {
      "text/plain": [
       "(979, 3)"
      ]
     },
     "execution_count": 18,
     "metadata": {},
     "output_type": "execute_result"
    }
   ],
   "source": [
    "removed_rows.shape"
   ]
  },
  {
   "cell_type": "code",
   "execution_count": 19,
   "id": "d4b150b8-a23e-4d58-a08f-4982c89a1592",
   "metadata": {},
   "outputs": [
    {
     "data": {
      "text/plain": [
       "1    0.835546\n",
       "0    0.164454\n",
       "Name: subreddit, dtype: float64"
      ]
     },
     "execution_count": 19,
     "metadata": {},
     "output_type": "execute_result"
    }
   ],
   "source": [
    "removed_rows['subreddit'].value_counts(normalize = True)"
   ]
  },
  {
   "cell_type": "markdown",
   "id": "7a5f113c-705e-4b3a-b347-84ac6e6f2e16",
   "metadata": {},
   "source": [
    "Unfortunately removing all the rows where the text has been removed does create more unbalanced classes, and it is a big chunk of our data, but we purposefully pulled more submissions than needed from each subreddit so we could drop rows if necessary during cleaning. There is no good way to impute values for these removed text rows and so we are going to drop them. "
   ]
  },
  {
   "cell_type": "code",
   "execution_count": 20,
   "id": "0ebf6c15-f984-46d0-8e61-905b2585f1fa",
   "metadata": {},
   "outputs": [],
   "source": [
    "all_posts = all_posts[all_posts['selftext'] != '[removed]']"
   ]
  },
  {
   "cell_type": "code",
   "execution_count": 21,
   "id": "cd6d5a77-565a-4b15-beb6-3fc94ab376cd",
   "metadata": {},
   "outputs": [
    {
     "data": {
      "text/plain": [
       "(4945, 3)"
      ]
     },
     "execution_count": 21,
     "metadata": {},
     "output_type": "execute_result"
    }
   ],
   "source": [
    "all_posts.shape"
   ]
  },
  {
   "cell_type": "markdown",
   "id": "8a37ef16-1e71-46b2-a662-ec9556a1f66e",
   "metadata": {},
   "source": [
    "## EDA"
   ]
  },
  {
   "cell_type": "code",
   "execution_count": 22,
   "id": "df51b6b2-e88b-4140-bdab-d9b18040525c",
   "metadata": {},
   "outputs": [
    {
     "data": {
      "text/html": [
       "<div>\n",
       "<style scoped>\n",
       "    .dataframe tbody tr th:only-of-type {\n",
       "        vertical-align: middle;\n",
       "    }\n",
       "\n",
       "    .dataframe tbody tr th {\n",
       "        vertical-align: top;\n",
       "    }\n",
       "\n",
       "    .dataframe thead th {\n",
       "        text-align: right;\n",
       "    }\n",
       "</style>\n",
       "<table border=\"1\" class=\"dataframe\">\n",
       "  <thead>\n",
       "    <tr style=\"text-align: right;\">\n",
       "      <th></th>\n",
       "      <th>selftext</th>\n",
       "      <th>title</th>\n",
       "      <th>subreddit</th>\n",
       "      <th>status_length</th>\n",
       "    </tr>\n",
       "  </thead>\n",
       "  <tbody>\n",
       "    <tr>\n",
       "      <th>0</th>\n",
       "      <td></td>\n",
       "      <td>What would your first official act be if you r...</td>\n",
       "      <td>0</td>\n",
       "      <td>0</td>\n",
       "    </tr>\n",
       "    <tr>\n",
       "      <th>1</th>\n",
       "      <td>Can’t find anything from Google. There was an ...</td>\n",
       "      <td>Does anyone have the review of Camus’ The Rebe...</td>\n",
       "      <td>0</td>\n",
       "      <td>308</td>\n",
       "    </tr>\n",
       "    <tr>\n",
       "      <th>2</th>\n",
       "      <td>I'm need to describe how they would handle foo...</td>\n",
       "      <td>What are characteristics of Ecological Constru...</td>\n",
       "      <td>0</td>\n",
       "      <td>112</td>\n",
       "    </tr>\n",
       "    <tr>\n",
       "      <th>3</th>\n",
       "      <td>I can see how this cause would be eternal, nec...</td>\n",
       "      <td>How does the contingency argument show that th...</td>\n",
       "      <td>0</td>\n",
       "      <td>94</td>\n",
       "    </tr>\n",
       "    <tr>\n",
       "      <th>4</th>\n",
       "      <td>What was once a precious guideline has been di...</td>\n",
       "      <td>From my very limited perspective, philosophy a...</td>\n",
       "      <td>0</td>\n",
       "      <td>123</td>\n",
       "    </tr>\n",
       "  </tbody>\n",
       "</table>\n",
       "</div>"
      ],
      "text/plain": [
       "                                            selftext  \\\n",
       "0                                                      \n",
       "1  Can’t find anything from Google. There was an ...   \n",
       "2  I'm need to describe how they would handle foo...   \n",
       "3  I can see how this cause would be eternal, nec...   \n",
       "4  What was once a precious guideline has been di...   \n",
       "\n",
       "                                               title  subreddit  status_length  \n",
       "0  What would your first official act be if you r...          0              0  \n",
       "1  Does anyone have the review of Camus’ The Rebe...          0            308  \n",
       "2  What are characteristics of Ecological Constru...          0            112  \n",
       "3  How does the contingency argument show that th...          0             94  \n",
       "4  From my very limited perspective, philosophy a...          0            123  "
      ]
     },
     "execution_count": 22,
     "metadata": {},
     "output_type": "execute_result"
    }
   ],
   "source": [
    "all_posts['status_length'] = all_posts['selftext'].str.len()\n",
    "all_posts.head()"
   ]
  },
  {
   "cell_type": "code",
   "execution_count": 23,
   "id": "b086d31c-f2e8-4183-91c7-62b5449d07d5",
   "metadata": {},
   "outputs": [
    {
     "data": {
      "text/html": [
       "<div>\n",
       "<style scoped>\n",
       "    .dataframe tbody tr th:only-of-type {\n",
       "        vertical-align: middle;\n",
       "    }\n",
       "\n",
       "    .dataframe tbody tr th {\n",
       "        vertical-align: top;\n",
       "    }\n",
       "\n",
       "    .dataframe thead th {\n",
       "        text-align: right;\n",
       "    }\n",
       "</style>\n",
       "<table border=\"1\" class=\"dataframe\">\n",
       "  <thead>\n",
       "    <tr style=\"text-align: right;\">\n",
       "      <th></th>\n",
       "      <th>selftext</th>\n",
       "      <th>title</th>\n",
       "      <th>subreddit</th>\n",
       "      <th>status_length</th>\n",
       "      <th>status_word_count</th>\n",
       "    </tr>\n",
       "  </thead>\n",
       "  <tbody>\n",
       "    <tr>\n",
       "      <th>0</th>\n",
       "      <td></td>\n",
       "      <td>What would your first official act be if you r...</td>\n",
       "      <td>0</td>\n",
       "      <td>0</td>\n",
       "      <td>1</td>\n",
       "    </tr>\n",
       "    <tr>\n",
       "      <th>1</th>\n",
       "      <td>Can’t find anything from Google. There was an ...</td>\n",
       "      <td>Does anyone have the review of Camus’ The Rebe...</td>\n",
       "      <td>0</td>\n",
       "      <td>308</td>\n",
       "      <td>52</td>\n",
       "    </tr>\n",
       "    <tr>\n",
       "      <th>2</th>\n",
       "      <td>I'm need to describe how they would handle foo...</td>\n",
       "      <td>What are characteristics of Ecological Constru...</td>\n",
       "      <td>0</td>\n",
       "      <td>112</td>\n",
       "      <td>20</td>\n",
       "    </tr>\n",
       "    <tr>\n",
       "      <th>3</th>\n",
       "      <td>I can see how this cause would be eternal, nec...</td>\n",
       "      <td>How does the contingency argument show that th...</td>\n",
       "      <td>0</td>\n",
       "      <td>94</td>\n",
       "      <td>17</td>\n",
       "    </tr>\n",
       "    <tr>\n",
       "      <th>4</th>\n",
       "      <td>What was once a precious guideline has been di...</td>\n",
       "      <td>From my very limited perspective, philosophy a...</td>\n",
       "      <td>0</td>\n",
       "      <td>123</td>\n",
       "      <td>19</td>\n",
       "    </tr>\n",
       "  </tbody>\n",
       "</table>\n",
       "</div>"
      ],
      "text/plain": [
       "                                            selftext  \\\n",
       "0                                                      \n",
       "1  Can’t find anything from Google. There was an ...   \n",
       "2  I'm need to describe how they would handle foo...   \n",
       "3  I can see how this cause would be eternal, nec...   \n",
       "4  What was once a precious guideline has been di...   \n",
       "\n",
       "                                               title  subreddit  \\\n",
       "0  What would your first official act be if you r...          0   \n",
       "1  Does anyone have the review of Camus’ The Rebe...          0   \n",
       "2  What are characteristics of Ecological Constru...          0   \n",
       "3  How does the contingency argument show that th...          0   \n",
       "4  From my very limited perspective, philosophy a...          0   \n",
       "\n",
       "   status_length  status_word_count  \n",
       "0              0                  1  \n",
       "1            308                 52  \n",
       "2            112                 20  \n",
       "3             94                 17  \n",
       "4            123                 19  "
      ]
     },
     "execution_count": 23,
     "metadata": {},
     "output_type": "execute_result"
    }
   ],
   "source": [
    "all_posts['status_word_count'] = all_posts['selftext'].str.count(' ').add(1)\n",
    "all_posts.head()"
   ]
  },
  {
   "cell_type": "code",
   "execution_count": 24,
   "id": "20fef53e-ecab-41c6-a908-d02d1886f4d4",
   "metadata": {},
   "outputs": [
    {
     "data": {
      "image/png": "[encoded data removed]",
      "text/plain": [
       "<Figure size 864x720 with 1 Axes>"
      ]
     },
     "metadata": {
      "needs_background": "light"
     },
     "output_type": "display_data"
    }
   ],
   "source": [
    "plt.figure(figsize = (12,10))\n",
    "sns.histplot(data = all_posts[\"status_length\"] )\n",
    "plt.title('Distribution of Status Length for All Submissions')\n",
    "plt.tight_layout()\n",
    "plt.savefig('../visualizations /dist_sl_all.jpg', bbox_inches = 'tight');"
   ]
  },
  {
   "cell_type": "markdown",
   "id": "4158ba26-772c-40d7-99bb-e541431426a5",
   "metadata": {},
   "source": [
    "This histogram shows the distribution of status lengths for all the posts we pulled from both subreddits. The distribution is skewed to the right, ranges from 0 to over 20,000, and has a clear mode of 0. "
   ]
  },
  {
   "cell_type": "code",
   "execution_count": 25,
   "id": "1e1ed799-75cd-4849-a6ab-aeb453ac3ba0",
   "metadata": {},
   "outputs": [
    {
     "data": {
      "text/plain": [
       "count     4945.000000\n",
       "mean       528.678059\n",
       "std        999.546997\n",
       "min          0.000000\n",
       "25%          0.000000\n",
       "50%        264.000000\n",
       "75%        655.000000\n",
       "max      23361.000000\n",
       "Name: status_length, dtype: float64"
      ]
     },
     "execution_count": 25,
     "metadata": {},
     "output_type": "execute_result"
    }
   ],
   "source": [
    "all_posts['status_length'].describe()"
   ]
  },
  {
   "cell_type": "code",
   "execution_count": 26,
   "id": "82d96aee-9eed-4569-942a-0dd30caac3e1",
   "metadata": {},
   "outputs": [
    {
     "data": {
      "text/html": [
       "<div>\n",
       "<style scoped>\n",
       "    .dataframe tbody tr th:only-of-type {\n",
       "        vertical-align: middle;\n",
       "    }\n",
       "\n",
       "    .dataframe tbody tr th {\n",
       "        vertical-align: top;\n",
       "    }\n",
       "\n",
       "    .dataframe thead th {\n",
       "        text-align: right;\n",
       "    }\n",
       "</style>\n",
       "<table border=\"1\" class=\"dataframe\">\n",
       "  <thead>\n",
       "    <tr style=\"text-align: right;\">\n",
       "      <th></th>\n",
       "      <th>selftext</th>\n",
       "      <th>title</th>\n",
       "      <th>subreddit</th>\n",
       "      <th>status_length</th>\n",
       "      <th>status_word_count</th>\n",
       "    </tr>\n",
       "  </thead>\n",
       "  <tbody>\n",
       "    <tr>\n",
       "      <th>3878</th>\n",
       "      <td>*The purpose of this piece is not to be scient...</td>\n",
       "      <td>An inadequate attempt to create an abstract mo...</td>\n",
       "      <td>1</td>\n",
       "      <td>23361</td>\n",
       "      <td>3842</td>\n",
       "    </tr>\n",
       "  </tbody>\n",
       "</table>\n",
       "</div>"
      ],
      "text/plain": [
       "                                               selftext  \\\n",
       "3878  *The purpose of this piece is not to be scient...   \n",
       "\n",
       "                                                  title  subreddit  \\\n",
       "3878  An inadequate attempt to create an abstract mo...          1   \n",
       "\n",
       "      status_length  status_word_count  \n",
       "3878          23361               3842  "
      ]
     },
     "execution_count": 26,
     "metadata": {},
     "output_type": "execute_result"
    }
   ],
   "source": [
    "all_posts[all_posts['status_length']>=23361]"
   ]
  },
  {
   "cell_type": "code",
   "execution_count": 27,
   "id": "f795e1b3-e1ac-4026-8210-16422d8abe2a",
   "metadata": {},
   "outputs": [
    {
     "data": {
      "text/plain": [
       "0       1239\n",
       "9         19\n",
       "5         15\n",
       "134       11\n",
       "111       11\n",
       "        ... \n",
       "1119       1\n",
       "1617       1\n",
       "1696       1\n",
       "538        1\n",
       "1868       1\n",
       "Name: status_length, Length: 1486, dtype: int64"
      ]
     },
     "execution_count": 27,
     "metadata": {},
     "output_type": "execute_result"
    }
   ],
   "source": [
    "all_posts['status_length'].value_counts()"
   ]
  },
  {
   "cell_type": "code",
   "execution_count": 28,
   "id": "fe1a1568-d468-4c3b-a271-fd7f8190e8e3",
   "metadata": {},
   "outputs": [
    {
     "name": "stderr",
     "output_type": "stream",
     "text": [
      "/var/folders/r1/szl7szs91f5bkjddv3cxyk8r0000gn/T/ipykernel_2226/289705509.py:2: SettingWithCopyWarning: \n",
      "A value is trying to be set on a copy of a slice from a DataFrame.\n",
      "Try using .loc[row_indexer,col_indexer] = value instead\n",
      "\n",
      "See the caveats in the documentation: https://pandas.pydata.org/pandas-docs/stable/user_guide/indexing.html#returning-a-view-versus-a-copy\n",
      "  no_st['title_len'] = no_st['title'].str.len()\n"
     ]
    },
    {
     "data": {
      "text/plain": [
       "180     1\n",
       "278     1\n",
       "7       1\n",
       "287     1\n",
       "292     1\n",
       "       ..\n",
       "47     17\n",
       "58     17\n",
       "53     18\n",
       "43     18\n",
       "60     20\n",
       "Name: title_len, Length: 242, dtype: int64"
      ]
     },
     "execution_count": 28,
     "metadata": {},
     "output_type": "execute_result"
    }
   ],
   "source": [
    "no_st = all_posts[all_posts['status_length'] == 0]\n",
    "no_st['title_len'] = no_st['title'].str.len()\n",
    "no_st['title_len'].value_counts(ascending = True)"
   ]
  },
  {
   "cell_type": "code",
   "execution_count": 29,
   "id": "62fb639a-7a53-45d9-ab36-ddac1ac8c4c0",
   "metadata": {},
   "outputs": [
    {
     "data": {
      "text/plain": [
       "1    0.630347\n",
       "0    0.369653\n",
       "Name: subreddit, dtype: float64"
      ]
     },
     "execution_count": 29,
     "metadata": {},
     "output_type": "execute_result"
    }
   ],
   "source": [
    "no_st['subreddit'].value_counts(normalize= True)"
   ]
  },
  {
   "cell_type": "markdown",
   "id": "27a67ebc-4656-4d19-9521-2b04b8db84b4",
   "metadata": {},
   "source": [
    "There are 1,239 posts with no selftext (the body of the reddit post), but all of them have a title. Because of this (and our plan to count vectorize a concatenated string of text and title), we will not be dropping any of the posts with no self text because the title still could be helpful in building a model to classify the subreddit that a submission came from."
   ]
  },
  {
   "cell_type": "code",
   "execution_count": 30,
   "id": "8a929760-b95d-492f-bfc4-8392b7572ede",
   "metadata": {},
   "outputs": [
    {
     "data": {
      "image/png": "[encoded data removed]",
      "text/plain": [
       "<Figure size 864x720 with 1 Axes>"
      ]
     },
     "metadata": {
      "needs_background": "light"
     },
     "output_type": "display_data"
    }
   ],
   "source": [
    "plt.figure(figsize = (12,10))\n",
    "sns.histplot(data = all_posts[\"status_word_count\"] )\n",
    "plt.title('Distribution of Status Word Count for All Submissions')\n",
    "plt.tight_layout()\n",
    "plt.savefig('../visualizations /dist_swc_all.jpg', bbox_inches = 'tight');"
   ]
  },
  {
   "cell_type": "code",
   "execution_count": 31,
   "id": "0fd23191-ebad-481d-a418-359f47bb25b5",
   "metadata": {},
   "outputs": [
    {
     "data": {
      "text/plain": [
       "count    4945.000000\n",
       "mean       89.939939\n",
       "std       165.881850\n",
       "min         1.000000\n",
       "25%         1.000000\n",
       "50%        45.000000\n",
       "75%       112.000000\n",
       "max      3842.000000\n",
       "Name: status_word_count, dtype: float64"
      ]
     },
     "execution_count": 31,
     "metadata": {},
     "output_type": "execute_result"
    }
   ],
   "source": [
    "all_posts['status_word_count'].describe()"
   ]
  },
  {
   "cell_type": "markdown",
   "id": "066e09a7-4385-479e-adf6-35446460557d",
   "metadata": {},
   "source": [
    "This histogram shows the distribution of status word counts for all the posts we pulled from both subreddits. The distribution is skewed to the right, ranges from 0 to over 3500, and has a clear mode of 0. "
   ]
  },
  {
   "cell_type": "code",
   "execution_count": 32,
   "id": "3b83beda-4a33-415d-b699-34ed96f14033",
   "metadata": {},
   "outputs": [
    {
     "data": {
      "text/html": [
       "<div>\n",
       "<style scoped>\n",
       "    .dataframe tbody tr th:only-of-type {\n",
       "        vertical-align: middle;\n",
       "    }\n",
       "\n",
       "    .dataframe tbody tr th {\n",
       "        vertical-align: top;\n",
       "    }\n",
       "\n",
       "    .dataframe thead th {\n",
       "        text-align: right;\n",
       "    }\n",
       "</style>\n",
       "<table border=\"1\" class=\"dataframe\">\n",
       "  <thead>\n",
       "    <tr style=\"text-align: right;\">\n",
       "      <th></th>\n",
       "      <th>selftext</th>\n",
       "      <th>title</th>\n",
       "      <th>subreddit</th>\n",
       "      <th>status_length</th>\n",
       "      <th>status_word_count</th>\n",
       "      <th>title_len</th>\n",
       "    </tr>\n",
       "  </thead>\n",
       "  <tbody>\n",
       "    <tr>\n",
       "      <th>0</th>\n",
       "      <td></td>\n",
       "      <td>What would your first official act be if you r...</td>\n",
       "      <td>0</td>\n",
       "      <td>0</td>\n",
       "      <td>1</td>\n",
       "      <td>61</td>\n",
       "    </tr>\n",
       "    <tr>\n",
       "      <th>1</th>\n",
       "      <td>Can’t find anything from Google. There was an ...</td>\n",
       "      <td>Does anyone have the review of Camus’ The Rebe...</td>\n",
       "      <td>0</td>\n",
       "      <td>308</td>\n",
       "      <td>52</td>\n",
       "      <td>91</td>\n",
       "    </tr>\n",
       "    <tr>\n",
       "      <th>2</th>\n",
       "      <td>I'm need to describe how they would handle foo...</td>\n",
       "      <td>What are characteristics of Ecological Constru...</td>\n",
       "      <td>0</td>\n",
       "      <td>112</td>\n",
       "      <td>20</td>\n",
       "      <td>55</td>\n",
       "    </tr>\n",
       "    <tr>\n",
       "      <th>3</th>\n",
       "      <td>I can see how this cause would be eternal, nec...</td>\n",
       "      <td>How does the contingency argument show that th...</td>\n",
       "      <td>0</td>\n",
       "      <td>94</td>\n",
       "      <td>17</td>\n",
       "      <td>88</td>\n",
       "    </tr>\n",
       "    <tr>\n",
       "      <th>4</th>\n",
       "      <td>What was once a precious guideline has been di...</td>\n",
       "      <td>From my very limited perspective, philosophy a...</td>\n",
       "      <td>0</td>\n",
       "      <td>123</td>\n",
       "      <td>19</td>\n",
       "      <td>108</td>\n",
       "    </tr>\n",
       "  </tbody>\n",
       "</table>\n",
       "</div>"
      ],
      "text/plain": [
       "                                            selftext  \\\n",
       "0                                                      \n",
       "1  Can’t find anything from Google. There was an ...   \n",
       "2  I'm need to describe how they would handle foo...   \n",
       "3  I can see how this cause would be eternal, nec...   \n",
       "4  What was once a precious guideline has been di...   \n",
       "\n",
       "                                               title  subreddit  \\\n",
       "0  What would your first official act be if you r...          0   \n",
       "1  Does anyone have the review of Camus’ The Rebe...          0   \n",
       "2  What are characteristics of Ecological Constru...          0   \n",
       "3  How does the contingency argument show that th...          0   \n",
       "4  From my very limited perspective, philosophy a...          0   \n",
       "\n",
       "   status_length  status_word_count  title_len  \n",
       "0              0                  1         61  \n",
       "1            308                 52         91  \n",
       "2            112                 20         55  \n",
       "3             94                 17         88  \n",
       "4            123                 19        108  "
      ]
     },
     "execution_count": 32,
     "metadata": {},
     "output_type": "execute_result"
    }
   ],
   "source": [
    "all_posts['title_len'] = all_posts['title'].str.len()\n",
    "all_posts.head()"
   ]
  },
  {
   "cell_type": "code",
   "execution_count": 33,
   "id": "edfcf546-8ad9-4170-a62e-9c9f2405730c",
   "metadata": {},
   "outputs": [
    {
     "data": {
      "text/html": [
       "<div>\n",
       "<style scoped>\n",
       "    .dataframe tbody tr th:only-of-type {\n",
       "        vertical-align: middle;\n",
       "    }\n",
       "\n",
       "    .dataframe tbody tr th {\n",
       "        vertical-align: top;\n",
       "    }\n",
       "\n",
       "    .dataframe thead th {\n",
       "        text-align: right;\n",
       "    }\n",
       "</style>\n",
       "<table border=\"1\" class=\"dataframe\">\n",
       "  <thead>\n",
       "    <tr style=\"text-align: right;\">\n",
       "      <th></th>\n",
       "      <th>selftext</th>\n",
       "      <th>title</th>\n",
       "      <th>subreddit</th>\n",
       "      <th>status_length</th>\n",
       "      <th>status_word_count</th>\n",
       "      <th>title_len</th>\n",
       "      <th>title_word_count</th>\n",
       "    </tr>\n",
       "  </thead>\n",
       "  <tbody>\n",
       "    <tr>\n",
       "      <th>0</th>\n",
       "      <td></td>\n",
       "      <td>What would your first official act be if you r...</td>\n",
       "      <td>0</td>\n",
       "      <td>0</td>\n",
       "      <td>1</td>\n",
       "      <td>61</td>\n",
       "      <td>12</td>\n",
       "    </tr>\n",
       "    <tr>\n",
       "      <th>1</th>\n",
       "      <td>Can’t find anything from Google. There was an ...</td>\n",
       "      <td>Does anyone have the review of Camus’ The Rebe...</td>\n",
       "      <td>0</td>\n",
       "      <td>308</td>\n",
       "      <td>52</td>\n",
       "      <td>91</td>\n",
       "      <td>18</td>\n",
       "    </tr>\n",
       "    <tr>\n",
       "      <th>2</th>\n",
       "      <td>I'm need to describe how they would handle foo...</td>\n",
       "      <td>What are characteristics of Ecological Constru...</td>\n",
       "      <td>0</td>\n",
       "      <td>112</td>\n",
       "      <td>20</td>\n",
       "      <td>55</td>\n",
       "      <td>6</td>\n",
       "    </tr>\n",
       "    <tr>\n",
       "      <th>3</th>\n",
       "      <td>I can see how this cause would be eternal, nec...</td>\n",
       "      <td>How does the contingency argument show that th...</td>\n",
       "      <td>0</td>\n",
       "      <td>94</td>\n",
       "      <td>17</td>\n",
       "      <td>88</td>\n",
       "      <td>17</td>\n",
       "    </tr>\n",
       "    <tr>\n",
       "      <th>4</th>\n",
       "      <td>What was once a precious guideline has been di...</td>\n",
       "      <td>From my very limited perspective, philosophy a...</td>\n",
       "      <td>0</td>\n",
       "      <td>123</td>\n",
       "      <td>19</td>\n",
       "      <td>108</td>\n",
       "      <td>18</td>\n",
       "    </tr>\n",
       "  </tbody>\n",
       "</table>\n",
       "</div>"
      ],
      "text/plain": [
       "                                            selftext  \\\n",
       "0                                                      \n",
       "1  Can’t find anything from Google. There was an ...   \n",
       "2  I'm need to describe how they would handle foo...   \n",
       "3  I can see how this cause would be eternal, nec...   \n",
       "4  What was once a precious guideline has been di...   \n",
       "\n",
       "                                               title  subreddit  \\\n",
       "0  What would your first official act be if you r...          0   \n",
       "1  Does anyone have the review of Camus’ The Rebe...          0   \n",
       "2  What are characteristics of Ecological Constru...          0   \n",
       "3  How does the contingency argument show that th...          0   \n",
       "4  From my very limited perspective, philosophy a...          0   \n",
       "\n",
       "   status_length  status_word_count  title_len  title_word_count  \n",
       "0              0                  1         61                12  \n",
       "1            308                 52         91                18  \n",
       "2            112                 20         55                 6  \n",
       "3             94                 17         88                17  \n",
       "4            123                 19        108                18  "
      ]
     },
     "execution_count": 33,
     "metadata": {},
     "output_type": "execute_result"
    }
   ],
   "source": [
    "all_posts['title_word_count'] = all_posts['title'].str.count(' ').add(1)\n",
    "all_posts.head()"
   ]
  },
  {
   "cell_type": "code",
   "execution_count": 34,
   "id": "349409e2-ec3c-4aae-8ad7-119406f6ac02",
   "metadata": {},
   "outputs": [
    {
     "data": {
      "image/png": "[encoded data removed]",
      "text/plain": [
       "<Figure size 864x720 with 1 Axes>"
      ]
     },
     "metadata": {
      "needs_background": "light"
     },
     "output_type": "display_data"
    }
   ],
   "source": [
    "plt.figure(figsize = (12,10))\n",
    "sns.histplot(data = all_posts[\"title_word_count\"] )\n",
    "plt.title('Distribution of Title Word Count')\n",
    "plt.tight_layout()\n",
    "plt.savefig('../visualizations /dist_twc_all.jpg', bbox_inches = 'tight');"
   ]
  },
  {
   "cell_type": "markdown",
   "id": "8cebf769-ce66-4d86-bdcc-a2d7f3c7aeb0",
   "metadata": {},
   "source": [
    "This histogram shows the distribution of title word counts for all the posts we pulled from both subreddits. The distribution ranges from roughly 2 to 62, and is skewed to the right. "
   ]
  },
  {
   "cell_type": "code",
   "execution_count": 35,
   "id": "9ee3e182-8ed1-453a-be2d-3083d8bd16cc",
   "metadata": {},
   "outputs": [],
   "source": [
    "religion_lens = all_posts[all_posts['subreddit'] == 1]\n",
    "phil_lens = all_posts[all_posts['subreddit'] == 0]"
   ]
  },
  {
   "cell_type": "code",
   "execution_count": 36,
   "id": "65f1db2d-f487-4afe-9da4-ae4ed63e7a23",
   "metadata": {},
   "outputs": [
    {
     "data": {
      "image/png": "[encoded data removed]",
      "text/plain": [
       "<Figure size 864x720 with 1 Axes>"
      ]
     },
     "metadata": {
      "needs_background": "light"
     },
     "output_type": "display_data"
    }
   ],
   "source": [
    "plt.figure(figsize = (12,10))\n",
    "sns.histplot(data = religion_lens[\"title_word_count\"] )\n",
    "plt.title('Distribution of Title Word Count for Religion Subreddit')\n",
    "plt.tight_layout()\n",
    "plt.savefig('../visualizations /dist_twc_r.jpg', bbox_inches = 'tight');"
   ]
  },
  {
   "cell_type": "markdown",
   "id": "23ca991d-e3a2-4a4f-8f10-6658f20a90cf",
   "metadata": {},
   "source": [
    "This histogram shows the distribution of title word counts for posts from the Religion subreddit. The distribution ranges from roughly 2 to 52 and is skewed to the right. "
   ]
  },
  {
   "cell_type": "code",
   "execution_count": 37,
   "id": "75b2dd5f-0e27-443d-99a1-46122079090c",
   "metadata": {},
   "outputs": [
    {
     "data": {
      "image/png": "[encoded data removed]",
      "text/plain": [
       "<Figure size 864x720 with 1 Axes>"
      ]
     },
     "metadata": {
      "needs_background": "light"
     },
     "output_type": "display_data"
    }
   ],
   "source": [
    "plt.figure(figsize = (12,10))\n",
    "sns.histplot(data = phil_lens[\"title_word_count\"] )\n",
    "plt.title('Distribution of Title Word Count for AskPhilosophy Subreddit')\n",
    "plt.tight_layout()\n",
    "plt.savefig('../visualizations /dist_twc_p.jpg', bbox_inches = 'tight');"
   ]
  },
  {
   "cell_type": "markdown",
   "id": "751145f7-cb7a-476c-ac32-4aaf49f407a2",
   "metadata": {},
   "source": [
    "This histogram shows the distribution of title word counts for posts from the AskPhilosophy subreddit. The distribution ranges from roughly 2 to 62 and is skewed to the right. "
   ]
  },
  {
   "cell_type": "code",
   "execution_count": 38,
   "id": "c8e389df-df83-4d5a-a955-f8bfa9212eeb",
   "metadata": {},
   "outputs": [
    {
     "data": {
      "image/png": "[encoded data removed]",
      "text/plain": [
       "<Figure size 864x720 with 1 Axes>"
      ]
     },
     "metadata": {
      "needs_background": "light"
     },
     "output_type": "display_data"
    }
   ],
   "source": [
    "plt.figure(figsize = (12,10))\n",
    "sns.histplot(data = religion_lens[\"status_word_count\"] )\n",
    "plt.title('Distribution of Status Word Count for Religion Subreddit')\n",
    "plt.tight_layout()\n",
    "plt.savefig('../visualizations /dist_swc_r.jpg', bbox_inches = 'tight');"
   ]
  },
  {
   "cell_type": "markdown",
   "id": "256ec27d-ac89-49da-8eb2-5998a46a5487",
   "metadata": {},
   "source": [
    "This histogram shows the distribution of status word counts for posts from the Religion subreddit. The distribution ranges from roughly 0 to over 3500, is skewed to the right, and has a clear mode of 0. "
   ]
  },
  {
   "cell_type": "code",
   "execution_count": 39,
   "id": "179f3764-8595-4f22-aca3-ce5e455e8ae1",
   "metadata": {},
   "outputs": [
    {
     "data": {
      "image/png": "[encoded data removed]",
      "text/plain": [
       "<Figure size 864x720 with 1 Axes>"
      ]
     },
     "metadata": {
      "needs_background": "light"
     },
     "output_type": "display_data"
    }
   ],
   "source": [
    "plt.figure(figsize = (12,10))\n",
    "sns.histplot(data = phil_lens[\"status_word_count\"] )\n",
    "plt.title('Distribution of Status Word Count for AskPhilosophy Subreddit')\n",
    "plt.tight_layout()\n",
    "plt.savefig('../visualizations /dist_swc_p.jpg', bbox_inches = 'tight');"
   ]
  },
  {
   "cell_type": "markdown",
   "id": "ff3e8a78-8809-40c2-aaba-e3972ac97125",
   "metadata": {},
   "source": [
    "This histogram shows the distribution of status word counts for posts from the AskPhilosophy subreddit. The distribution ranges from roughly 0 to over 3000, is skewed to the right, and has a clear mode of 0. "
   ]
  },
  {
   "cell_type": "code",
   "execution_count": 40,
   "id": "a45fdf15-1fdf-44a0-8bf2-23fb5fc3c952",
   "metadata": {},
   "outputs": [
    {
     "name": "stdout",
     "output_type": "stream",
     "text": [
      " AskPhilosophy and Religion mean status length subreddit\n",
      "0    565.799787\n",
      "1    479.537124\n",
      "Name: status_length, dtype: float64\n",
      " AskPhilosophy and Religion status word count subreddit\n",
      "0    95.339368\n",
      "1    82.792293\n",
      "Name: status_word_count, dtype: float64\n"
     ]
    }
   ],
   "source": [
    "relphil_mean_sl = all_posts.groupby('subreddit').mean()['status_length']\n",
    "relphil_mean_swc = all_posts.groupby('subreddit').mean()['status_word_count']\n",
    "print(f' AskPhilosophy and Religion mean status length {relphil_mean_sl}')\n",
    "print(f' AskPhilosophy and Religion status word count {relphil_mean_swc}')"
   ]
  },
  {
   "cell_type": "code",
   "execution_count": 41,
   "id": "147d7ea2-cc61-4a1d-a57f-c3d38941f1c1",
   "metadata": {},
   "outputs": [
    {
     "data": {
      "text/html": [
       "<div>\n",
       "<style scoped>\n",
       "    .dataframe tbody tr th:only-of-type {\n",
       "        vertical-align: middle;\n",
       "    }\n",
       "\n",
       "    .dataframe tbody tr th {\n",
       "        vertical-align: top;\n",
       "    }\n",
       "\n",
       "    .dataframe thead th {\n",
       "        text-align: right;\n",
       "    }\n",
       "</style>\n",
       "<table border=\"1\" class=\"dataframe\">\n",
       "  <thead>\n",
       "    <tr style=\"text-align: right;\">\n",
       "      <th></th>\n",
       "      <th>status_length</th>\n",
       "    </tr>\n",
       "  </thead>\n",
       "  <tbody>\n",
       "    <tr>\n",
       "      <th>0</th>\n",
       "      <td>565.799787</td>\n",
       "    </tr>\n",
       "    <tr>\n",
       "      <th>1</th>\n",
       "      <td>479.537124</td>\n",
       "    </tr>\n",
       "  </tbody>\n",
       "</table>\n",
       "</div>"
      ],
      "text/plain": [
       "   status_length\n",
       "0     565.799787\n",
       "1     479.537124"
      ]
     },
     "execution_count": 41,
     "metadata": {},
     "output_type": "execute_result"
    }
   ],
   "source": [
    "relphil_sl = pd.DataFrame(relphil_mean_sl, index = [0,1])\n",
    "relphil_sl.head()"
   ]
  },
  {
   "cell_type": "code",
   "execution_count": 42,
   "id": "3f75b945-c7d9-45ec-8cab-8a90ce9f4df3",
   "metadata": {},
   "outputs": [
    {
     "data": {
      "text/html": [
       "<div>\n",
       "<style scoped>\n",
       "    .dataframe tbody tr th:only-of-type {\n",
       "        vertical-align: middle;\n",
       "    }\n",
       "\n",
       "    .dataframe tbody tr th {\n",
       "        vertical-align: top;\n",
       "    }\n",
       "\n",
       "    .dataframe thead th {\n",
       "        text-align: right;\n",
       "    }\n",
       "</style>\n",
       "<table border=\"1\" class=\"dataframe\">\n",
       "  <thead>\n",
       "    <tr style=\"text-align: right;\">\n",
       "      <th></th>\n",
       "      <th>status_length</th>\n",
       "      <th>subreddit</th>\n",
       "    </tr>\n",
       "  </thead>\n",
       "  <tbody>\n",
       "    <tr>\n",
       "      <th>0</th>\n",
       "      <td>565.799787</td>\n",
       "      <td>AskPhilosophy</td>\n",
       "    </tr>\n",
       "    <tr>\n",
       "      <th>1</th>\n",
       "      <td>479.537124</td>\n",
       "      <td>Religion</td>\n",
       "    </tr>\n",
       "  </tbody>\n",
       "</table>\n",
       "</div>"
      ],
      "text/plain": [
       "   status_length      subreddit\n",
       "0     565.799787  AskPhilosophy\n",
       "1     479.537124       Religion"
      ]
     },
     "execution_count": 42,
     "metadata": {},
     "output_type": "execute_result"
    }
   ],
   "source": [
    "relphil_sl['subreddit'] = ['AskPhilosophy', 'Religion']\n",
    "relphil_sl.head()"
   ]
  },
  {
   "cell_type": "code",
   "execution_count": 43,
   "id": "78866308-20f3-4da9-962b-ff4d4e317f40",
   "metadata": {},
   "outputs": [
    {
     "data": {
      "image/png": "[encoded data removed]",
      "text/plain": [
       "<Figure size 432x288 with 1 Axes>"
      ]
     },
     "metadata": {
      "needs_background": "light"
     },
     "output_type": "display_data"
    }
   ],
   "source": [
    "plt.title('Mean Status Length in Subreddit')\n",
    "plt.xlabel('Subreddit')\n",
    "plt.ylabel('Number of Characters')\n",
    "plt.bar(relphil_sl['subreddit'], relphil_sl['status_length'])\n",
    "plt.tight_layout()\n",
    "plt.savefig('../visualizations /bar_msl.jpg', bbox_inches = 'tight');\n"
   ]
  },
  {
   "cell_type": "markdown",
   "id": "f59c3d1a-fa3c-4083-9929-c3f96fe445c9",
   "metadata": {},
   "source": [
    "This bar plot shows the mean status length for the AskPhilosophy and Religion subreddits. The mean status length for the AskPhilosophy subreddit is higher, around 570, while the mean status length for the religion subreddit is around 480. "
   ]
  },
  {
   "cell_type": "code",
   "execution_count": 44,
   "id": "1fb4f012-9fe3-4903-b5d9-e6c82f0b62e2",
   "metadata": {},
   "outputs": [
    {
     "data": {
      "text/html": [
       "<div>\n",
       "<style scoped>\n",
       "    .dataframe tbody tr th:only-of-type {\n",
       "        vertical-align: middle;\n",
       "    }\n",
       "\n",
       "    .dataframe tbody tr th {\n",
       "        vertical-align: top;\n",
       "    }\n",
       "\n",
       "    .dataframe thead th {\n",
       "        text-align: right;\n",
       "    }\n",
       "</style>\n",
       "<table border=\"1\" class=\"dataframe\">\n",
       "  <thead>\n",
       "    <tr style=\"text-align: right;\">\n",
       "      <th></th>\n",
       "      <th>status_word_count</th>\n",
       "      <th>subreddit</th>\n",
       "    </tr>\n",
       "  </thead>\n",
       "  <tbody>\n",
       "    <tr>\n",
       "      <th>0</th>\n",
       "      <td>95.339368</td>\n",
       "      <td>AskPhilosophy</td>\n",
       "    </tr>\n",
       "    <tr>\n",
       "      <th>1</th>\n",
       "      <td>82.792293</td>\n",
       "      <td>Religion</td>\n",
       "    </tr>\n",
       "  </tbody>\n",
       "</table>\n",
       "</div>"
      ],
      "text/plain": [
       "   status_word_count      subreddit\n",
       "0          95.339368  AskPhilosophy\n",
       "1          82.792293       Religion"
      ]
     },
     "execution_count": 44,
     "metadata": {},
     "output_type": "execute_result"
    }
   ],
   "source": [
    "relphil_swc = pd.DataFrame(relphil_mean_swc, index = [0,1])\n",
    "\n",
    "relphil_swc['subreddit'] = ['AskPhilosophy', 'Religion']\n",
    "relphil_swc.head()"
   ]
  },
  {
   "cell_type": "code",
   "execution_count": 45,
   "id": "e798b179-6965-44f7-adbc-018457b78e1b",
   "metadata": {},
   "outputs": [
    {
     "data": {
      "image/png": "[encoded data removed]",
      "text/plain": [
       "<Figure size 432x288 with 1 Axes>"
      ]
     },
     "metadata": {
      "needs_background": "light"
     },
     "output_type": "display_data"
    }
   ],
   "source": [
    "plt.title('Mean Word Count in Subreddit')\n",
    "plt.xlabel('Subreddit')\n",
    "plt.ylabel('Word Count')\n",
    "plt.bar(relphil_swc['subreddit'], relphil_swc['status_word_count'])\n",
    "plt.tight_layout()\n",
    "plt.savefig('../visualizations /bar_mwc.jpg', bbox_inches = 'tight');"
   ]
  },
  {
   "cell_type": "markdown",
   "id": "785df63f-44bf-48fa-b903-1313557579c1",
   "metadata": {},
   "source": [
    "This bar plot shows the mean word count for the AskPhilosophy and Religion subreddits. The mean word count for the AskPhilosophy subreddit is higher, around 95, while the mean status length for the religion subreddit is around 80. "
   ]
  },
  {
   "cell_type": "code",
   "execution_count": 46,
   "id": "54aed73b-57fc-49af-9018-7427fbcb614c",
   "metadata": {
    "tags": []
   },
   "outputs": [
    {
     "data": {
      "text/html": [
       "<div>\n",
       "<style scoped>\n",
       "    .dataframe tbody tr th:only-of-type {\n",
       "        vertical-align: middle;\n",
       "    }\n",
       "\n",
       "    .dataframe tbody tr th {\n",
       "        vertical-align: top;\n",
       "    }\n",
       "\n",
       "    .dataframe thead th {\n",
       "        text-align: right;\n",
       "    }\n",
       "</style>\n",
       "<table border=\"1\" class=\"dataframe\">\n",
       "  <thead>\n",
       "    <tr style=\"text-align: right;\">\n",
       "      <th></th>\n",
       "      <th>selftext</th>\n",
       "      <th>title</th>\n",
       "      <th>subreddit</th>\n",
       "      <th>status_length</th>\n",
       "      <th>status_word_count</th>\n",
       "      <th>title_len</th>\n",
       "      <th>title_word_count</th>\n",
       "    </tr>\n",
       "  </thead>\n",
       "  <tbody>\n",
       "    <tr>\n",
       "      <th>0</th>\n",
       "      <td></td>\n",
       "      <td>what would your first official act be if you r...</td>\n",
       "      <td>0</td>\n",
       "      <td>0</td>\n",
       "      <td>1</td>\n",
       "      <td>61</td>\n",
       "      <td>12</td>\n",
       "    </tr>\n",
       "    <tr>\n",
       "      <th>1</th>\n",
       "      <td>can’t find anything from google. there was an ...</td>\n",
       "      <td>does anyone have the review of camus’ the rebe...</td>\n",
       "      <td>0</td>\n",
       "      <td>308</td>\n",
       "      <td>52</td>\n",
       "      <td>91</td>\n",
       "      <td>18</td>\n",
       "    </tr>\n",
       "    <tr>\n",
       "      <th>2</th>\n",
       "      <td>i'm need to describe how they would handle foo...</td>\n",
       "      <td>what are characteristics of ecological constru...</td>\n",
       "      <td>0</td>\n",
       "      <td>112</td>\n",
       "      <td>20</td>\n",
       "      <td>55</td>\n",
       "      <td>6</td>\n",
       "    </tr>\n",
       "    <tr>\n",
       "      <th>3</th>\n",
       "      <td>i can see how this cause would be eternal, nec...</td>\n",
       "      <td>how does the contingency argument show that th...</td>\n",
       "      <td>0</td>\n",
       "      <td>94</td>\n",
       "      <td>17</td>\n",
       "      <td>88</td>\n",
       "      <td>17</td>\n",
       "    </tr>\n",
       "    <tr>\n",
       "      <th>4</th>\n",
       "      <td>what was once a precious guideline has been di...</td>\n",
       "      <td>from my very limited perspective, philosophy a...</td>\n",
       "      <td>0</td>\n",
       "      <td>123</td>\n",
       "      <td>19</td>\n",
       "      <td>108</td>\n",
       "      <td>18</td>\n",
       "    </tr>\n",
       "  </tbody>\n",
       "</table>\n",
       "</div>"
      ],
      "text/plain": [
       "                                            selftext  \\\n",
       "0                                                      \n",
       "1  can’t find anything from google. there was an ...   \n",
       "2  i'm need to describe how they would handle foo...   \n",
       "3  i can see how this cause would be eternal, nec...   \n",
       "4  what was once a precious guideline has been di...   \n",
       "\n",
       "                                               title  subreddit  \\\n",
       "0  what would your first official act be if you r...          0   \n",
       "1  does anyone have the review of camus’ the rebe...          0   \n",
       "2  what are characteristics of ecological constru...          0   \n",
       "3  how does the contingency argument show that th...          0   \n",
       "4  from my very limited perspective, philosophy a...          0   \n",
       "\n",
       "   status_length  status_word_count  title_len  title_word_count  \n",
       "0              0                  1         61                12  \n",
       "1            308                 52         91                18  \n",
       "2            112                 20         55                 6  \n",
       "3             94                 17         88                17  \n",
       "4            123                 19        108                18  "
      ]
     },
     "execution_count": 46,
     "metadata": {},
     "output_type": "execute_result"
    }
   ],
   "source": [
    "all_posts['selftext'] = all_posts['selftext'].str.lower()\n",
    "all_posts['title'] = all_posts['title'].str.lower()\n",
    "all_posts.head()"
   ]
  },
  {
   "cell_type": "code",
   "execution_count": 47,
   "id": "f3cd705e-ee56-42b9-b647-7311a0db59e1",
   "metadata": {},
   "outputs": [
    {
     "data": {
      "text/html": [
       "<div>\n",
       "<style scoped>\n",
       "    .dataframe tbody tr th:only-of-type {\n",
       "        vertical-align: middle;\n",
       "    }\n",
       "\n",
       "    .dataframe tbody tr th {\n",
       "        vertical-align: top;\n",
       "    }\n",
       "\n",
       "    .dataframe thead th {\n",
       "        text-align: right;\n",
       "    }\n",
       "</style>\n",
       "<table border=\"1\" class=\"dataframe\">\n",
       "  <thead>\n",
       "    <tr style=\"text-align: right;\">\n",
       "      <th></th>\n",
       "      <th>selftext</th>\n",
       "      <th>title</th>\n",
       "      <th>subreddit</th>\n",
       "      <th>status_length</th>\n",
       "      <th>status_word_count</th>\n",
       "      <th>title_len</th>\n",
       "      <th>title_word_count</th>\n",
       "      <th>all_text</th>\n",
       "    </tr>\n",
       "  </thead>\n",
       "  <tbody>\n",
       "    <tr>\n",
       "      <th>0</th>\n",
       "      <td></td>\n",
       "      <td>what would your first official act be if you r...</td>\n",
       "      <td>0</td>\n",
       "      <td>0</td>\n",
       "      <td>1</td>\n",
       "      <td>61</td>\n",
       "      <td>12</td>\n",
       "      <td>what would your first official act be if you r...</td>\n",
       "    </tr>\n",
       "    <tr>\n",
       "      <th>1</th>\n",
       "      <td>can’t find anything from google. there was an ...</td>\n",
       "      <td>does anyone have the review of camus’ the rebe...</td>\n",
       "      <td>0</td>\n",
       "      <td>308</td>\n",
       "      <td>52</td>\n",
       "      <td>91</td>\n",
       "      <td>18</td>\n",
       "      <td>can’t find anything from google. there was an ...</td>\n",
       "    </tr>\n",
       "    <tr>\n",
       "      <th>2</th>\n",
       "      <td>i'm need to describe how they would handle foo...</td>\n",
       "      <td>what are characteristics of ecological constru...</td>\n",
       "      <td>0</td>\n",
       "      <td>112</td>\n",
       "      <td>20</td>\n",
       "      <td>55</td>\n",
       "      <td>6</td>\n",
       "      <td>i'm need to describe how they would handle foo...</td>\n",
       "    </tr>\n",
       "    <tr>\n",
       "      <th>3</th>\n",
       "      <td>i can see how this cause would be eternal, nec...</td>\n",
       "      <td>how does the contingency argument show that th...</td>\n",
       "      <td>0</td>\n",
       "      <td>94</td>\n",
       "      <td>17</td>\n",
       "      <td>88</td>\n",
       "      <td>17</td>\n",
       "      <td>i can see how this cause would be eternal, nec...</td>\n",
       "    </tr>\n",
       "    <tr>\n",
       "      <th>4</th>\n",
       "      <td>what was once a precious guideline has been di...</td>\n",
       "      <td>from my very limited perspective, philosophy a...</td>\n",
       "      <td>0</td>\n",
       "      <td>123</td>\n",
       "      <td>19</td>\n",
       "      <td>108</td>\n",
       "      <td>18</td>\n",
       "      <td>what was once a precious guideline has been di...</td>\n",
       "    </tr>\n",
       "  </tbody>\n",
       "</table>\n",
       "</div>"
      ],
      "text/plain": [
       "                                            selftext  \\\n",
       "0                                                      \n",
       "1  can’t find anything from google. there was an ...   \n",
       "2  i'm need to describe how they would handle foo...   \n",
       "3  i can see how this cause would be eternal, nec...   \n",
       "4  what was once a precious guideline has been di...   \n",
       "\n",
       "                                               title  subreddit  \\\n",
       "0  what would your first official act be if you r...          0   \n",
       "1  does anyone have the review of camus’ the rebe...          0   \n",
       "2  what are characteristics of ecological constru...          0   \n",
       "3  how does the contingency argument show that th...          0   \n",
       "4  from my very limited perspective, philosophy a...          0   \n",
       "\n",
       "   status_length  status_word_count  title_len  title_word_count  \\\n",
       "0              0                  1         61                12   \n",
       "1            308                 52         91                18   \n",
       "2            112                 20         55                 6   \n",
       "3             94                 17         88                17   \n",
       "4            123                 19        108                18   \n",
       "\n",
       "                                            all_text  \n",
       "0  what would your first official act be if you r...  \n",
       "1  can’t find anything from google. there was an ...  \n",
       "2  i'm need to describe how they would handle foo...  \n",
       "3  i can see how this cause would be eternal, nec...  \n",
       "4  what was once a precious guideline has been di...  "
      ]
     },
     "execution_count": 47,
     "metadata": {},
     "output_type": "execute_result"
    }
   ],
   "source": [
    "all_posts['all_text'] = all_posts['selftext'] + all_posts['title']\n",
    "all_posts.head()"
   ]
  },
  {
   "cell_type": "markdown",
   "id": "d1c080c6-2fef-42a1-948e-9808b987df20",
   "metadata": {},
   "source": [
    "##### Most Common Words"
   ]
  },
  {
   "cell_type": "code",
   "execution_count": 48,
   "id": "23244fef-fb9c-4a27-9ff5-fe3a7c6eab8e",
   "metadata": {},
   "outputs": [],
   "source": [
    "cvec= CountVectorizer(stop_words = 'english')\n",
    "X=all_posts['all_text']\n",
    "cvec.fit(X)\n",
    "all_text_transform = cvec.transform(X)\n",
    "all_text_cvec = pd.DataFrame(all_text_transform.todense(), columns = cvec.get_feature_names_out())"
   ]
  },
  {
   "cell_type": "code",
   "execution_count": 49,
   "id": "8e97b2ae-a444-42b4-8af4-dcc8749e3ba7",
   "metadata": {},
   "outputs": [
    {
     "data": {
      "text/html": [
       "<div>\n",
       "<style scoped>\n",
       "    .dataframe tbody tr th:only-of-type {\n",
       "        vertical-align: middle;\n",
       "    }\n",
       "\n",
       "    .dataframe tbody tr th {\n",
       "        vertical-align: top;\n",
       "    }\n",
       "\n",
       "    .dataframe thead th {\n",
       "        text-align: right;\n",
       "    }\n",
       "</style>\n",
       "<table border=\"1\" class=\"dataframe\">\n",
       "  <thead>\n",
       "    <tr style=\"text-align: right;\">\n",
       "      <th></th>\n",
       "      <th>subreddit</th>\n",
       "    </tr>\n",
       "  </thead>\n",
       "  <tbody>\n",
       "    <tr>\n",
       "      <th>0</th>\n",
       "      <td>0</td>\n",
       "    </tr>\n",
       "    <tr>\n",
       "      <th>1</th>\n",
       "      <td>0</td>\n",
       "    </tr>\n",
       "    <tr>\n",
       "      <th>2</th>\n",
       "      <td>0</td>\n",
       "    </tr>\n",
       "    <tr>\n",
       "      <th>3</th>\n",
       "      <td>0</td>\n",
       "    </tr>\n",
       "    <tr>\n",
       "      <th>4</th>\n",
       "      <td>0</td>\n",
       "    </tr>\n",
       "    <tr>\n",
       "      <th>...</th>\n",
       "      <td>...</td>\n",
       "    </tr>\n",
       "    <tr>\n",
       "      <th>4940</th>\n",
       "      <td>1</td>\n",
       "    </tr>\n",
       "    <tr>\n",
       "      <th>4941</th>\n",
       "      <td>1</td>\n",
       "    </tr>\n",
       "    <tr>\n",
       "      <th>4942</th>\n",
       "      <td>1</td>\n",
       "    </tr>\n",
       "    <tr>\n",
       "      <th>4943</th>\n",
       "      <td>1</td>\n",
       "    </tr>\n",
       "    <tr>\n",
       "      <th>4944</th>\n",
       "      <td>1</td>\n",
       "    </tr>\n",
       "  </tbody>\n",
       "</table>\n",
       "<p>4945 rows × 1 columns</p>\n",
       "</div>"
      ],
      "text/plain": [
       "      subreddit\n",
       "0             0\n",
       "1             0\n",
       "2             0\n",
       "3             0\n",
       "4             0\n",
       "...         ...\n",
       "4940          1\n",
       "4941          1\n",
       "4942          1\n",
       "4943          1\n",
       "4944          1\n",
       "\n",
       "[4945 rows x 1 columns]"
      ]
     },
     "execution_count": 49,
     "metadata": {},
     "output_type": "execute_result"
    }
   ],
   "source": [
    "subreddit_df = all_posts[['subreddit']]\n",
    "subreddit_df.reset_index(drop=True)"
   ]
  },
  {
   "cell_type": "code",
   "execution_count": 50,
   "id": "0fa5d03a-bacd-4744-bb17-bf9d19a40c15",
   "metadata": {},
   "outputs": [
    {
     "data": {
      "text/html": [
       "<div>\n",
       "<style scoped>\n",
       "    .dataframe tbody tr th:only-of-type {\n",
       "        vertical-align: middle;\n",
       "    }\n",
       "\n",
       "    .dataframe tbody tr th {\n",
       "        vertical-align: top;\n",
       "    }\n",
       "\n",
       "    .dataframe thead th {\n",
       "        text-align: right;\n",
       "    }\n",
       "</style>\n",
       "<table border=\"1\" class=\"dataframe\">\n",
       "  <thead>\n",
       "    <tr style=\"text-align: right;\">\n",
       "      <th></th>\n",
       "      <th>00</th>\n",
       "      <th>000</th>\n",
       "      <th>00000001</th>\n",
       "      <th>000001</th>\n",
       "      <th>00022</th>\n",
       "      <th>000m</th>\n",
       "      <th>0010</th>\n",
       "      <th>00788r001700210016</th>\n",
       "      <th>01</th>\n",
       "      <th>010</th>\n",
       "      <th>...</th>\n",
       "      <th>ธรรมะ</th>\n",
       "      <th>บช</th>\n",
       "      <th>บทสวด</th>\n",
       "      <th>บทสวดมนต</th>\n",
       "      <th>มาละปะร</th>\n",
       "      <th>สอนใจ</th>\n",
       "      <th>อค</th>\n",
       "      <th>โพชฌ</th>\n",
       "      <th>ๆในการใช</th>\n",
       "      <th>ᴛʀᴜᴇ</th>\n",
       "    </tr>\n",
       "  </thead>\n",
       "  <tbody>\n",
       "    <tr>\n",
       "      <th>0</th>\n",
       "      <td>0</td>\n",
       "      <td>0</td>\n",
       "      <td>0</td>\n",
       "      <td>0</td>\n",
       "      <td>0</td>\n",
       "      <td>0</td>\n",
       "      <td>0</td>\n",
       "      <td>0</td>\n",
       "      <td>0</td>\n",
       "      <td>0</td>\n",
       "      <td>...</td>\n",
       "      <td>0</td>\n",
       "      <td>0</td>\n",
       "      <td>0</td>\n",
       "      <td>0</td>\n",
       "      <td>0</td>\n",
       "      <td>0</td>\n",
       "      <td>0</td>\n",
       "      <td>0</td>\n",
       "      <td>0</td>\n",
       "      <td>0</td>\n",
       "    </tr>\n",
       "    <tr>\n",
       "      <th>1</th>\n",
       "      <td>0</td>\n",
       "      <td>0</td>\n",
       "      <td>0</td>\n",
       "      <td>0</td>\n",
       "      <td>0</td>\n",
       "      <td>0</td>\n",
       "      <td>0</td>\n",
       "      <td>0</td>\n",
       "      <td>0</td>\n",
       "      <td>0</td>\n",
       "      <td>...</td>\n",
       "      <td>0</td>\n",
       "      <td>0</td>\n",
       "      <td>0</td>\n",
       "      <td>0</td>\n",
       "      <td>0</td>\n",
       "      <td>0</td>\n",
       "      <td>0</td>\n",
       "      <td>0</td>\n",
       "      <td>0</td>\n",
       "      <td>0</td>\n",
       "    </tr>\n",
       "    <tr>\n",
       "      <th>2</th>\n",
       "      <td>0</td>\n",
       "      <td>0</td>\n",
       "      <td>0</td>\n",
       "      <td>0</td>\n",
       "      <td>0</td>\n",
       "      <td>0</td>\n",
       "      <td>0</td>\n",
       "      <td>0</td>\n",
       "      <td>0</td>\n",
       "      <td>0</td>\n",
       "      <td>...</td>\n",
       "      <td>0</td>\n",
       "      <td>0</td>\n",
       "      <td>0</td>\n",
       "      <td>0</td>\n",
       "      <td>0</td>\n",
       "      <td>0</td>\n",
       "      <td>0</td>\n",
       "      <td>0</td>\n",
       "      <td>0</td>\n",
       "      <td>0</td>\n",
       "    </tr>\n",
       "    <tr>\n",
       "      <th>3</th>\n",
       "      <td>0</td>\n",
       "      <td>0</td>\n",
       "      <td>0</td>\n",
       "      <td>0</td>\n",
       "      <td>0</td>\n",
       "      <td>0</td>\n",
       "      <td>0</td>\n",
       "      <td>0</td>\n",
       "      <td>0</td>\n",
       "      <td>0</td>\n",
       "      <td>...</td>\n",
       "      <td>0</td>\n",
       "      <td>0</td>\n",
       "      <td>0</td>\n",
       "      <td>0</td>\n",
       "      <td>0</td>\n",
       "      <td>0</td>\n",
       "      <td>0</td>\n",
       "      <td>0</td>\n",
       "      <td>0</td>\n",
       "      <td>0</td>\n",
       "    </tr>\n",
       "    <tr>\n",
       "      <th>4</th>\n",
       "      <td>0</td>\n",
       "      <td>0</td>\n",
       "      <td>0</td>\n",
       "      <td>0</td>\n",
       "      <td>0</td>\n",
       "      <td>0</td>\n",
       "      <td>0</td>\n",
       "      <td>0</td>\n",
       "      <td>0</td>\n",
       "      <td>0</td>\n",
       "      <td>...</td>\n",
       "      <td>0</td>\n",
       "      <td>0</td>\n",
       "      <td>0</td>\n",
       "      <td>0</td>\n",
       "      <td>0</td>\n",
       "      <td>0</td>\n",
       "      <td>0</td>\n",
       "      <td>0</td>\n",
       "      <td>0</td>\n",
       "      <td>0</td>\n",
       "    </tr>\n",
       "    <tr>\n",
       "      <th>...</th>\n",
       "      <td>...</td>\n",
       "      <td>...</td>\n",
       "      <td>...</td>\n",
       "      <td>...</td>\n",
       "      <td>...</td>\n",
       "      <td>...</td>\n",
       "      <td>...</td>\n",
       "      <td>...</td>\n",
       "      <td>...</td>\n",
       "      <td>...</td>\n",
       "      <td>...</td>\n",
       "      <td>...</td>\n",
       "      <td>...</td>\n",
       "      <td>...</td>\n",
       "      <td>...</td>\n",
       "      <td>...</td>\n",
       "      <td>...</td>\n",
       "      <td>...</td>\n",
       "      <td>...</td>\n",
       "      <td>...</td>\n",
       "      <td>...</td>\n",
       "    </tr>\n",
       "    <tr>\n",
       "      <th>4940</th>\n",
       "      <td>0</td>\n",
       "      <td>0</td>\n",
       "      <td>0</td>\n",
       "      <td>0</td>\n",
       "      <td>0</td>\n",
       "      <td>0</td>\n",
       "      <td>0</td>\n",
       "      <td>0</td>\n",
       "      <td>0</td>\n",
       "      <td>0</td>\n",
       "      <td>...</td>\n",
       "      <td>0</td>\n",
       "      <td>0</td>\n",
       "      <td>0</td>\n",
       "      <td>0</td>\n",
       "      <td>0</td>\n",
       "      <td>0</td>\n",
       "      <td>0</td>\n",
       "      <td>0</td>\n",
       "      <td>0</td>\n",
       "      <td>0</td>\n",
       "    </tr>\n",
       "    <tr>\n",
       "      <th>4941</th>\n",
       "      <td>0</td>\n",
       "      <td>0</td>\n",
       "      <td>0</td>\n",
       "      <td>0</td>\n",
       "      <td>0</td>\n",
       "      <td>0</td>\n",
       "      <td>0</td>\n",
       "      <td>0</td>\n",
       "      <td>0</td>\n",
       "      <td>0</td>\n",
       "      <td>...</td>\n",
       "      <td>0</td>\n",
       "      <td>0</td>\n",
       "      <td>0</td>\n",
       "      <td>0</td>\n",
       "      <td>0</td>\n",
       "      <td>0</td>\n",
       "      <td>0</td>\n",
       "      <td>0</td>\n",
       "      <td>0</td>\n",
       "      <td>0</td>\n",
       "    </tr>\n",
       "    <tr>\n",
       "      <th>4942</th>\n",
       "      <td>0</td>\n",
       "      <td>0</td>\n",
       "      <td>0</td>\n",
       "      <td>0</td>\n",
       "      <td>0</td>\n",
       "      <td>0</td>\n",
       "      <td>0</td>\n",
       "      <td>0</td>\n",
       "      <td>0</td>\n",
       "      <td>0</td>\n",
       "      <td>...</td>\n",
       "      <td>0</td>\n",
       "      <td>0</td>\n",
       "      <td>0</td>\n",
       "      <td>0</td>\n",
       "      <td>0</td>\n",
       "      <td>0</td>\n",
       "      <td>0</td>\n",
       "      <td>0</td>\n",
       "      <td>0</td>\n",
       "      <td>0</td>\n",
       "    </tr>\n",
       "    <tr>\n",
       "      <th>4943</th>\n",
       "      <td>0</td>\n",
       "      <td>0</td>\n",
       "      <td>0</td>\n",
       "      <td>0</td>\n",
       "      <td>0</td>\n",
       "      <td>0</td>\n",
       "      <td>0</td>\n",
       "      <td>0</td>\n",
       "      <td>0</td>\n",
       "      <td>0</td>\n",
       "      <td>...</td>\n",
       "      <td>0</td>\n",
       "      <td>0</td>\n",
       "      <td>0</td>\n",
       "      <td>0</td>\n",
       "      <td>0</td>\n",
       "      <td>0</td>\n",
       "      <td>0</td>\n",
       "      <td>0</td>\n",
       "      <td>0</td>\n",
       "      <td>0</td>\n",
       "    </tr>\n",
       "    <tr>\n",
       "      <th>4944</th>\n",
       "      <td>0</td>\n",
       "      <td>0</td>\n",
       "      <td>0</td>\n",
       "      <td>0</td>\n",
       "      <td>0</td>\n",
       "      <td>0</td>\n",
       "      <td>0</td>\n",
       "      <td>0</td>\n",
       "      <td>0</td>\n",
       "      <td>0</td>\n",
       "      <td>...</td>\n",
       "      <td>0</td>\n",
       "      <td>0</td>\n",
       "      <td>0</td>\n",
       "      <td>0</td>\n",
       "      <td>0</td>\n",
       "      <td>0</td>\n",
       "      <td>0</td>\n",
       "      <td>0</td>\n",
       "      <td>0</td>\n",
       "      <td>0</td>\n",
       "    </tr>\n",
       "  </tbody>\n",
       "</table>\n",
       "<p>4945 rows × 21964 columns</p>\n",
       "</div>"
      ],
      "text/plain": [
       "      00  000  00000001  000001  00022  000m  0010  00788r001700210016  01  \\\n",
       "0      0    0         0       0      0     0     0                   0   0   \n",
       "1      0    0         0       0      0     0     0                   0   0   \n",
       "2      0    0         0       0      0     0     0                   0   0   \n",
       "3      0    0         0       0      0     0     0                   0   0   \n",
       "4      0    0         0       0      0     0     0                   0   0   \n",
       "...   ..  ...       ...     ...    ...   ...   ...                 ...  ..   \n",
       "4940   0    0         0       0      0     0     0                   0   0   \n",
       "4941   0    0         0       0      0     0     0                   0   0   \n",
       "4942   0    0         0       0      0     0     0                   0   0   \n",
       "4943   0    0         0       0      0     0     0                   0   0   \n",
       "4944   0    0         0       0      0     0     0                   0   0   \n",
       "\n",
       "      010  ...  ธรรมะ  บช  บทสวด  บทสวดมนต  มาละปะร  สอนใจ  อค  โพชฌ  \\\n",
       "0       0  ...      0   0      0         0        0      0   0     0   \n",
       "1       0  ...      0   0      0         0        0      0   0     0   \n",
       "2       0  ...      0   0      0         0        0      0   0     0   \n",
       "3       0  ...      0   0      0         0        0      0   0     0   \n",
       "4       0  ...      0   0      0         0        0      0   0     0   \n",
       "...   ...  ...    ...  ..    ...       ...      ...    ...  ..   ...   \n",
       "4940    0  ...      0   0      0         0        0      0   0     0   \n",
       "4941    0  ...      0   0      0         0        0      0   0     0   \n",
       "4942    0  ...      0   0      0         0        0      0   0     0   \n",
       "4943    0  ...      0   0      0         0        0      0   0     0   \n",
       "4944    0  ...      0   0      0         0        0      0   0     0   \n",
       "\n",
       "      ๆในการใช  ᴛʀᴜᴇ  \n",
       "0            0     0  \n",
       "1            0     0  \n",
       "2            0     0  \n",
       "3            0     0  \n",
       "4            0     0  \n",
       "...        ...   ...  \n",
       "4940         0     0  \n",
       "4941         0     0  \n",
       "4942         0     0  \n",
       "4943         0     0  \n",
       "4944         0     0  \n",
       "\n",
       "[4945 rows x 21964 columns]"
      ]
     },
     "execution_count": 50,
     "metadata": {},
     "output_type": "execute_result"
    }
   ],
   "source": [
    "all_text_cvec"
   ]
  },
  {
   "cell_type": "code",
   "execution_count": 51,
   "id": "2b018c43-093a-492a-8742-46de896fb194",
   "metadata": {},
   "outputs": [
    {
     "data": {
      "text/html": [
       "<div>\n",
       "<style scoped>\n",
       "    .dataframe tbody tr th:only-of-type {\n",
       "        vertical-align: middle;\n",
       "    }\n",
       "\n",
       "    .dataframe tbody tr th {\n",
       "        vertical-align: top;\n",
       "    }\n",
       "\n",
       "    .dataframe thead th {\n",
       "        text-align: right;\n",
       "    }\n",
       "</style>\n",
       "<table border=\"1\" class=\"dataframe\">\n",
       "  <thead>\n",
       "    <tr style=\"text-align: right;\">\n",
       "      <th></th>\n",
       "      <th>00</th>\n",
       "      <th>000</th>\n",
       "      <th>00000001</th>\n",
       "      <th>000001</th>\n",
       "      <th>00022</th>\n",
       "      <th>000m</th>\n",
       "      <th>0010</th>\n",
       "      <th>00788r001700210016</th>\n",
       "      <th>01</th>\n",
       "      <th>010</th>\n",
       "      <th>...</th>\n",
       "      <th>บช</th>\n",
       "      <th>บทสวด</th>\n",
       "      <th>บทสวดมนต</th>\n",
       "      <th>มาละปะร</th>\n",
       "      <th>สอนใจ</th>\n",
       "      <th>อค</th>\n",
       "      <th>โพชฌ</th>\n",
       "      <th>ๆในการใช</th>\n",
       "      <th>ᴛʀᴜᴇ</th>\n",
       "      <th>subreddit_class</th>\n",
       "    </tr>\n",
       "  </thead>\n",
       "  <tbody>\n",
       "    <tr>\n",
       "      <th>0</th>\n",
       "      <td>0</td>\n",
       "      <td>0</td>\n",
       "      <td>0</td>\n",
       "      <td>0</td>\n",
       "      <td>0</td>\n",
       "      <td>0</td>\n",
       "      <td>0</td>\n",
       "      <td>0</td>\n",
       "      <td>0</td>\n",
       "      <td>0</td>\n",
       "      <td>...</td>\n",
       "      <td>0</td>\n",
       "      <td>0</td>\n",
       "      <td>0</td>\n",
       "      <td>0</td>\n",
       "      <td>0</td>\n",
       "      <td>0</td>\n",
       "      <td>0</td>\n",
       "      <td>0</td>\n",
       "      <td>0</td>\n",
       "      <td>0.0</td>\n",
       "    </tr>\n",
       "    <tr>\n",
       "      <th>1</th>\n",
       "      <td>0</td>\n",
       "      <td>0</td>\n",
       "      <td>0</td>\n",
       "      <td>0</td>\n",
       "      <td>0</td>\n",
       "      <td>0</td>\n",
       "      <td>0</td>\n",
       "      <td>0</td>\n",
       "      <td>0</td>\n",
       "      <td>0</td>\n",
       "      <td>...</td>\n",
       "      <td>0</td>\n",
       "      <td>0</td>\n",
       "      <td>0</td>\n",
       "      <td>0</td>\n",
       "      <td>0</td>\n",
       "      <td>0</td>\n",
       "      <td>0</td>\n",
       "      <td>0</td>\n",
       "      <td>0</td>\n",
       "      <td>0.0</td>\n",
       "    </tr>\n",
       "    <tr>\n",
       "      <th>2</th>\n",
       "      <td>0</td>\n",
       "      <td>0</td>\n",
       "      <td>0</td>\n",
       "      <td>0</td>\n",
       "      <td>0</td>\n",
       "      <td>0</td>\n",
       "      <td>0</td>\n",
       "      <td>0</td>\n",
       "      <td>0</td>\n",
       "      <td>0</td>\n",
       "      <td>...</td>\n",
       "      <td>0</td>\n",
       "      <td>0</td>\n",
       "      <td>0</td>\n",
       "      <td>0</td>\n",
       "      <td>0</td>\n",
       "      <td>0</td>\n",
       "      <td>0</td>\n",
       "      <td>0</td>\n",
       "      <td>0</td>\n",
       "      <td>0.0</td>\n",
       "    </tr>\n",
       "    <tr>\n",
       "      <th>3</th>\n",
       "      <td>0</td>\n",
       "      <td>0</td>\n",
       "      <td>0</td>\n",
       "      <td>0</td>\n",
       "      <td>0</td>\n",
       "      <td>0</td>\n",
       "      <td>0</td>\n",
       "      <td>0</td>\n",
       "      <td>0</td>\n",
       "      <td>0</td>\n",
       "      <td>...</td>\n",
       "      <td>0</td>\n",
       "      <td>0</td>\n",
       "      <td>0</td>\n",
       "      <td>0</td>\n",
       "      <td>0</td>\n",
       "      <td>0</td>\n",
       "      <td>0</td>\n",
       "      <td>0</td>\n",
       "      <td>0</td>\n",
       "      <td>0.0</td>\n",
       "    </tr>\n",
       "    <tr>\n",
       "      <th>4</th>\n",
       "      <td>0</td>\n",
       "      <td>0</td>\n",
       "      <td>0</td>\n",
       "      <td>0</td>\n",
       "      <td>0</td>\n",
       "      <td>0</td>\n",
       "      <td>0</td>\n",
       "      <td>0</td>\n",
       "      <td>0</td>\n",
       "      <td>0</td>\n",
       "      <td>...</td>\n",
       "      <td>0</td>\n",
       "      <td>0</td>\n",
       "      <td>0</td>\n",
       "      <td>0</td>\n",
       "      <td>0</td>\n",
       "      <td>0</td>\n",
       "      <td>0</td>\n",
       "      <td>0</td>\n",
       "      <td>0</td>\n",
       "      <td>0.0</td>\n",
       "    </tr>\n",
       "  </tbody>\n",
       "</table>\n",
       "<p>5 rows × 21965 columns</p>\n",
       "</div>"
      ],
      "text/plain": [
       "   00  000  00000001  000001  00022  000m  0010  00788r001700210016  01  010  \\\n",
       "0   0    0         0       0      0     0     0                   0   0    0   \n",
       "1   0    0         0       0      0     0     0                   0   0    0   \n",
       "2   0    0         0       0      0     0     0                   0   0    0   \n",
       "3   0    0         0       0      0     0     0                   0   0    0   \n",
       "4   0    0         0       0      0     0     0                   0   0    0   \n",
       "\n",
       "   ...  บช  บทสวด  บทสวดมนต  มาละปะร  สอนใจ  อค  โพชฌ  ๆในการใช  ᴛʀᴜᴇ  \\\n",
       "0  ...   0      0         0        0      0   0     0         0     0   \n",
       "1  ...   0      0         0        0      0   0     0         0     0   \n",
       "2  ...   0      0         0        0      0   0     0         0     0   \n",
       "3  ...   0      0         0        0      0   0     0         0     0   \n",
       "4  ...   0      0         0        0      0   0     0         0     0   \n",
       "\n",
       "   subreddit_class  \n",
       "0              0.0  \n",
       "1              0.0  \n",
       "2              0.0  \n",
       "3              0.0  \n",
       "4              0.0  \n",
       "\n",
       "[5 rows x 21965 columns]"
      ]
     },
     "execution_count": 51,
     "metadata": {},
     "output_type": "execute_result"
    }
   ],
   "source": [
    "all_text_cvec['subreddit_class'] = subreddit_df['subreddit']\n",
    "all_text_cvec.head()"
   ]
  },
  {
   "cell_type": "code",
   "execution_count": 52,
   "id": "66231f7b-aa04-42fb-af42-1615d686ce40",
   "metadata": {},
   "outputs": [
    {
     "data": {
      "text/html": [
       "<div>\n",
       "<style scoped>\n",
       "    .dataframe tbody tr th:only-of-type {\n",
       "        vertical-align: middle;\n",
       "    }\n",
       "\n",
       "    .dataframe tbody tr th {\n",
       "        vertical-align: top;\n",
       "    }\n",
       "\n",
       "    .dataframe thead th {\n",
       "        text-align: right;\n",
       "    }\n",
       "</style>\n",
       "<table border=\"1\" class=\"dataframe\">\n",
       "  <thead>\n",
       "    <tr style=\"text-align: right;\">\n",
       "      <th></th>\n",
       "      <th>00</th>\n",
       "      <th>000</th>\n",
       "      <th>00000001</th>\n",
       "      <th>000001</th>\n",
       "      <th>00022</th>\n",
       "      <th>000m</th>\n",
       "      <th>0010</th>\n",
       "      <th>00788r001700210016</th>\n",
       "      <th>01</th>\n",
       "      <th>010</th>\n",
       "      <th>...</th>\n",
       "      <th>บช</th>\n",
       "      <th>บทสวด</th>\n",
       "      <th>บทสวดมนต</th>\n",
       "      <th>มาละปะร</th>\n",
       "      <th>สอนใจ</th>\n",
       "      <th>อค</th>\n",
       "      <th>โพชฌ</th>\n",
       "      <th>ๆในการใช</th>\n",
       "      <th>ᴛʀᴜᴇ</th>\n",
       "      <th>subreddit_class</th>\n",
       "    </tr>\n",
       "  </thead>\n",
       "  <tbody>\n",
       "    <tr>\n",
       "      <th>0</th>\n",
       "      <td>0</td>\n",
       "      <td>0</td>\n",
       "      <td>0</td>\n",
       "      <td>0</td>\n",
       "      <td>0</td>\n",
       "      <td>0</td>\n",
       "      <td>0</td>\n",
       "      <td>0</td>\n",
       "      <td>0</td>\n",
       "      <td>0</td>\n",
       "      <td>...</td>\n",
       "      <td>0</td>\n",
       "      <td>0</td>\n",
       "      <td>0</td>\n",
       "      <td>0</td>\n",
       "      <td>0</td>\n",
       "      <td>0</td>\n",
       "      <td>0</td>\n",
       "      <td>0</td>\n",
       "      <td>0</td>\n",
       "      <td>0.0</td>\n",
       "    </tr>\n",
       "    <tr>\n",
       "      <th>1</th>\n",
       "      <td>0</td>\n",
       "      <td>0</td>\n",
       "      <td>0</td>\n",
       "      <td>0</td>\n",
       "      <td>0</td>\n",
       "      <td>0</td>\n",
       "      <td>0</td>\n",
       "      <td>0</td>\n",
       "      <td>0</td>\n",
       "      <td>0</td>\n",
       "      <td>...</td>\n",
       "      <td>0</td>\n",
       "      <td>0</td>\n",
       "      <td>0</td>\n",
       "      <td>0</td>\n",
       "      <td>0</td>\n",
       "      <td>0</td>\n",
       "      <td>0</td>\n",
       "      <td>0</td>\n",
       "      <td>0</td>\n",
       "      <td>0.0</td>\n",
       "    </tr>\n",
       "    <tr>\n",
       "      <th>2</th>\n",
       "      <td>0</td>\n",
       "      <td>0</td>\n",
       "      <td>0</td>\n",
       "      <td>0</td>\n",
       "      <td>0</td>\n",
       "      <td>0</td>\n",
       "      <td>0</td>\n",
       "      <td>0</td>\n",
       "      <td>0</td>\n",
       "      <td>0</td>\n",
       "      <td>...</td>\n",
       "      <td>0</td>\n",
       "      <td>0</td>\n",
       "      <td>0</td>\n",
       "      <td>0</td>\n",
       "      <td>0</td>\n",
       "      <td>0</td>\n",
       "      <td>0</td>\n",
       "      <td>0</td>\n",
       "      <td>0</td>\n",
       "      <td>0.0</td>\n",
       "    </tr>\n",
       "    <tr>\n",
       "      <th>3</th>\n",
       "      <td>0</td>\n",
       "      <td>0</td>\n",
       "      <td>0</td>\n",
       "      <td>0</td>\n",
       "      <td>0</td>\n",
       "      <td>0</td>\n",
       "      <td>0</td>\n",
       "      <td>0</td>\n",
       "      <td>0</td>\n",
       "      <td>0</td>\n",
       "      <td>...</td>\n",
       "      <td>0</td>\n",
       "      <td>0</td>\n",
       "      <td>0</td>\n",
       "      <td>0</td>\n",
       "      <td>0</td>\n",
       "      <td>0</td>\n",
       "      <td>0</td>\n",
       "      <td>0</td>\n",
       "      <td>0</td>\n",
       "      <td>0.0</td>\n",
       "    </tr>\n",
       "    <tr>\n",
       "      <th>4</th>\n",
       "      <td>0</td>\n",
       "      <td>0</td>\n",
       "      <td>0</td>\n",
       "      <td>0</td>\n",
       "      <td>0</td>\n",
       "      <td>0</td>\n",
       "      <td>0</td>\n",
       "      <td>0</td>\n",
       "      <td>0</td>\n",
       "      <td>0</td>\n",
       "      <td>...</td>\n",
       "      <td>0</td>\n",
       "      <td>0</td>\n",
       "      <td>0</td>\n",
       "      <td>0</td>\n",
       "      <td>0</td>\n",
       "      <td>0</td>\n",
       "      <td>0</td>\n",
       "      <td>0</td>\n",
       "      <td>0</td>\n",
       "      <td>0.0</td>\n",
       "    </tr>\n",
       "  </tbody>\n",
       "</table>\n",
       "<p>5 rows × 21965 columns</p>\n",
       "</div>"
      ],
      "text/plain": [
       "   00  000  00000001  000001  00022  000m  0010  00788r001700210016  01  010  \\\n",
       "0   0    0         0       0      0     0     0                   0   0    0   \n",
       "1   0    0         0       0      0     0     0                   0   0    0   \n",
       "2   0    0         0       0      0     0     0                   0   0    0   \n",
       "3   0    0         0       0      0     0     0                   0   0    0   \n",
       "4   0    0         0       0      0     0     0                   0   0    0   \n",
       "\n",
       "   ...  บช  บทสวด  บทสวดมนต  มาละปะร  สอนใจ  อค  โพชฌ  ๆในการใช  ᴛʀᴜᴇ  \\\n",
       "0  ...   0      0         0        0      0   0     0         0     0   \n",
       "1  ...   0      0         0        0      0   0     0         0     0   \n",
       "2  ...   0      0         0        0      0   0     0         0     0   \n",
       "3  ...   0      0         0        0      0   0     0         0     0   \n",
       "4  ...   0      0         0        0      0   0     0         0     0   \n",
       "\n",
       "   subreddit_class  \n",
       "0              0.0  \n",
       "1              0.0  \n",
       "2              0.0  \n",
       "3              0.0  \n",
       "4              0.0  \n",
       "\n",
       "[5 rows x 21965 columns]"
      ]
     },
     "execution_count": 52,
     "metadata": {},
     "output_type": "execute_result"
    }
   ],
   "source": [
    "p = all_text_cvec[all_text_cvec['subreddit_class'] == 0]\n",
    "p.head()"
   ]
  },
  {
   "cell_type": "code",
   "execution_count": 53,
   "id": "212048e3-b227-463c-a8d1-43fe9213e206",
   "metadata": {},
   "outputs": [
    {
     "data": {
      "text/plain": [
       "philosophy    1335.0\n",
       "like          1063.0\n",
       "just           898.0\n",
       "people         866.0\n",
       "does           835.0\n",
       "know           722.0\n",
       "think          675.0\n",
       "don            606.0\n",
       "question       577.0\n",
       "life           559.0\n",
       "dtype: float64"
      ]
     },
     "execution_count": 53,
     "metadata": {},
     "output_type": "execute_result"
    }
   ],
   "source": [
    "p.sum().sort_values(ascending=False)[:10]"
   ]
  },
  {
   "cell_type": "code",
   "execution_count": 54,
   "id": "f2299d8f-bd25-4fbc-8ec4-be74f8f31037",
   "metadata": {},
   "outputs": [
    {
     "data": {
      "image/png": "[encoded data removed]",
      "text/plain": [
       "<Figure size 432x288 with 1 Axes>"
      ]
     },
     "metadata": {
      "needs_background": "light"
     },
     "output_type": "display_data"
    }
   ],
   "source": [
    "plt.title('Most Common Words in AskPhilosophy')\n",
    "plt.ylabel('Frequency')\n",
    "plt.xlabel('Words')\n",
    "p.sum().sort_values(ascending=False)[:10].plot(kind='bar')\n",
    "plt.tight_layout()\n",
    "plt.savefig('../visualizations /p_most_common.jpg', bbox_inches = 'tight');"
   ]
  },
  {
   "cell_type": "markdown",
   "id": "d84d52cd-d3f0-4207-963f-9396863b186b",
   "metadata": {},
   "source": [
    "This bar chart shows the 10 most common words in the AskPhilosophy subreddit and their frequency. The 10 most common words are: philosophy, like, just, people, does, know, think, don (CountVectorizer splits on punctuation like ', so don likely was part of the word don't), question, life."
   ]
  },
  {
   "cell_type": "code",
   "execution_count": 55,
   "id": "a7db80cc-f198-4824-a275-a1ff08f2e0d9",
   "metadata": {},
   "outputs": [
    {
     "data": {
      "text/html": [
       "<div>\n",
       "<style scoped>\n",
       "    .dataframe tbody tr th:only-of-type {\n",
       "        vertical-align: middle;\n",
       "    }\n",
       "\n",
       "    .dataframe tbody tr th {\n",
       "        vertical-align: top;\n",
       "    }\n",
       "\n",
       "    .dataframe thead th {\n",
       "        text-align: right;\n",
       "    }\n",
       "</style>\n",
       "<table border=\"1\" class=\"dataframe\">\n",
       "  <thead>\n",
       "    <tr style=\"text-align: right;\">\n",
       "      <th></th>\n",
       "      <th>00</th>\n",
       "      <th>000</th>\n",
       "      <th>00000001</th>\n",
       "      <th>000001</th>\n",
       "      <th>00022</th>\n",
       "      <th>000m</th>\n",
       "      <th>0010</th>\n",
       "      <th>00788r001700210016</th>\n",
       "      <th>01</th>\n",
       "      <th>010</th>\n",
       "      <th>...</th>\n",
       "      <th>บช</th>\n",
       "      <th>บทสวด</th>\n",
       "      <th>บทสวดมนต</th>\n",
       "      <th>มาละปะร</th>\n",
       "      <th>สอนใจ</th>\n",
       "      <th>อค</th>\n",
       "      <th>โพชฌ</th>\n",
       "      <th>ๆในการใช</th>\n",
       "      <th>ᴛʀᴜᴇ</th>\n",
       "      <th>subreddit_class</th>\n",
       "    </tr>\n",
       "  </thead>\n",
       "  <tbody>\n",
       "    <tr>\n",
       "      <th>2995</th>\n",
       "      <td>0</td>\n",
       "      <td>0</td>\n",
       "      <td>0</td>\n",
       "      <td>0</td>\n",
       "      <td>0</td>\n",
       "      <td>0</td>\n",
       "      <td>0</td>\n",
       "      <td>0</td>\n",
       "      <td>0</td>\n",
       "      <td>0</td>\n",
       "      <td>...</td>\n",
       "      <td>0</td>\n",
       "      <td>0</td>\n",
       "      <td>0</td>\n",
       "      <td>0</td>\n",
       "      <td>0</td>\n",
       "      <td>0</td>\n",
       "      <td>0</td>\n",
       "      <td>0</td>\n",
       "      <td>0</td>\n",
       "      <td>1.0</td>\n",
       "    </tr>\n",
       "    <tr>\n",
       "      <th>2996</th>\n",
       "      <td>0</td>\n",
       "      <td>0</td>\n",
       "      <td>0</td>\n",
       "      <td>0</td>\n",
       "      <td>0</td>\n",
       "      <td>0</td>\n",
       "      <td>0</td>\n",
       "      <td>0</td>\n",
       "      <td>0</td>\n",
       "      <td>0</td>\n",
       "      <td>...</td>\n",
       "      <td>0</td>\n",
       "      <td>0</td>\n",
       "      <td>0</td>\n",
       "      <td>0</td>\n",
       "      <td>0</td>\n",
       "      <td>0</td>\n",
       "      <td>0</td>\n",
       "      <td>0</td>\n",
       "      <td>0</td>\n",
       "      <td>1.0</td>\n",
       "    </tr>\n",
       "    <tr>\n",
       "      <th>2997</th>\n",
       "      <td>0</td>\n",
       "      <td>0</td>\n",
       "      <td>0</td>\n",
       "      <td>0</td>\n",
       "      <td>0</td>\n",
       "      <td>0</td>\n",
       "      <td>0</td>\n",
       "      <td>0</td>\n",
       "      <td>0</td>\n",
       "      <td>0</td>\n",
       "      <td>...</td>\n",
       "      <td>0</td>\n",
       "      <td>0</td>\n",
       "      <td>0</td>\n",
       "      <td>0</td>\n",
       "      <td>0</td>\n",
       "      <td>0</td>\n",
       "      <td>0</td>\n",
       "      <td>0</td>\n",
       "      <td>0</td>\n",
       "      <td>1.0</td>\n",
       "    </tr>\n",
       "    <tr>\n",
       "      <th>2999</th>\n",
       "      <td>0</td>\n",
       "      <td>0</td>\n",
       "      <td>0</td>\n",
       "      <td>0</td>\n",
       "      <td>0</td>\n",
       "      <td>0</td>\n",
       "      <td>0</td>\n",
       "      <td>0</td>\n",
       "      <td>0</td>\n",
       "      <td>0</td>\n",
       "      <td>...</td>\n",
       "      <td>0</td>\n",
       "      <td>0</td>\n",
       "      <td>0</td>\n",
       "      <td>0</td>\n",
       "      <td>0</td>\n",
       "      <td>0</td>\n",
       "      <td>0</td>\n",
       "      <td>0</td>\n",
       "      <td>0</td>\n",
       "      <td>1.0</td>\n",
       "    </tr>\n",
       "    <tr>\n",
       "      <th>3000</th>\n",
       "      <td>0</td>\n",
       "      <td>0</td>\n",
       "      <td>0</td>\n",
       "      <td>0</td>\n",
       "      <td>0</td>\n",
       "      <td>0</td>\n",
       "      <td>0</td>\n",
       "      <td>0</td>\n",
       "      <td>0</td>\n",
       "      <td>0</td>\n",
       "      <td>...</td>\n",
       "      <td>0</td>\n",
       "      <td>0</td>\n",
       "      <td>0</td>\n",
       "      <td>0</td>\n",
       "      <td>0</td>\n",
       "      <td>0</td>\n",
       "      <td>0</td>\n",
       "      <td>0</td>\n",
       "      <td>0</td>\n",
       "      <td>1.0</td>\n",
       "    </tr>\n",
       "    <tr>\n",
       "      <th>...</th>\n",
       "      <td>...</td>\n",
       "      <td>...</td>\n",
       "      <td>...</td>\n",
       "      <td>...</td>\n",
       "      <td>...</td>\n",
       "      <td>...</td>\n",
       "      <td>...</td>\n",
       "      <td>...</td>\n",
       "      <td>...</td>\n",
       "      <td>...</td>\n",
       "      <td>...</td>\n",
       "      <td>...</td>\n",
       "      <td>...</td>\n",
       "      <td>...</td>\n",
       "      <td>...</td>\n",
       "      <td>...</td>\n",
       "      <td>...</td>\n",
       "      <td>...</td>\n",
       "      <td>...</td>\n",
       "      <td>...</td>\n",
       "      <td>...</td>\n",
       "    </tr>\n",
       "    <tr>\n",
       "      <th>4940</th>\n",
       "      <td>0</td>\n",
       "      <td>0</td>\n",
       "      <td>0</td>\n",
       "      <td>0</td>\n",
       "      <td>0</td>\n",
       "      <td>0</td>\n",
       "      <td>0</td>\n",
       "      <td>0</td>\n",
       "      <td>0</td>\n",
       "      <td>0</td>\n",
       "      <td>...</td>\n",
       "      <td>0</td>\n",
       "      <td>0</td>\n",
       "      <td>0</td>\n",
       "      <td>0</td>\n",
       "      <td>0</td>\n",
       "      <td>0</td>\n",
       "      <td>0</td>\n",
       "      <td>0</td>\n",
       "      <td>0</td>\n",
       "      <td>1.0</td>\n",
       "    </tr>\n",
       "    <tr>\n",
       "      <th>4941</th>\n",
       "      <td>0</td>\n",
       "      <td>0</td>\n",
       "      <td>0</td>\n",
       "      <td>0</td>\n",
       "      <td>0</td>\n",
       "      <td>0</td>\n",
       "      <td>0</td>\n",
       "      <td>0</td>\n",
       "      <td>0</td>\n",
       "      <td>0</td>\n",
       "      <td>...</td>\n",
       "      <td>0</td>\n",
       "      <td>0</td>\n",
       "      <td>0</td>\n",
       "      <td>0</td>\n",
       "      <td>0</td>\n",
       "      <td>0</td>\n",
       "      <td>0</td>\n",
       "      <td>0</td>\n",
       "      <td>0</td>\n",
       "      <td>1.0</td>\n",
       "    </tr>\n",
       "    <tr>\n",
       "      <th>4942</th>\n",
       "      <td>0</td>\n",
       "      <td>0</td>\n",
       "      <td>0</td>\n",
       "      <td>0</td>\n",
       "      <td>0</td>\n",
       "      <td>0</td>\n",
       "      <td>0</td>\n",
       "      <td>0</td>\n",
       "      <td>0</td>\n",
       "      <td>0</td>\n",
       "      <td>...</td>\n",
       "      <td>0</td>\n",
       "      <td>0</td>\n",
       "      <td>0</td>\n",
       "      <td>0</td>\n",
       "      <td>0</td>\n",
       "      <td>0</td>\n",
       "      <td>0</td>\n",
       "      <td>0</td>\n",
       "      <td>0</td>\n",
       "      <td>1.0</td>\n",
       "    </tr>\n",
       "    <tr>\n",
       "      <th>4943</th>\n",
       "      <td>0</td>\n",
       "      <td>0</td>\n",
       "      <td>0</td>\n",
       "      <td>0</td>\n",
       "      <td>0</td>\n",
       "      <td>0</td>\n",
       "      <td>0</td>\n",
       "      <td>0</td>\n",
       "      <td>0</td>\n",
       "      <td>0</td>\n",
       "      <td>...</td>\n",
       "      <td>0</td>\n",
       "      <td>0</td>\n",
       "      <td>0</td>\n",
       "      <td>0</td>\n",
       "      <td>0</td>\n",
       "      <td>0</td>\n",
       "      <td>0</td>\n",
       "      <td>0</td>\n",
       "      <td>0</td>\n",
       "      <td>1.0</td>\n",
       "    </tr>\n",
       "    <tr>\n",
       "      <th>4944</th>\n",
       "      <td>0</td>\n",
       "      <td>0</td>\n",
       "      <td>0</td>\n",
       "      <td>0</td>\n",
       "      <td>0</td>\n",
       "      <td>0</td>\n",
       "      <td>0</td>\n",
       "      <td>0</td>\n",
       "      <td>0</td>\n",
       "      <td>0</td>\n",
       "      <td>...</td>\n",
       "      <td>0</td>\n",
       "      <td>0</td>\n",
       "      <td>0</td>\n",
       "      <td>0</td>\n",
       "      <td>0</td>\n",
       "      <td>0</td>\n",
       "      <td>0</td>\n",
       "      <td>0</td>\n",
       "      <td>0</td>\n",
       "      <td>1.0</td>\n",
       "    </tr>\n",
       "  </tbody>\n",
       "</table>\n",
       "<p>1347 rows × 21965 columns</p>\n",
       "</div>"
      ],
      "text/plain": [
       "      00  000  00000001  000001  00022  000m  0010  00788r001700210016  01  \\\n",
       "2995   0    0         0       0      0     0     0                   0   0   \n",
       "2996   0    0         0       0      0     0     0                   0   0   \n",
       "2997   0    0         0       0      0     0     0                   0   0   \n",
       "2999   0    0         0       0      0     0     0                   0   0   \n",
       "3000   0    0         0       0      0     0     0                   0   0   \n",
       "...   ..  ...       ...     ...    ...   ...   ...                 ...  ..   \n",
       "4940   0    0         0       0      0     0     0                   0   0   \n",
       "4941   0    0         0       0      0     0     0                   0   0   \n",
       "4942   0    0         0       0      0     0     0                   0   0   \n",
       "4943   0    0         0       0      0     0     0                   0   0   \n",
       "4944   0    0         0       0      0     0     0                   0   0   \n",
       "\n",
       "      010  ...  บช  บทสวด  บทสวดมนต  มาละปะร  สอนใจ  อค  โพชฌ  ๆในการใช  ᴛʀᴜᴇ  \\\n",
       "2995    0  ...   0      0         0        0      0   0     0         0     0   \n",
       "2996    0  ...   0      0         0        0      0   0     0         0     0   \n",
       "2997    0  ...   0      0         0        0      0   0     0         0     0   \n",
       "2999    0  ...   0      0         0        0      0   0     0         0     0   \n",
       "3000    0  ...   0      0         0        0      0   0     0         0     0   \n",
       "...   ...  ...  ..    ...       ...      ...    ...  ..   ...       ...   ...   \n",
       "4940    0  ...   0      0         0        0      0   0     0         0     0   \n",
       "4941    0  ...   0      0         0        0      0   0     0         0     0   \n",
       "4942    0  ...   0      0         0        0      0   0     0         0     0   \n",
       "4943    0  ...   0      0         0        0      0   0     0         0     0   \n",
       "4944    0  ...   0      0         0        0      0   0     0         0     0   \n",
       "\n",
       "      subreddit_class  \n",
       "2995              1.0  \n",
       "2996              1.0  \n",
       "2997              1.0  \n",
       "2999              1.0  \n",
       "3000              1.0  \n",
       "...               ...  \n",
       "4940              1.0  \n",
       "4941              1.0  \n",
       "4942              1.0  \n",
       "4943              1.0  \n",
       "4944              1.0  \n",
       "\n",
       "[1347 rows x 21965 columns]"
      ]
     },
     "execution_count": 55,
     "metadata": {},
     "output_type": "execute_result"
    }
   ],
   "source": [
    "r = all_text_cvec[all_text_cvec['subreddit_class'] == 1]\n",
    "r"
   ]
  },
  {
   "cell_type": "code",
   "execution_count": 56,
   "id": "a152df66-8f0c-4800-b5b3-981315068fe6",
   "metadata": {},
   "outputs": [
    {
     "name": "stderr",
     "output_type": "stream",
     "text": [
      "/var/folders/r1/szl7szs91f5bkjddv3cxyk8r0000gn/T/ipykernel_2226/2969731567.py:1: SettingWithCopyWarning: \n",
      "A value is trying to be set on a copy of a slice from a DataFrame\n",
      "\n",
      "See the caveats in the documentation: https://pandas.pydata.org/pandas-docs/stable/user_guide/indexing.html#returning-a-view-versus-a-copy\n",
      "  r.drop(columns = ['subreddit_class'], inplace = True)\n"
     ]
    }
   ],
   "source": [
    "r.drop(columns = ['subreddit_class'], inplace = True)"
   ]
  },
  {
   "cell_type": "code",
   "execution_count": 57,
   "id": "e6d3319c-18f5-46e8-9ae6-6c27a6eb0907",
   "metadata": {},
   "outputs": [
    {
     "data": {
      "text/plain": [
       "god          905\n",
       "religion     678\n",
       "people       585\n",
       "like         519\n",
       "just         485\n",
       "don          386\n",
       "believe      383\n",
       "know         353\n",
       "think        304\n",
       "religious    303\n",
       "dtype: int64"
      ]
     },
     "execution_count": 57,
     "metadata": {},
     "output_type": "execute_result"
    }
   ],
   "source": [
    "r.sum().sort_values(ascending=False)[:10]"
   ]
  },
  {
   "cell_type": "code",
   "execution_count": 58,
   "id": "cecd4e3d-45b2-4728-a521-76bc23ae4fed",
   "metadata": {},
   "outputs": [
    {
     "data": {
      "image/png": "[encoded data removed]",
      "text/plain": [
       "<Figure size 432x288 with 1 Axes>"
      ]
     },
     "metadata": {
      "needs_background": "light"
     },
     "output_type": "display_data"
    }
   ],
   "source": [
    "plt.title('Most Common Words in Religion')\n",
    "plt.ylabel('Frequency')\n",
    "plt.xlabel('Words')\n",
    "r.sum().sort_values(ascending=False)[:10].plot(kind='bar')\n",
    "plt.tight_layout()\n",
    "plt.savefig('../visualizations /r_most_common.jpg', bbox_inches = 'tight');"
   ]
  },
  {
   "cell_type": "markdown",
   "id": "9b56a963-194b-4eff-b0c5-a7bd0e99d300",
   "metadata": {},
   "source": [
    "This bar chart shows the 10 most common words in the Religion subreddit and their frequency. The 10 most common words are: god, religion, people, like, just, don (CountVectorizer splits on punctuation like ', so don likely was part of the word don't), believe, know, think, religious."
   ]
  },
  {
   "cell_type": "markdown",
   "id": "b0dc7b4e-5a5b-4d04-9a8b-e111926534ba",
   "metadata": {},
   "source": [
    "After EDA, it seems that there are going to be differences between the two subreddits that our model will be able to pick up on to predict which subreddit a submission came from. "
   ]
  },
  {
   "cell_type": "markdown",
   "id": "c1596801-361b-4b81-a189-1639ce8fce0a",
   "metadata": {},
   "source": [
    "# Classification Models"
   ]
  },
  {
   "cell_type": "markdown",
   "id": "de32a0e3-ef1d-4116-a2d3-f560e2aa40d8",
   "metadata": {},
   "source": [
    "#### Null Model"
   ]
  },
  {
   "cell_type": "code",
   "execution_count": 130,
   "id": "88714aa4-be4d-420c-bd99-51d413e44b0c",
   "metadata": {},
   "outputs": [
    {
     "data": {
      "text/plain": [
       "0    0.569666\n",
       "1    0.430334\n",
       "Name: subreddit, dtype: float64"
      ]
     },
     "execution_count": 130,
     "metadata": {},
     "output_type": "execute_result"
    }
   ],
   "source": [
    "all_posts['subreddit'].value_counts(normalize=True)"
   ]
  },
  {
   "cell_type": "markdown",
   "id": "34922b09-103b-4808-9f30-70a572d6c04e",
   "metadata": {},
   "source": [
    "Our baseline accuracy is 57% if we classified every submission as AskPhilosophy"
   ]
  },
  {
   "cell_type": "code",
   "execution_count": 59,
   "id": "a522f5a4-464c-4ed9-a4f8-a3baa6c09e11",
   "metadata": {},
   "outputs": [],
   "source": [
    "X = all_posts['all_text']\n",
    "y = all_posts['subreddit']\n",
    "\n",
    "X_train, X_test, y_train, y_test = train_test_split(X, y, random_state=222, stratify = y)"
   ]
  },
  {
   "cell_type": "markdown",
   "id": "046968b2-db76-47ce-8c83-a562c85c829e",
   "metadata": {},
   "source": [
    "### Logistic Regression "
   ]
  },
  {
   "cell_type": "code",
   "execution_count": 60,
   "id": "c0202ca0-02d8-4069-9004-6b482f667286",
   "metadata": {},
   "outputs": [
    {
     "name": "stderr",
     "output_type": "stream",
     "text": [
      "/Users/myacarrizosa/opt/anaconda3/lib/python3.9/site-packages/joblib/externals/loky/process_executor.py:702: UserWarning: A worker stopped while some jobs were given to the executor. This can be caused by a too short worker timeout or by a memory leak.\n",
      "  warnings.warn(\n"
     ]
    },
    {
     "data": {
      "text/plain": [
       "GridSearchCV(estimator=Pipeline(steps=[('cvec', CountVectorizer()),\n",
       "                                       ('logreg',\n",
       "                                        LogisticRegression(max_iter=1000,\n",
       "                                                           random_state=222))]),\n",
       "             n_jobs=-1,\n",
       "             param_grid={'cvec__max_df': [0.9, 1.0],\n",
       "                         'cvec__ngram_range': [(1, 1), (1, 2)],\n",
       "                         'cvec__stop_words': ['english', None],\n",
       "                         'logreg__solver': ['lbfgs', 'liblinear']})"
      ]
     },
     "execution_count": 60,
     "metadata": {},
     "output_type": "execute_result"
    }
   ],
   "source": [
    "pipe_cvec_logreg = Pipeline([\n",
    "    ('cvec', CountVectorizer()),\n",
    "    ('logreg', LogisticRegression(random_state = 222, max_iter=1000))\n",
    "])\n",
    "\n",
    "pipe_cvec_logreg_params = {\n",
    "    'cvec__stop_words': ['english', None],\n",
    "    'cvec__ngram_range': [(1,1), (1,2)],\n",
    "    'cvec__max_df': [0.9, 1.0], \n",
    "    'logreg__solver': ['lbfgs', 'liblinear']\n",
    "}\n",
    "\n",
    "gs_cvec_logreg = GridSearchCV(pipe_cvec_logreg, pipe_cvec_logreg_params, n_jobs = -1)\n",
    "gs_cvec_logreg.fit(X_train, y_train)"
   ]
  },
  {
   "cell_type": "markdown",
   "id": "e6ac2d27-e16d-4df5-ab38-59b60db8705e",
   "metadata": {},
   "source": [
    "Code adapted from General Assembly Lessons 4.04, 4.06, 5.05"
   ]
  },
  {
   "cell_type": "code",
   "execution_count": 61,
   "id": "a90954c8-b5f7-4bf9-8514-685c46f95537",
   "metadata": {},
   "outputs": [
    {
     "data": {
      "text/plain": [
       "0.8972503828511773"
      ]
     },
     "execution_count": 61,
     "metadata": {},
     "output_type": "execute_result"
    }
   ],
   "source": [
    "gs_cvec_logreg.best_score_"
   ]
  },
  {
   "cell_type": "code",
   "execution_count": 62,
   "id": "c1fb3ba5-54d9-4bd7-8310-c0ea89189ea4",
   "metadata": {},
   "outputs": [
    {
     "data": {
      "text/plain": [
       "{'cvec__max_df': 0.9,\n",
       " 'cvec__ngram_range': (1, 1),\n",
       " 'cvec__stop_words': 'english',\n",
       " 'logreg__solver': 'liblinear'}"
      ]
     },
     "execution_count": 62,
     "metadata": {},
     "output_type": "execute_result"
    }
   ],
   "source": [
    "gs_cvec_logreg.best_params_"
   ]
  },
  {
   "cell_type": "code",
   "execution_count": 111,
   "id": "6b7ee38d-813b-403b-8c88-8485a8d349bd",
   "metadata": {},
   "outputs": [
    {
     "name": "stdout",
     "output_type": "stream",
     "text": [
      " Train accuracy: 0.9805825242718447, Test accuracy: 0.8932902182700081\n"
     ]
    }
   ],
   "source": [
    "print(f' Train accuracy: {gs_cvec_logreg.score(X_train, y_train)}, Test accuracy: {gs_cvec_logreg.score(X_test, y_test)}')"
   ]
  },
  {
   "cell_type": "code",
   "execution_count": 64,
   "id": "d27defad-686e-4b4a-a102-212bcce9bdb6",
   "metadata": {},
   "outputs": [],
   "source": [
    "y_pred_logreg = gs_cvec_logreg.predict(X_test)"
   ]
  },
  {
   "cell_type": "code",
   "execution_count": 65,
   "id": "db8b6edf-e041-4f63-bd3c-8fe26f11458b",
   "metadata": {},
   "outputs": [],
   "source": [
    "tn_lr, fp_lr, fn_lr, tp_lr = confusion_matrix(y_test, y_pred_logreg).ravel()"
   ]
  },
  {
   "cell_type": "code",
   "execution_count": 66,
   "id": "056ab99b-abcd-4155-87dc-aced1e8dfa56",
   "metadata": {},
   "outputs": [
    {
     "data": {
      "image/png": "[encoded data removed]",
      "text/plain": [
       "<Figure size 432x288 with 2 Axes>"
      ]
     },
     "metadata": {
      "needs_background": "light"
     },
     "output_type": "display_data"
    }
   ],
   "source": [
    "cmd = ConfusionMatrixDisplay(confusion_matrix=confusion_matrix(y_test, y_pred_logreg),\n",
    "                      display_labels=['AskPhilosophy', 'Religion']);\n",
    "cmd.plot(cmap = 'BuGn')\n",
    "plt.title('Logistic Regression Confusion Matrix')\n",
    "plt.tight_layout()\n",
    "plt.savefig('../visualizations /lrcm.jpg', bbox_inches = 'tight');"
   ]
  },
  {
   "cell_type": "markdown",
   "id": "17e59605-e4df-415d-930e-63da13304568",
   "metadata": {},
   "source": [
    "This confusion matrix for our Logistic Regression model shows the number of posts that were correctly classified and misclassified. 635 posts were predicted to be from AskPhilosophy and were from AskPhilosophy, 70 posts were predicted to be from AskPhilosophy but were from Religion, 47 posts were predicted to be from Religion but were from AskPhilosophy, and 485 posts were predicted to be from Religion and were from Religion. \n",
    "\n",
    "\n",
    "Code adapted from General Assembly Lesson 4.03"
   ]
  },
  {
   "cell_type": "code",
   "execution_count": 110,
   "id": "da4af4df-86eb-4245-a4f7-5e5fcf7ac611",
   "metadata": {},
   "outputs": [
    {
     "name": "stdout",
     "output_type": "stream",
     "text": [
      " Sensitivity: 0.9116541353383458\n",
      " Specificity: 0.900709219858156\n",
      " Precision: 0.8738738738738738\n"
     ]
    }
   ],
   "source": [
    "#Sensitivity \n",
    "print(f' Sensitivity: {tp_lr / (tp_lr+fn_lr)}')\n",
    "#Specificity\n",
    "print(f' Specificity: {tn_lr / (tn_lr+fp_lr)}')\n",
    "#Precision \n",
    "print(f' Precision: {tp_lr/(tp_lr+fp_lr)}')"
   ]
  },
  {
   "cell_type": "markdown",
   "id": "3b9f273c-8abc-4f16-bdc6-63be89bdaeb6",
   "metadata": {},
   "source": [
    "### K Nearest Neighbors"
   ]
  },
  {
   "cell_type": "code",
   "execution_count": 68,
   "id": "18399d22-5016-43ad-9d2d-677103553af6",
   "metadata": {},
   "outputs": [],
   "source": [
    "X = all_posts['all_text']\n",
    "y = all_posts['subreddit']\n",
    "\n",
    "X_train, X_test, y_train, y_test = train_test_split(X, y, random_state=222, stratify = y)"
   ]
  },
  {
   "cell_type": "code",
   "execution_count": 69,
   "id": "4945ac8f-5ce5-4b30-b5d8-a80f235905ef",
   "metadata": {},
   "outputs": [
    {
     "name": "stderr",
     "output_type": "stream",
     "text": [
      "/Users/myacarrizosa/opt/anaconda3/lib/python3.9/site-packages/joblib/externals/loky/process_executor.py:702: UserWarning: A worker stopped while some jobs were given to the executor. This can be caused by a too short worker timeout or by a memory leak.\n",
      "  warnings.warn(\n"
     ]
    },
    {
     "data": {
      "text/plain": [
       "GridSearchCV(estimator=Pipeline(steps=[('cvec', CountVectorizer()),\n",
       "                                       ('ss', StandardScaler(with_mean=False)),\n",
       "                                       ('knn', KNeighborsClassifier())]),\n",
       "             n_jobs=-1,\n",
       "             param_grid={'cvec__max_df': [0.9, 1.0],\n",
       "                         'cvec__ngram_range': [(1, 1), (1, 2)],\n",
       "                         'cvec__stop_words': ['english', None],\n",
       "                         'knn__metric': ['minkowski', 'euclidean', 'manhattan'],\n",
       "                         'knn__n_neighbors': [3, 5, 7],\n",
       "                         'knn__weights': ['uniform', 'distance']})"
      ]
     },
     "execution_count": 69,
     "metadata": {},
     "output_type": "execute_result"
    }
   ],
   "source": [
    "#KNN\n",
    "pipe_cvec_knn = Pipeline([\n",
    "    ('cvec', CountVectorizer()),\n",
    "    ('ss', StandardScaler(with_mean = False)),\n",
    "    ('knn', KNeighborsClassifier())\n",
    "])\n",
    "\n",
    "pipe_cvec_knn_params = {\n",
    "    'cvec__stop_words': ['english', None],\n",
    "    'cvec__ngram_range': [(1,1), (1,2)],\n",
    "    'cvec__max_df': [0.9, 1.0],\n",
    "    'knn__n_neighbors': [3, 5, 7],\n",
    "    'knn__weights': ['uniform', 'distance'],\n",
    "    'knn__metric': ['minkowski', 'euclidean', 'manhattan']\n",
    "    \n",
    "}\n",
    "\n",
    "gs_cvec_knn = GridSearchCV(pipe_cvec_knn, pipe_cvec_knn_params, n_jobs = -1)\n",
    "gs_cvec_knn.fit(X_train, y_train)"
   ]
  },
  {
   "cell_type": "markdown",
   "id": "b765f9bf-a3b9-4238-ab2d-861133989854",
   "metadata": {},
   "source": [
    "Code adapted from General Assembly Lesson 4.01, 4.06, 5.05"
   ]
  },
  {
   "cell_type": "code",
   "execution_count": 70,
   "id": "8ef37706-5ca5-4956-9c1e-9f3229f08c5c",
   "metadata": {},
   "outputs": [
    {
     "data": {
      "text/plain": [
       "0.5480071732306092"
      ]
     },
     "execution_count": 70,
     "metadata": {},
     "output_type": "execute_result"
    }
   ],
   "source": [
    "gs_cvec_knn.best_score_"
   ]
  },
  {
   "cell_type": "code",
   "execution_count": 71,
   "id": "a3fd0823-5bf2-448c-8004-22546b0b05d6",
   "metadata": {},
   "outputs": [
    {
     "data": {
      "text/plain": [
       "{'cvec__max_df': 0.9,\n",
       " 'cvec__ngram_range': (1, 1),\n",
       " 'cvec__stop_words': 'english',\n",
       " 'knn__metric': 'minkowski',\n",
       " 'knn__n_neighbors': 3,\n",
       " 'knn__weights': 'distance'}"
      ]
     },
     "execution_count": 71,
     "metadata": {},
     "output_type": "execute_result"
    }
   ],
   "source": [
    "gs_cvec_knn.best_params_"
   ]
  },
  {
   "cell_type": "code",
   "execution_count": 112,
   "id": "ecf88f38-cb19-4b0d-a942-dbff7c92b7e5",
   "metadata": {},
   "outputs": [
    {
     "name": "stdout",
     "output_type": "stream",
     "text": [
      " Train accuracy: 0.999730312837109, Test accuracy: 0.5634599838318513\n"
     ]
    }
   ],
   "source": [
    "print(f' Train accuracy: {gs_cvec_knn.score(X_train, y_train)}, Test accuracy: {gs_cvec_knn.score(X_test, y_test)}')"
   ]
  },
  {
   "cell_type": "code",
   "execution_count": 73,
   "id": "a1568634-637e-4a66-bf26-7e096456e8f8",
   "metadata": {},
   "outputs": [
    {
     "data": {
      "image/png": "[encoded data removed]",
      "text/plain": [
       "<Figure size 432x288 with 2 Axes>"
      ]
     },
     "metadata": {
      "needs_background": "light"
     },
     "output_type": "display_data"
    }
   ],
   "source": [
    "y_pred_knn = gs_cvec_knn.predict(X_test)\n",
    "tn_k, fp_k, fn_k, tp_k = confusion_matrix(y_test, y_pred_knn).ravel()\n",
    "\n",
    "cmd = ConfusionMatrixDisplay(confusion_matrix=confusion_matrix(y_test, y_pred_knn),\n",
    "                      display_labels=['AskPhilosophy', 'Religion']);\n",
    "\n",
    "cmd.plot(cmap = 'BuGn')\n",
    "plt.title('K Nearest Neighbors Confusion Matrix')\n",
    "plt.tight_layout()\n",
    "plt.savefig('../visualizations /knncm.jpg', bbox_inches = 'tight');"
   ]
  },
  {
   "cell_type": "markdown",
   "id": "8b264d7a-7c4f-4d9a-a99b-699565fe94cb",
   "metadata": {},
   "source": [
    "This confusion matrix for our K Nearest Neighbors model shows the number of posts that were correctly classified and misclassified. 204 posts were predicted to be from AskPhilosophy and were from AskPhilosophy, 501 posts were predicted to be from AskPhilosophy but were from Religion, 38 posts were predicted to be from Religion but were from AskPhilosophy, and 494 posts were predicted to be from Religion and were from Religion. This model did much worse than the Logistic regression model at predicting the classification of posts from the AskPhilosophy subreddit.\n",
    "\n",
    "\n",
    "Code adapted from General Assembly Lesson 4.03"
   ]
  },
  {
   "cell_type": "code",
   "execution_count": 113,
   "id": "7df7dbc4-3d41-440b-abbb-c1d6826dd944",
   "metadata": {},
   "outputs": [
    {
     "name": "stdout",
     "output_type": "stream",
     "text": [
      " Sensitivity: 0.9285714285714286\n",
      " Specificity: 0.28936170212765955\n",
      " Precision: 0.4964824120603015\n"
     ]
    }
   ],
   "source": [
    "#Sensitivity \n",
    "print(f' Sensitivity: {tp_k / (tp_k+fn_k)}')\n",
    "#Specificity\n",
    "print(f' Specificity: {tn_k / (tn_k+fp_k)}')\n",
    "#Precision \n",
    "print(f' Precision: {tp_k/(tp_k+fp_k)}')"
   ]
  },
  {
   "cell_type": "markdown",
   "id": "302fac91-2919-4231-aa54-14210dce83b7",
   "metadata": {},
   "source": [
    "### Random Forest"
   ]
  },
  {
   "cell_type": "code",
   "execution_count": 75,
   "id": "b1b99b2d-d88e-4f20-a754-f97f617ed285",
   "metadata": {},
   "outputs": [],
   "source": [
    "X = all_posts['all_text']\n",
    "y = all_posts['subreddit']\n",
    "\n",
    "X_train, X_test, y_train, y_test = train_test_split(X, y, random_state=222, stratify = y)"
   ]
  },
  {
   "cell_type": "code",
   "execution_count": 76,
   "id": "963d1576-acbe-4ee7-a554-daa5b3d14176",
   "metadata": {},
   "outputs": [
    {
     "name": "stderr",
     "output_type": "stream",
     "text": [
      "/Users/myacarrizosa/opt/anaconda3/lib/python3.9/site-packages/joblib/externals/loky/process_executor.py:702: UserWarning: A worker stopped while some jobs were given to the executor. This can be caused by a too short worker timeout or by a memory leak.\n",
      "  warnings.warn(\n"
     ]
    },
    {
     "data": {
      "text/plain": [
       "GridSearchCV(estimator=Pipeline(steps=[('cvec', CountVectorizer()),\n",
       "                                       ('rf',\n",
       "                                        RandomForestClassifier(random_state=222))]),\n",
       "             n_jobs=-1,\n",
       "             param_grid={'cvec__max_df': [0.9, 1.0],\n",
       "                         'cvec__ngram_range': [(1, 1), (1, 2)],\n",
       "                         'cvec__stop_words': ['english', None],\n",
       "                         'rf__max_depth': [3, 5, 8],\n",
       "                         'rf__min_samples_leaf': [1, 2, 5],\n",
       "                         'rf__n_estimators': [100, 125, 150]})"
      ]
     },
     "execution_count": 76,
     "metadata": {},
     "output_type": "execute_result"
    }
   ],
   "source": [
    "pipe_cvec_rf = Pipeline([\n",
    "    ('cvec', CountVectorizer()),\n",
    "    ('rf', RandomForestClassifier(random_state =222))\n",
    "])\n",
    "\n",
    "pipe_cvec_rf_params = {\n",
    "    'cvec__stop_words': ['english', None],\n",
    "    'cvec__ngram_range': [(1,1), (1,2)],\n",
    "    'cvec__max_df': [0.9, 1.0],\n",
    "    'rf__n_estimators': [100, 125, 150],\n",
    "    'rf__max_depth': [3, 5, 8],\n",
    "    'rf__min_samples_leaf': [1, 2, 5]\n",
    "    \n",
    "}\n",
    "\n",
    "gs_cvec_rf = GridSearchCV(pipe_cvec_rf, pipe_cvec_rf_params, n_jobs = -1)\n",
    "gs_cvec_rf.fit(X_train, y_train)"
   ]
  },
  {
   "cell_type": "markdown",
   "id": "17e03a71-0807-4d41-8881-eefd04992f7d",
   "metadata": {},
   "source": [
    "Code adapted from General Assembly Lessons 4.06, 5.05, 6.03, 6.04"
   ]
  },
  {
   "cell_type": "code",
   "execution_count": 77,
   "id": "9e942960-a840-4681-a779-6b7a86b84aaa",
   "metadata": {},
   "outputs": [
    {
     "data": {
      "text/plain": [
       "0.7214094743389678"
      ]
     },
     "execution_count": 77,
     "metadata": {},
     "output_type": "execute_result"
    }
   ],
   "source": [
    "gs_cvec_rf.best_score_"
   ]
  },
  {
   "cell_type": "code",
   "execution_count": 78,
   "id": "a9dccddd-6e84-4ecc-b6f0-185014461c7e",
   "metadata": {},
   "outputs": [
    {
     "data": {
      "text/plain": [
       "{'cvec__max_df': 0.9,\n",
       " 'cvec__ngram_range': (1, 1),\n",
       " 'cvec__stop_words': None,\n",
       " 'rf__max_depth': 8,\n",
       " 'rf__min_samples_leaf': 1,\n",
       " 'rf__n_estimators': 150}"
      ]
     },
     "execution_count": 78,
     "metadata": {},
     "output_type": "execute_result"
    }
   ],
   "source": [
    "gs_cvec_rf.best_params_"
   ]
  },
  {
   "cell_type": "code",
   "execution_count": 114,
   "id": "571cf07a-921e-43d5-a7d1-8cfd18f0c7fe",
   "metadata": {},
   "outputs": [
    {
     "name": "stdout",
     "output_type": "stream",
     "text": [
      " Train accuracy: 0.7543149946062567, Test accuracy: 0.7299919159256265\n"
     ]
    }
   ],
   "source": [
    "print(f' Train accuracy: {gs_cvec_rf.score(X_train, y_train)}, Test accuracy: {gs_cvec_rf.score(X_test, y_test)}')"
   ]
  },
  {
   "cell_type": "code",
   "execution_count": 80,
   "id": "8acecbee-8ee4-413f-865f-8dce29828c0b",
   "metadata": {},
   "outputs": [
    {
     "data": {
      "image/png": "[encoded data removed]",
      "text/plain": [
       "<Figure size 432x288 with 2 Axes>"
      ]
     },
     "metadata": {
      "needs_background": "light"
     },
     "output_type": "display_data"
    }
   ],
   "source": [
    "y_pred_rf = gs_cvec_rf.predict(X_test)\n",
    "tn_rf, fp_rf, fn_rf, tp_rf = confusion_matrix(y_test, y_pred_rf).ravel()\n",
    "\n",
    "cmd = ConfusionMatrixDisplay(confusion_matrix=confusion_matrix(y_test, y_pred_rf),\n",
    "                      display_labels=['AskPhilosophy', 'Religion']);\n",
    "\n",
    "cmd.plot(cmap = 'BuGn')\n",
    "plt.title('Random Forest Confusion Matrix')\n",
    "plt.tight_layout()\n",
    "plt.savefig('../visualizations /rfcm.jpg', bbox_inches = 'tight');"
   ]
  },
  {
   "cell_type": "markdown",
   "id": "7c2a6543-82cf-4634-a255-c52405ebd26d",
   "metadata": {},
   "source": [
    "This confusion matrix for our Random Forests model shows the number of posts that were correctly classified and misclassified. 696 posts were predicted to be from AskPhilosophy and were from AskPhilosophy, 9 posts were predicted to be from AskPhilosophy but were from Religion, 317 posts were predicted to be from Religion but were from AskPhilosophy, and 215 posts were predicted to be from Religion and were from Religion. This model seemed to have difficulty classifying posts that were from the Religion subreddit. \n",
    "\n",
    "Code adapted from General Assembly Lesson 4.03"
   ]
  },
  {
   "cell_type": "code",
   "execution_count": 115,
   "id": "b0914309-a0fd-40ed-91ee-4f9064aa5e06",
   "metadata": {},
   "outputs": [
    {
     "name": "stdout",
     "output_type": "stream",
     "text": [
      " Sensitivity: 0.4041353383458647\n",
      " Specificity: 0.9872340425531915\n",
      " Pecision: 0.9598214285714286\n"
     ]
    }
   ],
   "source": [
    "#Sensitivity \n",
    "print(f' Sensitivity: {tp_rf / (tp_rf+fn_rf)}')\n",
    "#Specificity\n",
    "print(f' Specificity: {tn_rf / (tn_rf+fp_rf)}')\n",
    "#Precision \n",
    "print(f' Pecision: {tp_rf/(tp_rf+fp_rf)}')"
   ]
  },
  {
   "cell_type": "markdown",
   "id": "fece45a1-4378-4508-92e6-1405c629dc0c",
   "metadata": {},
   "source": [
    "### Boosted Decision Trees (AdaBoost)"
   ]
  },
  {
   "cell_type": "code",
   "execution_count": 82,
   "id": "bfe6fe3f-59aa-4648-8760-da0d14b8a6f7",
   "metadata": {},
   "outputs": [],
   "source": [
    "X = all_posts['all_text']\n",
    "y = all_posts['subreddit']\n",
    "\n",
    "X_train, X_test, y_train, y_test = train_test_split(X, y, random_state=222, stratify = y)"
   ]
  },
  {
   "cell_type": "code",
   "execution_count": 83,
   "id": "457655cc-1ace-4ed8-895d-bc07170987f0",
   "metadata": {},
   "outputs": [
    {
     "name": "stderr",
     "output_type": "stream",
     "text": [
      "/Users/myacarrizosa/opt/anaconda3/lib/python3.9/site-packages/joblib/externals/loky/process_executor.py:702: UserWarning: A worker stopped while some jobs were given to the executor. This can be caused by a too short worker timeout or by a memory leak.\n",
      "  warnings.warn(\n"
     ]
    },
    {
     "data": {
      "text/plain": [
       "GridSearchCV(estimator=Pipeline(steps=[('cvec', CountVectorizer()),\n",
       "                                       ('ada',\n",
       "                                        AdaBoostClassifier(random_state=222))]),\n",
       "             n_jobs=-1,\n",
       "             param_grid={'ada__learning_rate': [1.0, 1.5],\n",
       "                         'ada__n_estimators': [100, 125, 150],\n",
       "                         'cvec__max_df': [0.9, 1.0],\n",
       "                         'cvec__ngram_range': [(1, 1), (1, 2)],\n",
       "                         'cvec__stop_words': ['english', None]})"
      ]
     },
     "execution_count": 83,
     "metadata": {},
     "output_type": "execute_result"
    }
   ],
   "source": [
    "pipe_cvec_ada = Pipeline([\n",
    "    ('cvec', CountVectorizer()),\n",
    "    ('ada', AdaBoostClassifier(random_state =222))\n",
    "])\n",
    "\n",
    "pipe_cvec_ada_params = {\n",
    "    'cvec__stop_words': ['english', None],\n",
    "    'cvec__ngram_range': [(1,1), (1,2)],\n",
    "    'cvec__max_df': [0.9, 1.0],\n",
    "    'ada__n_estimators': [100, 125, 150],\n",
    "    'ada__learning_rate': [1.0, 1.5]\n",
    "    \n",
    "}\n",
    "\n",
    "gs_cvec_ada = GridSearchCV(pipe_cvec_ada, pipe_cvec_ada_params, n_jobs = -1)\n",
    "gs_cvec_ada.fit(X_train, y_train)"
   ]
  },
  {
   "cell_type": "markdown",
   "id": "d3e24ac2-e043-4938-b32f-474dcac2e4ed",
   "metadata": {},
   "source": [
    "Code adapted from General Assembly Lessons 4.06, 5.05, 6.04"
   ]
  },
  {
   "cell_type": "code",
   "execution_count": 84,
   "id": "7c0e6053-a612-4a6f-a0d3-f0675556a0c8",
   "metadata": {},
   "outputs": [
    {
     "data": {
      "text/plain": [
       "0.8813346864985394"
      ]
     },
     "execution_count": 84,
     "metadata": {},
     "output_type": "execute_result"
    }
   ],
   "source": [
    "gs_cvec_ada.best_score_"
   ]
  },
  {
   "cell_type": "code",
   "execution_count": 85,
   "id": "0febb43d-4790-4dbf-b671-949ad690a1f4",
   "metadata": {},
   "outputs": [
    {
     "data": {
      "text/plain": [
       "{'ada__learning_rate': 1.0,\n",
       " 'ada__n_estimators': 150,\n",
       " 'cvec__max_df': 0.9,\n",
       " 'cvec__ngram_range': (1, 1),\n",
       " 'cvec__stop_words': None}"
      ]
     },
     "execution_count": 85,
     "metadata": {},
     "output_type": "execute_result"
    }
   ],
   "source": [
    "gs_cvec_ada.best_params_"
   ]
  },
  {
   "cell_type": "code",
   "execution_count": 116,
   "id": "c09aad79-fc4a-46b8-b35b-0b6bb4f58f36",
   "metadata": {},
   "outputs": [
    {
     "name": "stdout",
     "output_type": "stream",
     "text": [
      " Train accuracy: 0.9096548004314995, Test accuracy: 0.872271624898949\n"
     ]
    }
   ],
   "source": [
    "print(f' Train accuracy: {gs_cvec_ada.score(X_train, y_train)}, Test accuracy: {gs_cvec_ada.score(X_test, y_test)}')"
   ]
  },
  {
   "cell_type": "code",
   "execution_count": 87,
   "id": "13151350-c08b-4aaa-b1fb-cbdc402f444b",
   "metadata": {},
   "outputs": [
    {
     "data": {
      "image/png": "[encoded data removed]",
      "text/plain": [
       "<Figure size 432x288 with 2 Axes>"
      ]
     },
     "metadata": {
      "needs_background": "light"
     },
     "output_type": "display_data"
    }
   ],
   "source": [
    "y_pred_ada = gs_cvec_ada.predict(X_test)\n",
    "tn_ada, fp_ada, fn_ada, tp_ada = confusion_matrix(y_test, y_pred_ada).ravel()\n",
    "\n",
    "cmd = ConfusionMatrixDisplay(confusion_matrix=confusion_matrix(y_test, y_pred_ada),\n",
    "                      display_labels=['AskPhilosophy', 'Religion']);\n",
    "\n",
    "cmd.plot(cmap = 'BuGn')\n",
    "plt.title('AdaBoost Confusion Matrix')\n",
    "plt.tight_layout()\n",
    "plt.savefig('../visualizations /adacm.jpg', bbox_inches = 'tight');"
   ]
  },
  {
   "cell_type": "markdown",
   "id": "1ce7721f-3926-4ffb-8187-4b474d1d4adc",
   "metadata": {},
   "source": [
    "This confusion matrix for our AdaBoost model shows the number of posts that were correctly classified and misclassified. 625 posts were predicted to be from AskPhilosophy and were from AskPhilosophy, 80 posts were predicted to be from AskPhilosophy but were from Religion, 58 posts were predicted to be from Religion but were from AskPhilosophy, and 474 posts were predicted to be from Religion and were from Religion. This model performed somewhat comparably to our Logistic Regression model.\n",
    "\n",
    "Code adapted from General Assembly Lesson 4.03"
   ]
  },
  {
   "cell_type": "code",
   "execution_count": 117,
   "id": "a474e945-59cf-4f5a-9ce5-ae74cadb5725",
   "metadata": {},
   "outputs": [
    {
     "name": "stdout",
     "output_type": "stream",
     "text": [
      " Sensitivity: 0.8909774436090225\n",
      " Specificity: 0.8865248226950354\n",
      " Precision: 0.855595667870036\n"
     ]
    }
   ],
   "source": [
    "#Sensitivity \n",
    "print(f' Sensitivity: {tp_ada / (tp_ada+fn_ada)}')\n",
    "#Specificity\n",
    "print(f' Specificity: {tn_ada / (tn_ada+fp_ada)}')\n",
    "#Precision \n",
    "print(f' Precision: {tp_ada/(tp_ada+fp_ada)}')"
   ]
  },
  {
   "cell_type": "markdown",
   "id": "cb778c56-dd89-4ede-9786-20a9fb6e0000",
   "metadata": {},
   "source": [
    "### Removing Subreddit Names and Seeing Model Performance"
   ]
  },
  {
   "cell_type": "code",
   "execution_count": 89,
   "id": "937a19b9-2ca3-4e0d-81c6-a57d1f59ad68",
   "metadata": {},
   "outputs": [],
   "source": [
    "banned = ['religion', 'philosophy']"
   ]
  },
  {
   "cell_type": "code",
   "execution_count": 90,
   "id": "fbd33a02-b5ad-45a4-beb6-c9ccec5fc8d4",
   "metadata": {},
   "outputs": [
    {
     "data": {
      "text/html": [
       "<div>\n",
       "<style scoped>\n",
       "    .dataframe tbody tr th:only-of-type {\n",
       "        vertical-align: middle;\n",
       "    }\n",
       "\n",
       "    .dataframe tbody tr th {\n",
       "        vertical-align: top;\n",
       "    }\n",
       "\n",
       "    .dataframe thead th {\n",
       "        text-align: right;\n",
       "    }\n",
       "</style>\n",
       "<table border=\"1\" class=\"dataframe\">\n",
       "  <thead>\n",
       "    <tr style=\"text-align: right;\">\n",
       "      <th></th>\n",
       "      <th>selftext</th>\n",
       "      <th>title</th>\n",
       "      <th>subreddit</th>\n",
       "      <th>status_length</th>\n",
       "      <th>status_word_count</th>\n",
       "      <th>title_len</th>\n",
       "      <th>title_word_count</th>\n",
       "      <th>all_text</th>\n",
       "      <th>text_no_rp</th>\n",
       "    </tr>\n",
       "  </thead>\n",
       "  <tbody>\n",
       "    <tr>\n",
       "      <th>0</th>\n",
       "      <td></td>\n",
       "      <td>what would your first official act be if you r...</td>\n",
       "      <td>0</td>\n",
       "      <td>0</td>\n",
       "      <td>1</td>\n",
       "      <td>61</td>\n",
       "      <td>12</td>\n",
       "      <td>what would your first official act be if you r...</td>\n",
       "      <td>what would your first official act be if you r...</td>\n",
       "    </tr>\n",
       "    <tr>\n",
       "      <th>1</th>\n",
       "      <td>can’t find anything from google. there was an ...</td>\n",
       "      <td>does anyone have the review of camus’ the rebe...</td>\n",
       "      <td>0</td>\n",
       "      <td>308</td>\n",
       "      <td>52</td>\n",
       "      <td>91</td>\n",
       "      <td>18</td>\n",
       "      <td>can’t find anything from google. there was an ...</td>\n",
       "      <td>can’t find anything from google. there was an ...</td>\n",
       "    </tr>\n",
       "    <tr>\n",
       "      <th>2</th>\n",
       "      <td>i'm need to describe how they would handle foo...</td>\n",
       "      <td>what are characteristics of ecological constru...</td>\n",
       "      <td>0</td>\n",
       "      <td>112</td>\n",
       "      <td>20</td>\n",
       "      <td>55</td>\n",
       "      <td>6</td>\n",
       "      <td>i'm need to describe how they would handle foo...</td>\n",
       "      <td>i'm need to describe how they would handle foo...</td>\n",
       "    </tr>\n",
       "    <tr>\n",
       "      <th>3</th>\n",
       "      <td>i can see how this cause would be eternal, nec...</td>\n",
       "      <td>how does the contingency argument show that th...</td>\n",
       "      <td>0</td>\n",
       "      <td>94</td>\n",
       "      <td>17</td>\n",
       "      <td>88</td>\n",
       "      <td>17</td>\n",
       "      <td>i can see how this cause would be eternal, nec...</td>\n",
       "      <td>i can see how this cause would be eternal, nec...</td>\n",
       "    </tr>\n",
       "    <tr>\n",
       "      <th>4</th>\n",
       "      <td>what was once a precious guideline has been di...</td>\n",
       "      <td>from my very limited perspective, philosophy a...</td>\n",
       "      <td>0</td>\n",
       "      <td>123</td>\n",
       "      <td>19</td>\n",
       "      <td>108</td>\n",
       "      <td>18</td>\n",
       "      <td>what was once a precious guideline has been di...</td>\n",
       "      <td>what was once a precious guideline has been di...</td>\n",
       "    </tr>\n",
       "  </tbody>\n",
       "</table>\n",
       "</div>"
      ],
      "text/plain": [
       "                                            selftext  \\\n",
       "0                                                      \n",
       "1  can’t find anything from google. there was an ...   \n",
       "2  i'm need to describe how they would handle foo...   \n",
       "3  i can see how this cause would be eternal, nec...   \n",
       "4  what was once a precious guideline has been di...   \n",
       "\n",
       "                                               title  subreddit  \\\n",
       "0  what would your first official act be if you r...          0   \n",
       "1  does anyone have the review of camus’ the rebe...          0   \n",
       "2  what are characteristics of ecological constru...          0   \n",
       "3  how does the contingency argument show that th...          0   \n",
       "4  from my very limited perspective, philosophy a...          0   \n",
       "\n",
       "   status_length  status_word_count  title_len  title_word_count  \\\n",
       "0              0                  1         61                12   \n",
       "1            308                 52         91                18   \n",
       "2            112                 20         55                 6   \n",
       "3             94                 17         88                17   \n",
       "4            123                 19        108                18   \n",
       "\n",
       "                                            all_text  \\\n",
       "0  what would your first official act be if you r...   \n",
       "1  can’t find anything from google. there was an ...   \n",
       "2  i'm need to describe how they would handle foo...   \n",
       "3  i can see how this cause would be eternal, nec...   \n",
       "4  what was once a precious guideline has been di...   \n",
       "\n",
       "                                          text_no_rp  \n",
       "0  what would your first official act be if you r...  \n",
       "1  can’t find anything from google. there was an ...  \n",
       "2  i'm need to describe how they would handle foo...  \n",
       "3  i can see how this cause would be eternal, nec...  \n",
       "4  what was once a precious guideline has been di...  "
      ]
     },
     "execution_count": 90,
     "metadata": {},
     "output_type": "execute_result"
    }
   ],
   "source": [
    "all_posts[\"text_no_rp\"] = [' '.join([item for item in x.split() \n",
    "                  if item not in banned]) \n",
    "                  for x in all_posts[\"all_text\"]]\n",
    "\n",
    "all_posts.head()"
   ]
  },
  {
   "cell_type": "markdown",
   "id": "03bca8bc-4dd2-4738-8c31-46fd2ead5f2f",
   "metadata": {},
   "source": [
    "This code has been adapted from https://stackoverflow.com/questions/51879018/removing-words-characters-from-string-in-dataframe-cell"
   ]
  },
  {
   "cell_type": "code",
   "execution_count": 131,
   "id": "cbc51870-b362-40a3-ad79-d99608be1fe6",
   "metadata": {},
   "outputs": [],
   "source": [
    "X_no_rp = all_posts['text_no_rp']\n",
    "y_no_rp = all_posts['subreddit']\n",
    "\n",
    "X_train_n, X_test_n, y_train_n, y_test_n = train_test_split(X_no_rp, y_no_rp, random_state=222, stratify = y_no_rp)"
   ]
  },
  {
   "cell_type": "code",
   "execution_count": 132,
   "id": "5b9b433e-1a0f-4d66-8df3-e9a62a3f1f5b",
   "metadata": {},
   "outputs": [
    {
     "data": {
      "text/plain": [
       "Pipeline(steps=[('cvec', CountVectorizer(max_df=0.9, stop_words='english')),\n",
       "                ('logreg',\n",
       "                 LogisticRegression(max_iter=1000, random_state=222,\n",
       "                                    solver='liblinear'))])"
      ]
     },
     "execution_count": 132,
     "metadata": {},
     "output_type": "execute_result"
    }
   ],
   "source": [
    "pipe_no_rp = Pipeline([\n",
    "    ('cvec', CountVectorizer(stop_words = 'english', max_df=0.9, ngram_range = (1,1))),\n",
    "    ('logreg', LogisticRegression(random_state = 222, max_iter=1000, solver = 'liblinear'))\n",
    "])\n",
    "\n",
    "pipe_no_rp.fit(X_train_n, y_train_n)"
   ]
  },
  {
   "cell_type": "markdown",
   "id": "464826e7-c47b-4e78-a753-349a6dd12dc5",
   "metadata": {},
   "source": [
    "Code adapted from General Assembly Lessons 4.01, 4.06, 5.05"
   ]
  },
  {
   "cell_type": "code",
   "execution_count": 133,
   "id": "9de5f081-2898-4a0f-a53f-b3b93771ce68",
   "metadata": {},
   "outputs": [
    {
     "name": "stdout",
     "output_type": "stream",
     "text": [
      " Train accuracy: 0.9946062567421791, Test accuracy: 0.8957154405820533\n"
     ]
    }
   ],
   "source": [
    "print(f' Train accuracy: {pipe_no_rp.score(X_train_n, y_train_n)}, Test accuracy: {pipe_no_rp.score(X_test_n, y_test_n)}')"
   ]
  },
  {
   "cell_type": "code",
   "execution_count": 134,
   "id": "b98da07a-885d-4d17-93fd-988fdaad1e2f",
   "metadata": {},
   "outputs": [
    {
     "data": {
      "image/png": "[encoded data removed]",
      "text/plain": [
       "<Figure size 432x288 with 2 Axes>"
      ]
     },
     "metadata": {
      "needs_background": "light"
     },
     "output_type": "display_data"
    }
   ],
   "source": [
    "y_pred_lrns = pipe_no_rp.predict(X_test_n)\n",
    "tn_lrns, fp_lrns, fn_lrns, tp_lrns = confusion_matrix(y_test_n, y_pred_lrns).ravel()\n",
    "\n",
    "cmd = ConfusionMatrixDisplay(confusion_matrix=confusion_matrix(y_test_n, y_pred_lrns),\n",
    "                      display_labels=['AskPhilosophy', 'Religion']);\n",
    "\n",
    "cmd.plot(cmap = 'BuGn')\n",
    "plt.title('Logistic Regression No Subreddit Names Confusion Matrix')\n",
    "plt.tight_layout()\n",
    "plt.savefig('../visualizations /lr_no_names_cm.jpg', bbox_inches = 'tight');"
   ]
  },
  {
   "cell_type": "markdown",
   "id": "14795ade-87f1-44cc-8be7-75ea4a58252a",
   "metadata": {},
   "source": [
    "This confusion matrix for our Logistic Regression model for posts with the words 'philosophy' and 'religion' removed shows the number of posts that were correctly classified and misclassified. 628 posts were predicted to be from AskPhilosophy and were from AskPhilosophy, 77 posts were predicted to be from AskPhilosophy but were from Religion, 52 posts were predicted to be from Religion but were from AskPhilosophy, and 480 posts were predicted to be from Religion and were from Religion. \n",
    "\n",
    "Code adapted from General Assembly Lesson 4.03"
   ]
  },
  {
   "cell_type": "code",
   "execution_count": 135,
   "id": "c495ab76-b1b1-4548-9521-c722c82797b9",
   "metadata": {},
   "outputs": [
    {
     "name": "stdout",
     "output_type": "stream",
     "text": [
      " Sensitivity: 0.9022556390977443\n",
      " Specificity: 0.8907801418439716\n",
      " Precision: 0.8509874326750448\n"
     ]
    }
   ],
   "source": [
    "#Sensitivity \n",
    "print(f' Sensitivity: {tp_lrns / (tp_lrns+fn_lrns)}')\n",
    "#Specificity\n",
    "print(f' Specificity: {tn_lrns / (tn_lrns+fp_lrns)}')\n",
    "#Precision \n",
    "print(f' Precision: {tp_ada/(tp_lrns+fp_lrns)}')"
   ]
  },
  {
   "cell_type": "markdown",
   "id": "7da710f3-7c75-4b0b-91bf-c7fd29fac955",
   "metadata": {},
   "source": [
    "## Misclassifications"
   ]
  },
  {
   "cell_type": "code",
   "execution_count": 96,
   "id": "f023a2b0-20ad-4d7e-a156-2de0e67fd36b",
   "metadata": {},
   "outputs": [
    {
     "data": {
      "text/html": [
       "<div>\n",
       "<style scoped>\n",
       "    .dataframe tbody tr th:only-of-type {\n",
       "        vertical-align: middle;\n",
       "    }\n",
       "\n",
       "    .dataframe tbody tr th {\n",
       "        vertical-align: top;\n",
       "    }\n",
       "\n",
       "    .dataframe thead th {\n",
       "        text-align: right;\n",
       "    }\n",
       "</style>\n",
       "<table border=\"1\" class=\"dataframe\">\n",
       "  <thead>\n",
       "    <tr style=\"text-align: right;\">\n",
       "      <th></th>\n",
       "      <th>subreddit</th>\n",
       "      <th>predictions</th>\n",
       "    </tr>\n",
       "  </thead>\n",
       "  <tbody>\n",
       "    <tr>\n",
       "      <th>4124</th>\n",
       "      <td>1</td>\n",
       "      <td>1</td>\n",
       "    </tr>\n",
       "    <tr>\n",
       "      <th>5548</th>\n",
       "      <td>1</td>\n",
       "      <td>1</td>\n",
       "    </tr>\n",
       "    <tr>\n",
       "      <th>570</th>\n",
       "      <td>0</td>\n",
       "      <td>0</td>\n",
       "    </tr>\n",
       "    <tr>\n",
       "      <th>5027</th>\n",
       "      <td>1</td>\n",
       "      <td>1</td>\n",
       "    </tr>\n",
       "    <tr>\n",
       "      <th>5863</th>\n",
       "      <td>1</td>\n",
       "      <td>1</td>\n",
       "    </tr>\n",
       "  </tbody>\n",
       "</table>\n",
       "</div>"
      ],
      "text/plain": [
       "      subreddit  predictions\n",
       "4124          1            1\n",
       "5548          1            1\n",
       "570           0            0\n",
       "5027          1            1\n",
       "5863          1            1"
      ]
     },
     "execution_count": 96,
     "metadata": {},
     "output_type": "execute_result"
    }
   ],
   "source": [
    "classifications = y_test.to_frame()\n",
    "classifications['predictions'] = y_pred_lrns\n",
    "classifications.head()"
   ]
  },
  {
   "cell_type": "code",
   "execution_count": 97,
   "id": "8ae0d147-c6e3-4364-9b5b-2fbe73704a57",
   "metadata": {},
   "outputs": [
    {
     "data": {
      "text/html": [
       "<div>\n",
       "<style scoped>\n",
       "    .dataframe tbody tr th:only-of-type {\n",
       "        vertical-align: middle;\n",
       "    }\n",
       "\n",
       "    .dataframe tbody tr th {\n",
       "        vertical-align: top;\n",
       "    }\n",
       "\n",
       "    .dataframe thead th {\n",
       "        text-align: right;\n",
       "    }\n",
       "</style>\n",
       "<table border=\"1\" class=\"dataframe\">\n",
       "  <thead>\n",
       "    <tr style=\"text-align: right;\">\n",
       "      <th></th>\n",
       "      <th>subreddit</th>\n",
       "      <th>predictions</th>\n",
       "    </tr>\n",
       "  </thead>\n",
       "  <tbody>\n",
       "    <tr>\n",
       "      <th>5689</th>\n",
       "      <td>1</td>\n",
       "      <td>0</td>\n",
       "    </tr>\n",
       "    <tr>\n",
       "      <th>1123</th>\n",
       "      <td>0</td>\n",
       "      <td>1</td>\n",
       "    </tr>\n",
       "    <tr>\n",
       "      <th>4292</th>\n",
       "      <td>1</td>\n",
       "      <td>0</td>\n",
       "    </tr>\n",
       "    <tr>\n",
       "      <th>5168</th>\n",
       "      <td>1</td>\n",
       "      <td>0</td>\n",
       "    </tr>\n",
       "    <tr>\n",
       "      <th>985</th>\n",
       "      <td>0</td>\n",
       "      <td>1</td>\n",
       "    </tr>\n",
       "    <tr>\n",
       "      <th>...</th>\n",
       "      <td>...</td>\n",
       "      <td>...</td>\n",
       "    </tr>\n",
       "    <tr>\n",
       "      <th>2171</th>\n",
       "      <td>0</td>\n",
       "      <td>1</td>\n",
       "    </tr>\n",
       "    <tr>\n",
       "      <th>4600</th>\n",
       "      <td>1</td>\n",
       "      <td>0</td>\n",
       "    </tr>\n",
       "    <tr>\n",
       "      <th>2927</th>\n",
       "      <td>0</td>\n",
       "      <td>1</td>\n",
       "    </tr>\n",
       "    <tr>\n",
       "      <th>2648</th>\n",
       "      <td>0</td>\n",
       "      <td>1</td>\n",
       "    </tr>\n",
       "    <tr>\n",
       "      <th>659</th>\n",
       "      <td>0</td>\n",
       "      <td>1</td>\n",
       "    </tr>\n",
       "  </tbody>\n",
       "</table>\n",
       "<p>129 rows × 2 columns</p>\n",
       "</div>"
      ],
      "text/plain": [
       "      subreddit  predictions\n",
       "5689          1            0\n",
       "1123          0            1\n",
       "4292          1            0\n",
       "5168          1            0\n",
       "985           0            1\n",
       "...         ...          ...\n",
       "2171          0            1\n",
       "4600          1            0\n",
       "2927          0            1\n",
       "2648          0            1\n",
       "659           0            1\n",
       "\n",
       "[129 rows x 2 columns]"
      ]
     },
     "execution_count": 97,
     "metadata": {},
     "output_type": "execute_result"
    }
   ],
   "source": [
    "classifications[classifications['subreddit'] != classifications['predictions']]"
   ]
  },
  {
   "cell_type": "code",
   "execution_count": 98,
   "id": "cfca86c0-9dfd-41d8-b1e0-3489c275da36",
   "metadata": {},
   "outputs": [
    {
     "data": {
      "text/html": [
       "<div>\n",
       "<style scoped>\n",
       "    .dataframe tbody tr th:only-of-type {\n",
       "        vertical-align: middle;\n",
       "    }\n",
       "\n",
       "    .dataframe tbody tr th {\n",
       "        vertical-align: top;\n",
       "    }\n",
       "\n",
       "    .dataframe thead th {\n",
       "        text-align: right;\n",
       "    }\n",
       "</style>\n",
       "<table border=\"1\" class=\"dataframe\">\n",
       "  <thead>\n",
       "    <tr style=\"text-align: right;\">\n",
       "      <th></th>\n",
       "      <th>subreddit</th>\n",
       "      <th>predictions</th>\n",
       "      <th>difference</th>\n",
       "    </tr>\n",
       "  </thead>\n",
       "  <tbody>\n",
       "    <tr>\n",
       "      <th>4124</th>\n",
       "      <td>1</td>\n",
       "      <td>1</td>\n",
       "      <td>0</td>\n",
       "    </tr>\n",
       "    <tr>\n",
       "      <th>5548</th>\n",
       "      <td>1</td>\n",
       "      <td>1</td>\n",
       "      <td>0</td>\n",
       "    </tr>\n",
       "    <tr>\n",
       "      <th>570</th>\n",
       "      <td>0</td>\n",
       "      <td>0</td>\n",
       "      <td>0</td>\n",
       "    </tr>\n",
       "    <tr>\n",
       "      <th>5027</th>\n",
       "      <td>1</td>\n",
       "      <td>1</td>\n",
       "      <td>0</td>\n",
       "    </tr>\n",
       "    <tr>\n",
       "      <th>5863</th>\n",
       "      <td>1</td>\n",
       "      <td>1</td>\n",
       "      <td>0</td>\n",
       "    </tr>\n",
       "  </tbody>\n",
       "</table>\n",
       "</div>"
      ],
      "text/plain": [
       "      subreddit  predictions  difference\n",
       "4124          1            1           0\n",
       "5548          1            1           0\n",
       "570           0            0           0\n",
       "5027          1            1           0\n",
       "5863          1            1           0"
      ]
     },
     "execution_count": 98,
     "metadata": {},
     "output_type": "execute_result"
    }
   ],
   "source": [
    "classifications['difference'] = classifications['subreddit'] - classifications['predictions']\n",
    "classifications.head()"
   ]
  },
  {
   "cell_type": "code",
   "execution_count": 99,
   "id": "909e4aff-7dee-4414-89f0-dd4fa07b1353",
   "metadata": {},
   "outputs": [],
   "source": [
    "misclass = classifications[classifications['difference'] != 0]"
   ]
  },
  {
   "cell_type": "code",
   "execution_count": 100,
   "id": "4b56bca8-75c9-4c1b-83b4-94c969cbeca0",
   "metadata": {},
   "outputs": [
    {
     "data": {
      "text/plain": [
       "(129, 3)"
      ]
     },
     "execution_count": 100,
     "metadata": {},
     "output_type": "execute_result"
    }
   ],
   "source": [
    "misclass.shape"
   ]
  },
  {
   "cell_type": "code",
   "execution_count": null,
   "id": "45b265f3-d20c-4911-ac07-e72492ad1dff",
   "metadata": {},
   "outputs": [],
   "source": [
    "misclass['predictions'].iloc[]"
   ]
  },
  {
   "cell_type": "code",
   "execution_count": 101,
   "id": "db18c72c-013e-415e-ae42-e49d7c1ca267",
   "metadata": {},
   "outputs": [
    {
     "data": {
      "text/html": [
       "<div>\n",
       "<style scoped>\n",
       "    .dataframe tbody tr th:only-of-type {\n",
       "        vertical-align: middle;\n",
       "    }\n",
       "\n",
       "    .dataframe tbody tr th {\n",
       "        vertical-align: top;\n",
       "    }\n",
       "\n",
       "    .dataframe thead th {\n",
       "        text-align: right;\n",
       "    }\n",
       "</style>\n",
       "<table border=\"1\" class=\"dataframe\">\n",
       "  <thead>\n",
       "    <tr style=\"text-align: right;\">\n",
       "      <th></th>\n",
       "      <th>subreddit</th>\n",
       "      <th>predictions</th>\n",
       "      <th>difference</th>\n",
       "    </tr>\n",
       "  </thead>\n",
       "  <tbody>\n",
       "    <tr>\n",
       "      <th>5689</th>\n",
       "      <td>1</td>\n",
       "      <td>0</td>\n",
       "      <td>1</td>\n",
       "    </tr>\n",
       "    <tr>\n",
       "      <th>1123</th>\n",
       "      <td>0</td>\n",
       "      <td>1</td>\n",
       "      <td>-1</td>\n",
       "    </tr>\n",
       "    <tr>\n",
       "      <th>4292</th>\n",
       "      <td>1</td>\n",
       "      <td>0</td>\n",
       "      <td>1</td>\n",
       "    </tr>\n",
       "    <tr>\n",
       "      <th>5168</th>\n",
       "      <td>1</td>\n",
       "      <td>0</td>\n",
       "      <td>1</td>\n",
       "    </tr>\n",
       "    <tr>\n",
       "      <th>985</th>\n",
       "      <td>0</td>\n",
       "      <td>1</td>\n",
       "      <td>-1</td>\n",
       "    </tr>\n",
       "  </tbody>\n",
       "</table>\n",
       "</div>"
      ],
      "text/plain": [
       "      subreddit  predictions  difference\n",
       "5689          1            0           1\n",
       "1123          0            1          -1\n",
       "4292          1            0           1\n",
       "5168          1            0           1\n",
       "985           0            1          -1"
      ]
     },
     "execution_count": 101,
     "metadata": {},
     "output_type": "execute_result"
    }
   ],
   "source": [
    "misclass.head()"
   ]
  },
  {
   "cell_type": "code",
   "execution_count": 124,
   "id": "ae961eaa-e708-4ebd-b81b-b4a9087d55f7",
   "metadata": {},
   "outputs": [
    {
     "data": {
      "text/plain": [
       "'https://youtu.be/epcy3huo6hya video essay i made on jehovah’s witnesses. tell me what you think!'"
      ]
     },
     "execution_count": 124,
     "metadata": {},
     "output_type": "execute_result"
    }
   ],
   "source": [
    "all_posts['text_no_rp'].iloc[4292]"
   ]
  },
  {
   "cell_type": "code",
   "execution_count": null,
   "id": "a1856e48-d897-4802-b382-263555032b0a",
   "metadata": {},
   "outputs": [],
   "source": []
  },
  {
   "cell_type": "code",
   "execution_count": null,
   "id": "c3320423-83b0-4008-9584-6ea8384327d5",
   "metadata": {},
   "outputs": [],
   "source": []
  },
  {
   "cell_type": "code",
   "execution_count": null,
   "id": "1263b632-5eca-4f94-a664-f572e0d04ccc",
   "metadata": {},
   "outputs": [],
   "source": []
  },
  {
   "cell_type": "code",
   "execution_count": null,
   "id": "12aa9ffe-98ce-497c-947e-7064d978b0e2",
   "metadata": {},
   "outputs": [],
   "source": []
  },
  {
   "cell_type": "code",
   "execution_count": 102,
   "id": "632b79ba-bddb-480f-ae4a-a2f8d5979d4b",
   "metadata": {},
   "outputs": [
    {
     "data": {
      "text/plain": [
       "\"why items highly subsidized by the government are expensive? shouldn't subsidy reduce price? https://www.reddit.com/r/differentangle/comments/w9kze3/items_highly_subsidized_by_the_government_are/?utm_medium=android_app&amp;utm_source=shareitems highly subsidized by the government are highlighted.\""
      ]
     },
     "execution_count": 102,
     "metadata": {},
     "output_type": "execute_result"
    }
   ],
   "source": [
    "all_posts['text_no_rp'].iloc[2694]"
   ]
  },
  {
   "cell_type": "code",
   "execution_count": 103,
   "id": "09569a19-cdf5-43eb-9e1f-eb914177f1d7",
   "metadata": {},
   "outputs": [
    {
     "data": {
      "text/plain": [
       "\"does 'justice' require that wrongdoers suffer, and suffer in proportion to the level of wrongness of their offense?do people deserve to suffer for their evil actions?\""
      ]
     },
     "execution_count": 103,
     "metadata": {},
     "output_type": "execute_result"
    }
   ],
   "source": [
    "all_posts['text_no_rp'].iloc[1123]"
   ]
  },
  {
   "cell_type": "code",
   "execution_count": 104,
   "id": "d710862c-d378-4690-9045-af7be0520628",
   "metadata": {},
   "outputs": [
    {
     "data": {
      "text/plain": [
       "'is this an unfounded assertion or is there substance to this claim? if so where can i learn about it more?is “no effect can be greater than its cause” true?'"
      ]
     },
     "execution_count": 104,
     "metadata": {},
     "output_type": "execute_result"
    }
   ],
   "source": [
    "all_posts['text_no_rp'].iloc[1297]"
   ]
  },
  {
   "cell_type": "code",
   "execution_count": 105,
   "id": "d969c884-23e8-4a36-8f4e-113b0c90ef12",
   "metadata": {},
   "outputs": [
    {
     "data": {
      "text/plain": [
       "\"alright, before i get mass downvoted for trying to demonize or straw man atheism: i am an atheist. i believe there is no god and that evolution through natural selection is the means by which we exist. but i'm just struggling with the concept of meaning. obviously, humans have a complicated society, which is filled with relationships, economics, recreation, transportation, jobs, experiences, etcetera. but although that provides fulfillment, aren't we just here to have pass on our genes and that's all that matters? don't get me wrong, i understand that life has so many nuances, varying factors, and emotions, which people definitely derive what they see as meaning from, but in the end isn't the only thing that matters in terms of species just reproductive success? i know there were bad people throughout history who did terrible things, yet had children. no matter how godawful they may be, and no matter what terrible things they've done, in the grand scheme of things haven't they achieved the objective of life, passing on genes? again, i am an atheist, i'm just trying to find meaning from my life since i don't believe in god. i used to be religious then i realized there was no concrete evidence for the existence of a god or gods so i stopped believing. anyways, i figured people who know a lot about would be able to answer this.i'm an atheist, but if there is no god, wouldn't the meaning of life just be having sex?\""
      ]
     },
     "execution_count": 105,
     "metadata": {},
     "output_type": "execute_result"
    }
   ],
   "source": [
    "all_posts['text_no_rp'].iloc[2173]"
   ]
  },
  {
   "cell_type": "code",
   "execution_count": 106,
   "id": "ef1d0f1d-7156-4108-a844-1dd905ad95ff",
   "metadata": {},
   "outputs": [
    {
     "data": {
      "text/plain": [
       "'what did feuerbach mean in this quote from the preface to the second edition of \\'the essence of christianity\\' when he said \"but certainly for the present age, which prefers the sign to the thing signified, the copy to the original, fancy to reality . . . . illusion only is sacred, truth profane. nay sacredness is held to be enhanced in proportion as truth decreases and illusion increases, so that the highest degree of illusion comes to be the highest degree of sacredness.\" at a surface level, it\\'s obvious that feuerbach is claiming the present age prefers copies over the original. what is his basis for saying this? surely, when i walk into a pawn shop i want the oldest and most original and sacred coin possible for thr value of my item would dramtically increase. i understand feuerbach is not speaking in this same context but what context might he be speaking in?ludwig feuerbach quote breakdown'"
      ]
     },
     "execution_count": 106,
     "metadata": {},
     "output_type": "execute_result"
    }
   ],
   "source": [
    "all_posts['text_no_rp'].iloc[985]"
   ]
  },
  {
   "cell_type": "code",
   "execution_count": null,
   "id": "84796fbf-fba8-4f1b-8f43-ff3b5e38d539",
   "metadata": {},
   "outputs": [],
   "source": []
  }
 ],
 "metadata": {
  "kernelspec": {
   "display_name": "Python 3 (ipykernel)",
   "language": "python",
   "name": "python3"
  },
  "language_info": {
   "codemirror_mode": {
    "name": "ipython",
    "version": 3
   },
   "file_extension": ".py",
   "mimetype": "text/x-python",
   "name": "python",
   "nbconvert_exporter": "python",
   "pygments_lexer": "ipython3",
   "version": "3.9.12"
  }
 },
 "nbformat": 4,
 "nbformat_minor": 5
}
