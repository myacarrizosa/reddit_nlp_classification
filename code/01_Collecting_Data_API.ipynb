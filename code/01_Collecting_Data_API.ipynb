{
 "cells": [
  {
   "cell_type": "markdown",
   "id": "bbb733bb-8ccc-4fe1-8360-f0631497a268",
   "metadata": {},
   "source": [
    "# Using Pushshift's API to Collect Reddit Submissions "
   ]
  },
  {
   "cell_type": "code",
   "execution_count": 1,
   "id": "c2ac0418-14bf-41a8-a841-3fca4b6fb2ce",
   "metadata": {},
   "outputs": [],
   "source": [
    "import requests\n",
    "import pandas as pd"
   ]
  },
  {
   "cell_type": "markdown",
   "id": "1dfa7c6f-f2a6-4939-96ac-b0cf7a0f8c35",
   "metadata": {},
   "source": [
    "# Creating AskPhilosophy DataFrame"
   ]
  },
  {
   "cell_type": "markdown",
   "id": "9e641ce8-fb39-4b44-91b9-e0847938b8f0",
   "metadata": {},
   "source": [
    "Using the pushing shift API to scrape reddit posts from AskPhilosophy subreddit. Only 250 posts can be called at a time."
   ]
  },
  {
   "cell_type": "code",
   "execution_count": 2,
   "id": "f181d59f-d374-4d59-8417-5f3a63b30c7b",
   "metadata": {},
   "outputs": [],
   "source": [
    "params = {'subreddit' : 'askphilosophy', 'size': 250}"
   ]
  },
  {
   "cell_type": "code",
   "execution_count": 3,
   "id": "337d7b59-d714-4b07-84ac-96ec29eeebec",
   "metadata": {},
   "outputs": [],
   "source": [
    "url = 'https://api.pushshift.io/reddit/search/submission/'"
   ]
  },
  {
   "cell_type": "code",
   "execution_count": 4,
   "id": "c2feba96-aee6-4a0a-9c35-f1147b1e7011",
   "metadata": {},
   "outputs": [],
   "source": [
    "req = requests.get(url, params)"
   ]
  },
  {
   "cell_type": "code",
   "execution_count": 5,
   "id": "aef6dfb9-0f7b-493a-8beb-497fa60ed58f",
   "metadata": {},
   "outputs": [
    {
     "data": {
      "text/plain": [
       "200"
      ]
     },
     "execution_count": 5,
     "metadata": {},
     "output_type": "execute_result"
    }
   ],
   "source": [
    "req.status_code"
   ]
  },
  {
   "cell_type": "code",
   "execution_count": 6,
   "id": "27e8d708-ac85-4163-ab8a-2c5ad074af24",
   "metadata": {},
   "outputs": [
    {
     "data": {
      "text/plain": [
       "'{\\n    \"data\": [\\n        {\\n            \"all_awardings\": [],\\n            \"allow_live_comments\": false,'"
      ]
     },
     "execution_count": 6,
     "metadata": {},
     "output_type": "execute_result"
    }
   ],
   "source": [
    "req.text[:100]"
   ]
  },
  {
   "cell_type": "code",
   "execution_count": 7,
   "id": "4777ed6f-749d-4599-bab7-5f17b0eeae69",
   "metadata": {},
   "outputs": [
    {
     "data": {
      "text/plain": [
       "dict"
      ]
     },
     "execution_count": 7,
     "metadata": {},
     "output_type": "execute_result"
    }
   ],
   "source": [
    "phil = req.json()\n",
    "type(phil)"
   ]
  },
  {
   "cell_type": "code",
   "execution_count": 8,
   "id": "d448c87b-60ac-4e0b-ada3-83487d56e219",
   "metadata": {},
   "outputs": [
    {
     "data": {
      "text/plain": [
       "dict_keys(['data'])"
      ]
     },
     "execution_count": 8,
     "metadata": {},
     "output_type": "execute_result"
    }
   ],
   "source": [
    "phil.keys()"
   ]
  },
  {
   "cell_type": "code",
   "execution_count": 9,
   "id": "b9a65805-c548-45e5-8306-4ed8ef83477d",
   "metadata": {},
   "outputs": [],
   "source": [
    "posts = phil['data']"
   ]
  },
  {
   "cell_type": "code",
   "execution_count": 10,
   "id": "5429becf-3fc2-438e-9c33-e52e5ae474db",
   "metadata": {},
   "outputs": [
    {
     "data": {
      "text/plain": [
       "250"
      ]
     },
     "execution_count": 10,
     "metadata": {},
     "output_type": "execute_result"
    }
   ],
   "source": [
    "len(posts)"
   ]
  },
  {
   "cell_type": "code",
   "execution_count": 11,
   "id": "41878d46-6996-493c-8711-eb55c09ad0d9",
   "metadata": {},
   "outputs": [
    {
     "data": {
      "text/plain": [
       "list"
      ]
     },
     "execution_count": 11,
     "metadata": {},
     "output_type": "execute_result"
    }
   ],
   "source": [
    "type(posts)"
   ]
  },
  {
   "cell_type": "code",
   "execution_count": 12,
   "id": "15988194-fd7b-4bb5-812f-ffb7f8b6d4d9",
   "metadata": {},
   "outputs": [
    {
     "data": {
      "text/html": [
       "<div>\n",
       "<style scoped>\n",
       "    .dataframe tbody tr th:only-of-type {\n",
       "        vertical-align: middle;\n",
       "    }\n",
       "\n",
       "    .dataframe tbody tr th {\n",
       "        vertical-align: top;\n",
       "    }\n",
       "\n",
       "    .dataframe thead th {\n",
       "        text-align: right;\n",
       "    }\n",
       "</style>\n",
       "<table border=\"1\" class=\"dataframe\">\n",
       "  <thead>\n",
       "    <tr style=\"text-align: right;\">\n",
       "      <th></th>\n",
       "      <th>all_awardings</th>\n",
       "      <th>allow_live_comments</th>\n",
       "      <th>author</th>\n",
       "      <th>author_flair_css_class</th>\n",
       "      <th>author_flair_richtext</th>\n",
       "      <th>author_flair_text</th>\n",
       "      <th>author_flair_type</th>\n",
       "      <th>author_fullname</th>\n",
       "      <th>author_is_blocked</th>\n",
       "      <th>author_patreon_flair</th>\n",
       "      <th>...</th>\n",
       "      <th>post_hint</th>\n",
       "      <th>preview</th>\n",
       "      <th>removed_by_category</th>\n",
       "      <th>author_flair_background_color</th>\n",
       "      <th>author_flair_text_color</th>\n",
       "      <th>banned_by</th>\n",
       "      <th>link_flair_css_class</th>\n",
       "      <th>link_flair_template_id</th>\n",
       "      <th>link_flair_text</th>\n",
       "      <th>author_flair_template_id</th>\n",
       "    </tr>\n",
       "  </thead>\n",
       "  <tbody>\n",
       "    <tr>\n",
       "      <th>0</th>\n",
       "      <td>[]</td>\n",
       "      <td>False</td>\n",
       "      <td>WaveRare8703</td>\n",
       "      <td>None</td>\n",
       "      <td>[]</td>\n",
       "      <td>None</td>\n",
       "      <td>text</td>\n",
       "      <td>t2_8icji0i6</td>\n",
       "      <td>False</td>\n",
       "      <td>False</td>\n",
       "      <td>...</td>\n",
       "      <td>NaN</td>\n",
       "      <td>NaN</td>\n",
       "      <td>NaN</td>\n",
       "      <td>NaN</td>\n",
       "      <td>NaN</td>\n",
       "      <td>NaN</td>\n",
       "      <td>NaN</td>\n",
       "      <td>NaN</td>\n",
       "      <td>NaN</td>\n",
       "      <td>NaN</td>\n",
       "    </tr>\n",
       "    <tr>\n",
       "      <th>1</th>\n",
       "      <td>[]</td>\n",
       "      <td>False</td>\n",
       "      <td>Its_Your_Boi_MaxB</td>\n",
       "      <td>None</td>\n",
       "      <td>[]</td>\n",
       "      <td>None</td>\n",
       "      <td>text</td>\n",
       "      <td>t2_4yxndmg</td>\n",
       "      <td>False</td>\n",
       "      <td>False</td>\n",
       "      <td>...</td>\n",
       "      <td>NaN</td>\n",
       "      <td>NaN</td>\n",
       "      <td>NaN</td>\n",
       "      <td>NaN</td>\n",
       "      <td>NaN</td>\n",
       "      <td>NaN</td>\n",
       "      <td>NaN</td>\n",
       "      <td>NaN</td>\n",
       "      <td>NaN</td>\n",
       "      <td>NaN</td>\n",
       "    </tr>\n",
       "    <tr>\n",
       "      <th>2</th>\n",
       "      <td>[]</td>\n",
       "      <td>False</td>\n",
       "      <td>DreamingMeme</td>\n",
       "      <td>None</td>\n",
       "      <td>[]</td>\n",
       "      <td>None</td>\n",
       "      <td>text</td>\n",
       "      <td>t2_z4bfq</td>\n",
       "      <td>False</td>\n",
       "      <td>False</td>\n",
       "      <td>...</td>\n",
       "      <td>NaN</td>\n",
       "      <td>NaN</td>\n",
       "      <td>NaN</td>\n",
       "      <td>NaN</td>\n",
       "      <td>NaN</td>\n",
       "      <td>NaN</td>\n",
       "      <td>NaN</td>\n",
       "      <td>NaN</td>\n",
       "      <td>NaN</td>\n",
       "      <td>NaN</td>\n",
       "    </tr>\n",
       "    <tr>\n",
       "      <th>3</th>\n",
       "      <td>[]</td>\n",
       "      <td>False</td>\n",
       "      <td>RelinquishedVeil</td>\n",
       "      <td>None</td>\n",
       "      <td>[]</td>\n",
       "      <td>None</td>\n",
       "      <td>text</td>\n",
       "      <td>t2_rnio9umu</td>\n",
       "      <td>False</td>\n",
       "      <td>False</td>\n",
       "      <td>...</td>\n",
       "      <td>NaN</td>\n",
       "      <td>NaN</td>\n",
       "      <td>NaN</td>\n",
       "      <td>NaN</td>\n",
       "      <td>NaN</td>\n",
       "      <td>NaN</td>\n",
       "      <td>NaN</td>\n",
       "      <td>NaN</td>\n",
       "      <td>NaN</td>\n",
       "      <td>NaN</td>\n",
       "    </tr>\n",
       "    <tr>\n",
       "      <th>4</th>\n",
       "      <td>[]</td>\n",
       "      <td>False</td>\n",
       "      <td>MacaqueFlambe</td>\n",
       "      <td>None</td>\n",
       "      <td>[]</td>\n",
       "      <td>None</td>\n",
       "      <td>text</td>\n",
       "      <td>t2_stb3k</td>\n",
       "      <td>False</td>\n",
       "      <td>False</td>\n",
       "      <td>...</td>\n",
       "      <td>NaN</td>\n",
       "      <td>NaN</td>\n",
       "      <td>NaN</td>\n",
       "      <td>NaN</td>\n",
       "      <td>NaN</td>\n",
       "      <td>NaN</td>\n",
       "      <td>NaN</td>\n",
       "      <td>NaN</td>\n",
       "      <td>NaN</td>\n",
       "      <td>NaN</td>\n",
       "    </tr>\n",
       "  </tbody>\n",
       "</table>\n",
       "<p>5 rows × 70 columns</p>\n",
       "</div>"
      ],
      "text/plain": [
       "  all_awardings  allow_live_comments             author  \\\n",
       "0            []                False       WaveRare8703   \n",
       "1            []                False  Its_Your_Boi_MaxB   \n",
       "2            []                False       DreamingMeme   \n",
       "3            []                False   RelinquishedVeil   \n",
       "4            []                False      MacaqueFlambe   \n",
       "\n",
       "  author_flair_css_class author_flair_richtext author_flair_text  \\\n",
       "0                   None                    []              None   \n",
       "1                   None                    []              None   \n",
       "2                   None                    []              None   \n",
       "3                   None                    []              None   \n",
       "4                   None                    []              None   \n",
       "\n",
       "  author_flair_type author_fullname  author_is_blocked author_patreon_flair  \\\n",
       "0              text     t2_8icji0i6              False                False   \n",
       "1              text      t2_4yxndmg              False                False   \n",
       "2              text        t2_z4bfq              False                False   \n",
       "3              text     t2_rnio9umu              False                False   \n",
       "4              text        t2_stb3k              False                False   \n",
       "\n",
       "   ... post_hint preview  removed_by_category  author_flair_background_color  \\\n",
       "0  ...       NaN     NaN                  NaN                            NaN   \n",
       "1  ...       NaN     NaN                  NaN                            NaN   \n",
       "2  ...       NaN     NaN                  NaN                            NaN   \n",
       "3  ...       NaN     NaN                  NaN                            NaN   \n",
       "4  ...       NaN     NaN                  NaN                            NaN   \n",
       "\n",
       "   author_flair_text_color banned_by link_flair_css_class  \\\n",
       "0                      NaN       NaN                  NaN   \n",
       "1                      NaN       NaN                  NaN   \n",
       "2                      NaN       NaN                  NaN   \n",
       "3                      NaN       NaN                  NaN   \n",
       "4                      NaN       NaN                  NaN   \n",
       "\n",
       "  link_flair_template_id link_flair_text  author_flair_template_id  \n",
       "0                    NaN             NaN                       NaN  \n",
       "1                    NaN             NaN                       NaN  \n",
       "2                    NaN             NaN                       NaN  \n",
       "3                    NaN             NaN                       NaN  \n",
       "4                    NaN             NaN                       NaN  \n",
       "\n",
       "[5 rows x 70 columns]"
      ]
     },
     "execution_count": 12,
     "metadata": {},
     "output_type": "execute_result"
    }
   ],
   "source": [
    "df_1 = pd.DataFrame(posts)\n",
    "df_1.head()"
   ]
  },
  {
   "cell_type": "code",
   "execution_count": 13,
   "id": "46a396a6-3c70-4fbc-9fc6-c1bc5e22b615",
   "metadata": {},
   "outputs": [],
   "source": [
    "phil_df_1 = df_1[['selftext', 'title', 'subreddit']]"
   ]
  },
  {
   "cell_type": "code",
   "execution_count": 21,
   "id": "dec1f5e1-2ac8-487f-8ffc-fd4605374bf4",
   "metadata": {},
   "outputs": [
    {
     "data": {
      "text/html": [
       "<div>\n",
       "<style scoped>\n",
       "    .dataframe tbody tr th:only-of-type {\n",
       "        vertical-align: middle;\n",
       "    }\n",
       "\n",
       "    .dataframe tbody tr th {\n",
       "        vertical-align: top;\n",
       "    }\n",
       "\n",
       "    .dataframe thead th {\n",
       "        text-align: right;\n",
       "    }\n",
       "</style>\n",
       "<table border=\"1\" class=\"dataframe\">\n",
       "  <thead>\n",
       "    <tr style=\"text-align: right;\">\n",
       "      <th></th>\n",
       "      <th>selftext</th>\n",
       "      <th>title</th>\n",
       "      <th>subreddit</th>\n",
       "    </tr>\n",
       "  </thead>\n",
       "  <tbody>\n",
       "    <tr>\n",
       "      <th>0</th>\n",
       "      <td></td>\n",
       "      <td>What would your first official act be if you r...</td>\n",
       "      <td>askphilosophy</td>\n",
       "    </tr>\n",
       "    <tr>\n",
       "      <th>1</th>\n",
       "      <td>Can’t find anything from Google. There was an ...</td>\n",
       "      <td>Does anyone have the review of Camus’ The Rebe...</td>\n",
       "      <td>askphilosophy</td>\n",
       "    </tr>\n",
       "    <tr>\n",
       "      <th>2</th>\n",
       "      <td>I'm need to describe how they would handle foo...</td>\n",
       "      <td>What are characteristics of Ecological Constru...</td>\n",
       "      <td>askphilosophy</td>\n",
       "    </tr>\n",
       "    <tr>\n",
       "      <th>3</th>\n",
       "      <td>I can see how this cause would be eternal, nec...</td>\n",
       "      <td>How does the contingency argument show that th...</td>\n",
       "      <td>askphilosophy</td>\n",
       "    </tr>\n",
       "    <tr>\n",
       "      <th>4</th>\n",
       "      <td>What was once a precious guideline has been di...</td>\n",
       "      <td>From my very limited perspective, philosophy a...</td>\n",
       "      <td>askphilosophy</td>\n",
       "    </tr>\n",
       "  </tbody>\n",
       "</table>\n",
       "</div>"
      ],
      "text/plain": [
       "                                            selftext  \\\n",
       "0                                                      \n",
       "1  Can’t find anything from Google. There was an ...   \n",
       "2  I'm need to describe how they would handle foo...   \n",
       "3  I can see how this cause would be eternal, nec...   \n",
       "4  What was once a precious guideline has been di...   \n",
       "\n",
       "                                               title      subreddit  \n",
       "0  What would your first official act be if you r...  askphilosophy  \n",
       "1  Does anyone have the review of Camus’ The Rebe...  askphilosophy  \n",
       "2  What are characteristics of Ecological Constru...  askphilosophy  \n",
       "3  How does the contingency argument show that th...  askphilosophy  \n",
       "4  From my very limited perspective, philosophy a...  askphilosophy  "
      ]
     },
     "execution_count": 21,
     "metadata": {},
     "output_type": "execute_result"
    }
   ],
   "source": [
    "phil_df_1.head()"
   ]
  },
  {
   "cell_type": "code",
   "execution_count": 15,
   "id": "a88a8f0e-c1f4-4da2-a3ea-8da43ffe3a3d",
   "metadata": {},
   "outputs": [],
   "source": [
    "#phil_df.isnull().sum()"
   ]
  },
  {
   "cell_type": "code",
   "execution_count": 16,
   "id": "4fd69d71-5680-4fc2-944e-9601fb1494fb",
   "metadata": {},
   "outputs": [],
   "source": [
    "#phil_df['selftext'].isna().sort_values(ascending=True)"
   ]
  },
  {
   "cell_type": "code",
   "execution_count": 17,
   "id": "b81da4bc-9cc3-4c13-b8e9-6180c5b7cdb7",
   "metadata": {},
   "outputs": [
    {
     "data": {
      "text/plain": [
       "245    1664079503\n",
       "246    1664077743\n",
       "247    1664075307\n",
       "248    1664071739\n",
       "249    1664071536\n",
       "Name: created_utc, dtype: int64"
      ]
     },
     "execution_count": 17,
     "metadata": {},
     "output_type": "execute_result"
    }
   ],
   "source": [
    "#identifying the created time of the last pulled post so the next 250 can be selected without overlap\n",
    "df_1['created_utc'].tail()"
   ]
  },
  {
   "cell_type": "markdown",
   "id": "e999420b-dec8-4c2e-9463-6d3e3bd3464d",
   "metadata": {},
   "source": [
    "Code adapted from Riley Dallas's Pushshift Tutorial Video"
   ]
  },
  {
   "cell_type": "code",
   "execution_count": 18,
   "id": "0dd450f1-e0aa-4b31-957c-fa73c1c8923d",
   "metadata": {},
   "outputs": [
    {
     "name": "stdout",
     "output_type": "stream",
     "text": [
      "200\n"
     ]
    }
   ],
   "source": [
    "params = {'subreddit' : 'askphilosophy', 'size': 250, 'before': 1664061313}\n",
    "url = 'https://api.pushshift.io/reddit/search/submission/'\n",
    "req = requests.get(url, params)\n",
    "print(req.status_code)\n",
    "phil = req.json()"
   ]
  },
  {
   "cell_type": "code",
   "execution_count": 19,
   "id": "38e01738-5712-4767-9298-38f1eaaa8826",
   "metadata": {},
   "outputs": [
    {
     "data": {
      "text/plain": [
       "(248, 67)"
      ]
     },
     "execution_count": 19,
     "metadata": {},
     "output_type": "execute_result"
    }
   ],
   "source": [
    "posts_2 = phil['data']\n",
    "df_2 = pd.DataFrame(posts_2)\n",
    "df_2.shape"
   ]
  },
  {
   "cell_type": "code",
   "execution_count": 20,
   "id": "640045fb-3cc5-4d1f-8be9-757ee59b3b80",
   "metadata": {},
   "outputs": [
    {
     "data": {
      "text/html": [
       "<div>\n",
       "<style scoped>\n",
       "    .dataframe tbody tr th:only-of-type {\n",
       "        vertical-align: middle;\n",
       "    }\n",
       "\n",
       "    .dataframe tbody tr th {\n",
       "        vertical-align: top;\n",
       "    }\n",
       "\n",
       "    .dataframe thead th {\n",
       "        text-align: right;\n",
       "    }\n",
       "</style>\n",
       "<table border=\"1\" class=\"dataframe\">\n",
       "  <thead>\n",
       "    <tr style=\"text-align: right;\">\n",
       "      <th></th>\n",
       "      <th>selftext</th>\n",
       "      <th>title</th>\n",
       "      <th>subreddit</th>\n",
       "    </tr>\n",
       "  </thead>\n",
       "  <tbody>\n",
       "    <tr>\n",
       "      <th>0</th>\n",
       "      <td>There are many who claim free Will to be non-e...</td>\n",
       "      <td>What are philosopher's takes on the claim that...</td>\n",
       "      <td>askphilosophy</td>\n",
       "    </tr>\n",
       "    <tr>\n",
       "      <th>1</th>\n",
       "      <td>What does this mean? Would beauty ever save th...</td>\n",
       "      <td>What did Dostoyevsky mean when he said “beauty...</td>\n",
       "      <td>askphilosophy</td>\n",
       "    </tr>\n",
       "    <tr>\n",
       "      <th>2</th>\n",
       "      <td>[removed]</td>\n",
       "      <td>Struggling to find what features from Aristotl...</td>\n",
       "      <td>askphilosophy</td>\n",
       "    </tr>\n",
       "    <tr>\n",
       "      <th>3</th>\n",
       "      <td>For example, if one often fantasizes about som...</td>\n",
       "      <td>Why is experiencing/connecting with things out...</td>\n",
       "      <td>askphilosophy</td>\n",
       "    </tr>\n",
       "    <tr>\n",
       "      <th>4</th>\n",
       "      <td>https://youtu.be/6tcquI2ylNM (Skepticcosmic ar...</td>\n",
       "      <td>Subjectivity of morality even if god existed.</td>\n",
       "      <td>askphilosophy</td>\n",
       "    </tr>\n",
       "  </tbody>\n",
       "</table>\n",
       "</div>"
      ],
      "text/plain": [
       "                                            selftext  \\\n",
       "0  There are many who claim free Will to be non-e...   \n",
       "1  What does this mean? Would beauty ever save th...   \n",
       "2                                          [removed]   \n",
       "3  For example, if one often fantasizes about som...   \n",
       "4  https://youtu.be/6tcquI2ylNM (Skepticcosmic ar...   \n",
       "\n",
       "                                               title      subreddit  \n",
       "0  What are philosopher's takes on the claim that...  askphilosophy  \n",
       "1  What did Dostoyevsky mean when he said “beauty...  askphilosophy  \n",
       "2  Struggling to find what features from Aristotl...  askphilosophy  \n",
       "3  Why is experiencing/connecting with things out...  askphilosophy  \n",
       "4      Subjectivity of morality even if god existed.  askphilosophy  "
      ]
     },
     "execution_count": 20,
     "metadata": {},
     "output_type": "execute_result"
    }
   ],
   "source": [
    "phil_df_2 = df_2[['selftext', 'title', 'subreddit']]\n",
    "phil_df_2.head()"
   ]
  },
  {
   "cell_type": "code",
   "execution_count": 22,
   "id": "d6f13c27-d39a-45f5-ada0-cf910a9eff95",
   "metadata": {},
   "outputs": [
    {
     "data": {
      "text/plain": [
       "243    1663630985\n",
       "244    1663628945\n",
       "245    1663628169\n",
       "246    1663627614\n",
       "247    1663625280\n",
       "Name: created_utc, dtype: int64"
      ]
     },
     "execution_count": 22,
     "metadata": {},
     "output_type": "execute_result"
    }
   ],
   "source": [
    "df_2['created_utc'].tail()"
   ]
  },
  {
   "cell_type": "code",
   "execution_count": 23,
   "id": "3709aa39-6a36-4586-9ae7-7057ed3da1f3",
   "metadata": {},
   "outputs": [
    {
     "name": "stdout",
     "output_type": "stream",
     "text": [
      "200\n"
     ]
    }
   ],
   "source": [
    "params = {'subreddit' : 'askphilosophy', 'size': 250, 'before': 1663625280}\n",
    "url = 'https://api.pushshift.io/reddit/search/submission/'\n",
    "req = requests.get(url, params)\n",
    "print(req.status_code)\n",
    "phil = req.json()"
   ]
  },
  {
   "cell_type": "code",
   "execution_count": 24,
   "id": "b7fc79e2-796d-496d-9b2d-140ab72695db",
   "metadata": {},
   "outputs": [
    {
     "data": {
      "text/plain": [
       "(250, 69)"
      ]
     },
     "execution_count": 24,
     "metadata": {},
     "output_type": "execute_result"
    }
   ],
   "source": [
    "posts_3 = phil['data']\n",
    "df_3 = pd.DataFrame(posts_3)\n",
    "df_3.shape"
   ]
  },
  {
   "cell_type": "code",
   "execution_count": 25,
   "id": "2485a9f4-a27b-43be-9a07-50a629a0ddce",
   "metadata": {},
   "outputs": [
    {
     "data": {
      "text/html": [
       "<div>\n",
       "<style scoped>\n",
       "    .dataframe tbody tr th:only-of-type {\n",
       "        vertical-align: middle;\n",
       "    }\n",
       "\n",
       "    .dataframe tbody tr th {\n",
       "        vertical-align: top;\n",
       "    }\n",
       "\n",
       "    .dataframe thead th {\n",
       "        text-align: right;\n",
       "    }\n",
       "</style>\n",
       "<table border=\"1\" class=\"dataframe\">\n",
       "  <thead>\n",
       "    <tr style=\"text-align: right;\">\n",
       "      <th></th>\n",
       "      <th>selftext</th>\n",
       "      <th>title</th>\n",
       "      <th>subreddit</th>\n",
       "    </tr>\n",
       "  </thead>\n",
       "  <tbody>\n",
       "    <tr>\n",
       "      <th>0</th>\n",
       "      <td>I recently discovered skepticism and epistemol...</td>\n",
       "      <td>Has cartesian skepticism ever induced anxiety ...</td>\n",
       "      <td>askphilosophy</td>\n",
       "    </tr>\n",
       "    <tr>\n",
       "      <th>1</th>\n",
       "      <td>I know that Dostoevsky influenced Nietzche and...</td>\n",
       "      <td>What impact did the novel Crime and Punishment...</td>\n",
       "      <td>askphilosophy</td>\n",
       "    </tr>\n",
       "    <tr>\n",
       "      <th>2</th>\n",
       "      <td>Background to the Question:\\n\\nI'm fairly well...</td>\n",
       "      <td>Looking for work synthesizing Eastern &amp;amp; We...</td>\n",
       "      <td>askphilosophy</td>\n",
       "    </tr>\n",
       "    <tr>\n",
       "      <th>3</th>\n",
       "      <td>Hi folks, \\n\\nI’m new to studying theology/phi...</td>\n",
       "      <td>Response(s) to critiques of the Vedic-Upanisad...</td>\n",
       "      <td>askphilosophy</td>\n",
       "    </tr>\n",
       "    <tr>\n",
       "      <th>4</th>\n",
       "      <td>I've been listening to his interview on Youtub...</td>\n",
       "      <td>What's your take on Joseph Campbell's advice o...</td>\n",
       "      <td>askphilosophy</td>\n",
       "    </tr>\n",
       "  </tbody>\n",
       "</table>\n",
       "</div>"
      ],
      "text/plain": [
       "                                            selftext  \\\n",
       "0  I recently discovered skepticism and epistemol...   \n",
       "1  I know that Dostoevsky influenced Nietzche and...   \n",
       "2  Background to the Question:\\n\\nI'm fairly well...   \n",
       "3  Hi folks, \\n\\nI’m new to studying theology/phi...   \n",
       "4  I've been listening to his interview on Youtub...   \n",
       "\n",
       "                                               title      subreddit  \n",
       "0  Has cartesian skepticism ever induced anxiety ...  askphilosophy  \n",
       "1  What impact did the novel Crime and Punishment...  askphilosophy  \n",
       "2  Looking for work synthesizing Eastern &amp; We...  askphilosophy  \n",
       "3  Response(s) to critiques of the Vedic-Upanisad...  askphilosophy  \n",
       "4  What's your take on Joseph Campbell's advice o...  askphilosophy  "
      ]
     },
     "execution_count": 25,
     "metadata": {},
     "output_type": "execute_result"
    }
   ],
   "source": [
    "phil_df_3 = df_3[['selftext', 'title', 'subreddit']]\n",
    "phil_df_3.head()"
   ]
  },
  {
   "cell_type": "code",
   "execution_count": 26,
   "id": "18b2c186-c6fc-4879-85f1-2d2a7577607f",
   "metadata": {},
   "outputs": [
    {
     "data": {
      "text/plain": [
       "245    1663212787\n",
       "246    1663212599\n",
       "247    1663211337\n",
       "248    1663210968\n",
       "249    1663208922\n",
       "Name: created_utc, dtype: int64"
      ]
     },
     "execution_count": 26,
     "metadata": {},
     "output_type": "execute_result"
    }
   ],
   "source": [
    "df_3['created_utc'].tail()"
   ]
  },
  {
   "cell_type": "code",
   "execution_count": 27,
   "id": "83ec6a32-53ff-48a5-817c-77ff8d8568b2",
   "metadata": {},
   "outputs": [
    {
     "name": "stdout",
     "output_type": "stream",
     "text": [
      "200\n"
     ]
    }
   ],
   "source": [
    "params = {'subreddit' : 'askphilosophy', 'size': 250, 'before': 1663208922}\n",
    "url = 'https://api.pushshift.io/reddit/search/submission/'\n",
    "req = requests.get(url, params)\n",
    "print(req.status_code)\n",
    "phil = req.json()"
   ]
  },
  {
   "cell_type": "code",
   "execution_count": 28,
   "id": "7f61130c-a6ba-43b6-8df3-4cfbcbf702d3",
   "metadata": {},
   "outputs": [
    {
     "data": {
      "text/plain": [
       "(250, 72)"
      ]
     },
     "execution_count": 28,
     "metadata": {},
     "output_type": "execute_result"
    }
   ],
   "source": [
    "posts_4 = phil['data']\n",
    "df_4 = pd.DataFrame(posts_4)\n",
    "df_4.shape"
   ]
  },
  {
   "cell_type": "code",
   "execution_count": 29,
   "id": "5d77232a-5fea-4db7-9abe-741e43de9a79",
   "metadata": {},
   "outputs": [
    {
     "data": {
      "text/html": [
       "<div>\n",
       "<style scoped>\n",
       "    .dataframe tbody tr th:only-of-type {\n",
       "        vertical-align: middle;\n",
       "    }\n",
       "\n",
       "    .dataframe tbody tr th {\n",
       "        vertical-align: top;\n",
       "    }\n",
       "\n",
       "    .dataframe thead th {\n",
       "        text-align: right;\n",
       "    }\n",
       "</style>\n",
       "<table border=\"1\" class=\"dataframe\">\n",
       "  <thead>\n",
       "    <tr style=\"text-align: right;\">\n",
       "      <th></th>\n",
       "      <th>selftext</th>\n",
       "      <th>title</th>\n",
       "      <th>subreddit</th>\n",
       "    </tr>\n",
       "  </thead>\n",
       "  <tbody>\n",
       "    <tr>\n",
       "      <th>0</th>\n",
       "      <td></td>\n",
       "      <td>In The Absurd by Thomas Nagel, what do “chains...</td>\n",
       "      <td>askphilosophy</td>\n",
       "    </tr>\n",
       "    <tr>\n",
       "      <th>1</th>\n",
       "      <td>What *should* you do? Well, what is useful? Wh...</td>\n",
       "      <td>Doesn't every moral question boil down to util...</td>\n",
       "      <td>askphilosophy</td>\n",
       "    </tr>\n",
       "    <tr>\n",
       "      <th>2</th>\n",
       "      <td>I have seen this term everywhere, from Baudril...</td>\n",
       "      <td>Can someone explain the nuances of the term 'v...</td>\n",
       "      <td>askphilosophy</td>\n",
       "    </tr>\n",
       "    <tr>\n",
       "      <th>3</th>\n",
       "      <td></td>\n",
       "      <td>For you what is personhood?</td>\n",
       "      <td>askphilosophy</td>\n",
       "    </tr>\n",
       "    <tr>\n",
       "      <th>4</th>\n",
       "      <td>Are there any pointers for determining which q...</td>\n",
       "      <td>What Questions Should I Have When Reading Witt...</td>\n",
       "      <td>askphilosophy</td>\n",
       "    </tr>\n",
       "  </tbody>\n",
       "</table>\n",
       "</div>"
      ],
      "text/plain": [
       "                                            selftext  \\\n",
       "0                                                      \n",
       "1  What *should* you do? Well, what is useful? Wh...   \n",
       "2  I have seen this term everywhere, from Baudril...   \n",
       "3                                                      \n",
       "4  Are there any pointers for determining which q...   \n",
       "\n",
       "                                               title      subreddit  \n",
       "0  In The Absurd by Thomas Nagel, what do “chains...  askphilosophy  \n",
       "1  Doesn't every moral question boil down to util...  askphilosophy  \n",
       "2  Can someone explain the nuances of the term 'v...  askphilosophy  \n",
       "3                        For you what is personhood?  askphilosophy  \n",
       "4  What Questions Should I Have When Reading Witt...  askphilosophy  "
      ]
     },
     "execution_count": 29,
     "metadata": {},
     "output_type": "execute_result"
    }
   ],
   "source": [
    "phil_df_4 = df_4[['selftext', 'title', 'subreddit']]\n",
    "phil_df_4.head()"
   ]
  },
  {
   "cell_type": "code",
   "execution_count": 30,
   "id": "ebc29b1d-c3d9-430e-a551-aeb06d5f6a0a",
   "metadata": {},
   "outputs": [
    {
     "data": {
      "text/plain": [
       "245    1662767808\n",
       "246    1662765422\n",
       "247    1662764300\n",
       "248    1662763516\n",
       "249    1662761265\n",
       "Name: created_utc, dtype: int64"
      ]
     },
     "execution_count": 30,
     "metadata": {},
     "output_type": "execute_result"
    }
   ],
   "source": [
    "df_4['created_utc'].tail()"
   ]
  },
  {
   "cell_type": "code",
   "execution_count": 31,
   "id": "f8762973-3141-4e16-8533-a6695ff7cf1b",
   "metadata": {},
   "outputs": [
    {
     "name": "stdout",
     "output_type": "stream",
     "text": [
      "200\n"
     ]
    }
   ],
   "source": [
    "params = {'subreddit' : 'askphilosophy', 'size': 250, 'before': 1662761265}\n",
    "url = 'https://api.pushshift.io/reddit/search/submission/'\n",
    "req = requests.get(url, params)\n",
    "print(req.status_code)\n",
    "phil = req.json()"
   ]
  },
  {
   "cell_type": "code",
   "execution_count": 32,
   "id": "c9ee9096-4473-4a4b-ac63-27d2615a2aea",
   "metadata": {},
   "outputs": [
    {
     "data": {
      "text/plain": [
       "(250, 71)"
      ]
     },
     "execution_count": 32,
     "metadata": {},
     "output_type": "execute_result"
    }
   ],
   "source": [
    "posts_5 = phil['data']\n",
    "df_5 = pd.DataFrame(posts_5)\n",
    "df_5.shape"
   ]
  },
  {
   "cell_type": "code",
   "execution_count": 33,
   "id": "518f70ea-1465-4dbe-b9cf-4074c620feed",
   "metadata": {},
   "outputs": [
    {
     "data": {
      "text/html": [
       "<div>\n",
       "<style scoped>\n",
       "    .dataframe tbody tr th:only-of-type {\n",
       "        vertical-align: middle;\n",
       "    }\n",
       "\n",
       "    .dataframe tbody tr th {\n",
       "        vertical-align: top;\n",
       "    }\n",
       "\n",
       "    .dataframe thead th {\n",
       "        text-align: right;\n",
       "    }\n",
       "</style>\n",
       "<table border=\"1\" class=\"dataframe\">\n",
       "  <thead>\n",
       "    <tr style=\"text-align: right;\">\n",
       "      <th></th>\n",
       "      <th>selftext</th>\n",
       "      <th>title</th>\n",
       "      <th>subreddit</th>\n",
       "    </tr>\n",
       "  </thead>\n",
       "  <tbody>\n",
       "    <tr>\n",
       "      <th>0</th>\n",
       "      <td></td>\n",
       "      <td>Are there any philosophy books that deal with ...</td>\n",
       "      <td>askphilosophy</td>\n",
       "    </tr>\n",
       "    <tr>\n",
       "      <th>1</th>\n",
       "      <td></td>\n",
       "      <td>Any good books for coping with wasted time?</td>\n",
       "      <td>askphilosophy</td>\n",
       "    </tr>\n",
       "    <tr>\n",
       "      <th>2</th>\n",
       "      <td>[removed]</td>\n",
       "      <td>I am suicidal. What philsophers should I read?</td>\n",
       "      <td>askphilosophy</td>\n",
       "    </tr>\n",
       "    <tr>\n",
       "      <th>3</th>\n",
       "      <td></td>\n",
       "      <td>Do questions have an end ?</td>\n",
       "      <td>askphilosophy</td>\n",
       "    </tr>\n",
       "    <tr>\n",
       "      <th>4</th>\n",
       "      <td>This is going to be a bit of a longer post I t...</td>\n",
       "      <td>I am told quite a bit that Philosophy Majors a...</td>\n",
       "      <td>askphilosophy</td>\n",
       "    </tr>\n",
       "  </tbody>\n",
       "</table>\n",
       "</div>"
      ],
      "text/plain": [
       "                                            selftext  \\\n",
       "0                                                      \n",
       "1                                                      \n",
       "2                                          [removed]   \n",
       "3                                                      \n",
       "4  This is going to be a bit of a longer post I t...   \n",
       "\n",
       "                                               title      subreddit  \n",
       "0  Are there any philosophy books that deal with ...  askphilosophy  \n",
       "1        Any good books for coping with wasted time?  askphilosophy  \n",
       "2     I am suicidal. What philsophers should I read?  askphilosophy  \n",
       "3                         Do questions have an end ?  askphilosophy  \n",
       "4  I am told quite a bit that Philosophy Majors a...  askphilosophy  "
      ]
     },
     "execution_count": 33,
     "metadata": {},
     "output_type": "execute_result"
    }
   ],
   "source": [
    "phil_df_5 = df_5[['selftext', 'title', 'subreddit']]\n",
    "phil_df_5.head()"
   ]
  },
  {
   "cell_type": "code",
   "execution_count": 34,
   "id": "bfa53fd9-bbaf-42c6-b00e-7a7c6d1ca27d",
   "metadata": {},
   "outputs": [
    {
     "data": {
      "text/plain": [
       "245    1662326669\n",
       "246    1662326531\n",
       "247    1662324167\n",
       "248    1662319415\n",
       "249    1662318697\n",
       "Name: created_utc, dtype: int64"
      ]
     },
     "execution_count": 34,
     "metadata": {},
     "output_type": "execute_result"
    }
   ],
   "source": [
    "df_5['created_utc'].tail()"
   ]
  },
  {
   "cell_type": "markdown",
   "id": "e3a67253-dd64-4e0b-abea-43d9a8704501",
   "metadata": {},
   "source": [
    "### Was retrieving posts by hand and then realized I could write a function for it "
   ]
  },
  {
   "cell_type": "code",
   "execution_count": 48,
   "id": "3cf9545d-ba1a-4aaf-bf8f-971d9e049b4a",
   "metadata": {},
   "outputs": [],
   "source": [
    "def retrieve_posts(utc, number):\n",
    "    params = {'subreddit' : 'askphilosophy', 'size': 250, 'before': utc}\n",
    "    url = 'https://api.pushshift.io/reddit/search/submission/'\n",
    "    req = requests.get(url, params)\n",
    "    print(req.status_code)\n",
    "    phil = req.json()\n",
    "    \n",
    "    posts_number = phil['data']\n",
    "    df_number = pd.DataFrame(posts_number)\n",
    "    df_number.shape\n",
    "    \n",
    "    phil_df_number = df_number[['selftext', 'title', 'subreddit']]\n",
    "    display(phil_df_number.head())\n",
    "    display(df_number['created_utc'].tail())\n",
    "    return phil_df_number"
   ]
  },
  {
   "cell_type": "code",
   "execution_count": 51,
   "id": "380bda9c-c77e-49f6-9a65-672e75bdd11a",
   "metadata": {},
   "outputs": [
    {
     "name": "stdout",
     "output_type": "stream",
     "text": [
      "200\n"
     ]
    },
    {
     "data": {
      "text/html": [
       "<div>\n",
       "<style scoped>\n",
       "    .dataframe tbody tr th:only-of-type {\n",
       "        vertical-align: middle;\n",
       "    }\n",
       "\n",
       "    .dataframe tbody tr th {\n",
       "        vertical-align: top;\n",
       "    }\n",
       "\n",
       "    .dataframe thead th {\n",
       "        text-align: right;\n",
       "    }\n",
       "</style>\n",
       "<table border=\"1\" class=\"dataframe\">\n",
       "  <thead>\n",
       "    <tr style=\"text-align: right;\">\n",
       "      <th></th>\n",
       "      <th>selftext</th>\n",
       "      <th>title</th>\n",
       "      <th>subreddit</th>\n",
       "    </tr>\n",
       "  </thead>\n",
       "  <tbody>\n",
       "    <tr>\n",
       "      <th>0</th>\n",
       "      <td>I read the Apology first, and I enjoyed it and...</td>\n",
       "      <td>I cannot understand Charmides by Plato. What a...</td>\n",
       "      <td>askphilosophy</td>\n",
       "    </tr>\n",
       "    <tr>\n",
       "      <th>1</th>\n",
       "      <td>Can somebody tell me where I can find Kierkega...</td>\n",
       "      <td>Kierkegaard on the absurd</td>\n",
       "      <td>askphilosophy</td>\n",
       "    </tr>\n",
       "    <tr>\n",
       "      <th>2</th>\n",
       "      <td>(In my limited understanding) the Copenhagen i...</td>\n",
       "      <td>Philosophy of science: Does the Copenhagen int...</td>\n",
       "      <td>askphilosophy</td>\n",
       "    </tr>\n",
       "    <tr>\n",
       "      <th>3</th>\n",
       "      <td>I was wondering if excellence as a property it...</td>\n",
       "      <td>Are there any philosophers who argue that exce...</td>\n",
       "      <td>askphilosophy</td>\n",
       "    </tr>\n",
       "    <tr>\n",
       "      <th>4</th>\n",
       "      <td>I recently saw a Netflix web series \"the Sandm...</td>\n",
       "      <td>Immortality..!!</td>\n",
       "      <td>askphilosophy</td>\n",
       "    </tr>\n",
       "  </tbody>\n",
       "</table>\n",
       "</div>"
      ],
      "text/plain": [
       "                                            selftext  \\\n",
       "0  I read the Apology first, and I enjoyed it and...   \n",
       "1  Can somebody tell me where I can find Kierkega...   \n",
       "2  (In my limited understanding) the Copenhagen i...   \n",
       "3  I was wondering if excellence as a property it...   \n",
       "4  I recently saw a Netflix web series \"the Sandm...   \n",
       "\n",
       "                                               title      subreddit  \n",
       "0  I cannot understand Charmides by Plato. What a...  askphilosophy  \n",
       "1                          Kierkegaard on the absurd  askphilosophy  \n",
       "2  Philosophy of science: Does the Copenhagen int...  askphilosophy  \n",
       "3  Are there any philosophers who argue that exce...  askphilosophy  \n",
       "4                                    Immortality..!!  askphilosophy  "
      ]
     },
     "metadata": {},
     "output_type": "display_data"
    },
    {
     "data": {
      "text/plain": [
       "243    1661896668\n",
       "244    1661894076\n",
       "245    1661892919\n",
       "246    1661892445\n",
       "247    1661891814\n",
       "Name: created_utc, dtype: int64"
      ]
     },
     "metadata": {},
     "output_type": "display_data"
    }
   ],
   "source": [
    "phil_df_6 = retrieve_posts(1662318697, 6)"
   ]
  },
  {
   "cell_type": "code",
   "execution_count": 55,
   "id": "0b9aa67a-6b9f-4f4e-ba0a-778548106b36",
   "metadata": {},
   "outputs": [
    {
     "name": "stdout",
     "output_type": "stream",
     "text": [
      "200\n"
     ]
    },
    {
     "data": {
      "text/html": [
       "<div>\n",
       "<style scoped>\n",
       "    .dataframe tbody tr th:only-of-type {\n",
       "        vertical-align: middle;\n",
       "    }\n",
       "\n",
       "    .dataframe tbody tr th {\n",
       "        vertical-align: top;\n",
       "    }\n",
       "\n",
       "    .dataframe thead th {\n",
       "        text-align: right;\n",
       "    }\n",
       "</style>\n",
       "<table border=\"1\" class=\"dataframe\">\n",
       "  <thead>\n",
       "    <tr style=\"text-align: right;\">\n",
       "      <th></th>\n",
       "      <th>selftext</th>\n",
       "      <th>title</th>\n",
       "      <th>subreddit</th>\n",
       "    </tr>\n",
       "  </thead>\n",
       "  <tbody>\n",
       "    <tr>\n",
       "      <th>0</th>\n",
       "      <td>So I've been thinking and reading about utilit...</td>\n",
       "      <td>Do any utilitarians, especially negative utili...</td>\n",
       "      <td>askphilosophy</td>\n",
       "    </tr>\n",
       "    <tr>\n",
       "      <th>1</th>\n",
       "      <td></td>\n",
       "      <td>If one is able to predict the future(accuratel...</td>\n",
       "      <td>askphilosophy</td>\n",
       "    </tr>\n",
       "    <tr>\n",
       "      <th>2</th>\n",
       "      <td>Does Baudrillards focus on our departure from ...</td>\n",
       "      <td>Baudrillard and whats real</td>\n",
       "      <td>askphilosophy</td>\n",
       "    </tr>\n",
       "    <tr>\n",
       "      <th>3</th>\n",
       "      <td></td>\n",
       "      <td>Tell me what you know and think about Humanism...</td>\n",
       "      <td>askphilosophy</td>\n",
       "    </tr>\n",
       "    <tr>\n",
       "      <th>4</th>\n",
       "      <td></td>\n",
       "      <td>What's the difference between moral Relativism...</td>\n",
       "      <td>askphilosophy</td>\n",
       "    </tr>\n",
       "  </tbody>\n",
       "</table>\n",
       "</div>"
      ],
      "text/plain": [
       "                                            selftext  \\\n",
       "0  So I've been thinking and reading about utilit...   \n",
       "1                                                      \n",
       "2  Does Baudrillards focus on our departure from ...   \n",
       "3                                                      \n",
       "4                                                      \n",
       "\n",
       "                                               title      subreddit  \n",
       "0  Do any utilitarians, especially negative utili...  askphilosophy  \n",
       "1  If one is able to predict the future(accuratel...  askphilosophy  \n",
       "2                         Baudrillard and whats real  askphilosophy  \n",
       "3  Tell me what you know and think about Humanism...  askphilosophy  \n",
       "4  What's the difference between moral Relativism...  askphilosophy  "
      ]
     },
     "metadata": {},
     "output_type": "display_data"
    },
    {
     "data": {
      "text/plain": [
       "245    1661439844\n",
       "246    1661434814\n",
       "247    1661431484\n",
       "248    1661429853\n",
       "249    1661427780\n",
       "Name: created_utc, dtype: int64"
      ]
     },
     "metadata": {},
     "output_type": "display_data"
    }
   ],
   "source": [
    "phil_df_7 = retrieve_posts(1661891814, 7)"
   ]
  },
  {
   "cell_type": "code",
   "execution_count": 56,
   "id": "b35b6786-6054-4fba-9104-c51a2d136e05",
   "metadata": {},
   "outputs": [
    {
     "name": "stdout",
     "output_type": "stream",
     "text": [
      "200\n"
     ]
    },
    {
     "data": {
      "text/html": [
       "<div>\n",
       "<style scoped>\n",
       "    .dataframe tbody tr th:only-of-type {\n",
       "        vertical-align: middle;\n",
       "    }\n",
       "\n",
       "    .dataframe tbody tr th {\n",
       "        vertical-align: top;\n",
       "    }\n",
       "\n",
       "    .dataframe thead th {\n",
       "        text-align: right;\n",
       "    }\n",
       "</style>\n",
       "<table border=\"1\" class=\"dataframe\">\n",
       "  <thead>\n",
       "    <tr style=\"text-align: right;\">\n",
       "      <th></th>\n",
       "      <th>selftext</th>\n",
       "      <th>title</th>\n",
       "      <th>subreddit</th>\n",
       "    </tr>\n",
       "  </thead>\n",
       "  <tbody>\n",
       "    <tr>\n",
       "      <th>0</th>\n",
       "      <td>I think I understand the multiple realisabilit...</td>\n",
       "      <td>What’s wrong with mind brain token ID theory?</td>\n",
       "      <td>askphilosophy</td>\n",
       "    </tr>\n",
       "    <tr>\n",
       "      <th>1</th>\n",
       "      <td>Im really interested in philosophy and discove...</td>\n",
       "      <td>Im thinking of doing an MA, coming with a bach...</td>\n",
       "      <td>askphilosophy</td>\n",
       "    </tr>\n",
       "    <tr>\n",
       "      <th>2</th>\n",
       "      <td>**I just read the prologue of \"thus spoke Zara...</td>\n",
       "      <td>snake and eagle in \"thus spoke Zarathustra\"</td>\n",
       "      <td>askphilosophy</td>\n",
       "    </tr>\n",
       "    <tr>\n",
       "      <th>3</th>\n",
       "      <td></td>\n",
       "      <td>Is being agnostic the the view of any philosop...</td>\n",
       "      <td>askphilosophy</td>\n",
       "    </tr>\n",
       "    <tr>\n",
       "      <th>4</th>\n",
       "      <td>I havnt studied logic formally past a simple l...</td>\n",
       "      <td>When can \"A and not A\" be true?</td>\n",
       "      <td>askphilosophy</td>\n",
       "    </tr>\n",
       "  </tbody>\n",
       "</table>\n",
       "</div>"
      ],
      "text/plain": [
       "                                            selftext  \\\n",
       "0  I think I understand the multiple realisabilit...   \n",
       "1  Im really interested in philosophy and discove...   \n",
       "2  **I just read the prologue of \"thus spoke Zara...   \n",
       "3                                                      \n",
       "4  I havnt studied logic formally past a simple l...   \n",
       "\n",
       "                                               title      subreddit  \n",
       "0      What’s wrong with mind brain token ID theory?  askphilosophy  \n",
       "1  Im thinking of doing an MA, coming with a bach...  askphilosophy  \n",
       "2        snake and eagle in \"thus spoke Zarathustra\"  askphilosophy  \n",
       "3  Is being agnostic the the view of any philosop...  askphilosophy  \n",
       "4                    When can \"A and not A\" be true?  askphilosophy  "
      ]
     },
     "metadata": {},
     "output_type": "display_data"
    },
    {
     "data": {
      "text/plain": [
       "245    1661020070\n",
       "246    1661020032\n",
       "247    1661019454\n",
       "248    1661019443\n",
       "249    1661016770\n",
       "Name: created_utc, dtype: int64"
      ]
     },
     "metadata": {},
     "output_type": "display_data"
    }
   ],
   "source": [
    "phil_df_8 = retrieve_posts(1661427780, 8)"
   ]
  },
  {
   "cell_type": "code",
   "execution_count": 57,
   "id": "a6a73a27-50a0-4728-b58e-90692e6b07a5",
   "metadata": {},
   "outputs": [
    {
     "name": "stdout",
     "output_type": "stream",
     "text": [
      "200\n"
     ]
    },
    {
     "data": {
      "text/html": [
       "<div>\n",
       "<style scoped>\n",
       "    .dataframe tbody tr th:only-of-type {\n",
       "        vertical-align: middle;\n",
       "    }\n",
       "\n",
       "    .dataframe tbody tr th {\n",
       "        vertical-align: top;\n",
       "    }\n",
       "\n",
       "    .dataframe thead th {\n",
       "        text-align: right;\n",
       "    }\n",
       "</style>\n",
       "<table border=\"1\" class=\"dataframe\">\n",
       "  <thead>\n",
       "    <tr style=\"text-align: right;\">\n",
       "      <th></th>\n",
       "      <th>selftext</th>\n",
       "      <th>title</th>\n",
       "      <th>subreddit</th>\n",
       "    </tr>\n",
       "  </thead>\n",
       "  <tbody>\n",
       "    <tr>\n",
       "      <th>0</th>\n",
       "      <td>That, for all my love of philosophy, I did not...</td>\n",
       "      <td>What did Marcus Aurelius mean by this passage?</td>\n",
       "      <td>askphilosophy</td>\n",
       "    </tr>\n",
       "    <tr>\n",
       "      <th>1</th>\n",
       "      <td>Hi, I am presently listening to these [series ...</td>\n",
       "      <td>Question about the metaphysics of emotion</td>\n",
       "      <td>askphilosophy</td>\n",
       "    </tr>\n",
       "    <tr>\n",
       "      <th>2</th>\n",
       "      <td>In other words: Can we exist as non-persons? I...</td>\n",
       "      <td>Are we necessarily persons?</td>\n",
       "      <td>askphilosophy</td>\n",
       "    </tr>\n",
       "    <tr>\n",
       "      <th>3</th>\n",
       "      <td>Who would you ask?\\n\\nLet’s say one person has...</td>\n",
       "      <td>Who would you ask for advice?</td>\n",
       "      <td>askphilosophy</td>\n",
       "    </tr>\n",
       "    <tr>\n",
       "      <th>4</th>\n",
       "      <td>I had never heard of Ayn Rand until last week,...</td>\n",
       "      <td>Is there anything in the writing of Ayn Rand w...</td>\n",
       "      <td>askphilosophy</td>\n",
       "    </tr>\n",
       "  </tbody>\n",
       "</table>\n",
       "</div>"
      ],
      "text/plain": [
       "                                            selftext  \\\n",
       "0  That, for all my love of philosophy, I did not...   \n",
       "1  Hi, I am presently listening to these [series ...   \n",
       "2  In other words: Can we exist as non-persons? I...   \n",
       "3  Who would you ask?\\n\\nLet’s say one person has...   \n",
       "4  I had never heard of Ayn Rand until last week,...   \n",
       "\n",
       "                                               title      subreddit  \n",
       "0     What did Marcus Aurelius mean by this passage?  askphilosophy  \n",
       "1          Question about the metaphysics of emotion  askphilosophy  \n",
       "2                        Are we necessarily persons?  askphilosophy  \n",
       "3                      Who would you ask for advice?  askphilosophy  \n",
       "4  Is there anything in the writing of Ayn Rand w...  askphilosophy  "
      ]
     },
     "metadata": {},
     "output_type": "display_data"
    },
    {
     "data": {
      "text/plain": [
       "244    1660551303\n",
       "245    1660551178\n",
       "246    1660549754\n",
       "247    1660548083\n",
       "248    1660545224\n",
       "Name: created_utc, dtype: int64"
      ]
     },
     "metadata": {},
     "output_type": "display_data"
    }
   ],
   "source": [
    "phil_df_9 = retrieve_posts(1661016770, 9)"
   ]
  },
  {
   "cell_type": "code",
   "execution_count": 58,
   "id": "1ed35290-7a5c-4c52-88f7-cce297cbaf8d",
   "metadata": {},
   "outputs": [
    {
     "name": "stdout",
     "output_type": "stream",
     "text": [
      "200\n"
     ]
    },
    {
     "data": {
      "text/html": [
       "<div>\n",
       "<style scoped>\n",
       "    .dataframe tbody tr th:only-of-type {\n",
       "        vertical-align: middle;\n",
       "    }\n",
       "\n",
       "    .dataframe tbody tr th {\n",
       "        vertical-align: top;\n",
       "    }\n",
       "\n",
       "    .dataframe thead th {\n",
       "        text-align: right;\n",
       "    }\n",
       "</style>\n",
       "<table border=\"1\" class=\"dataframe\">\n",
       "  <thead>\n",
       "    <tr style=\"text-align: right;\">\n",
       "      <th></th>\n",
       "      <th>selftext</th>\n",
       "      <th>title</th>\n",
       "      <th>subreddit</th>\n",
       "    </tr>\n",
       "  </thead>\n",
       "  <tbody>\n",
       "    <tr>\n",
       "      <th>0</th>\n",
       "      <td>I'm hoping to use this as the conceptual frame...</td>\n",
       "      <td>Foucauldian theory of the power of knowledge</td>\n",
       "      <td>askphilosophy</td>\n",
       "    </tr>\n",
       "    <tr>\n",
       "      <th>1</th>\n",
       "      <td>When defining abstract objects like cat or cup...</td>\n",
       "      <td>Are definitions metaphysical?</td>\n",
       "      <td>askphilosophy</td>\n",
       "    </tr>\n",
       "    <tr>\n",
       "      <th>2</th>\n",
       "      <td>The western world's foundation is largely root...</td>\n",
       "      <td>How might western society be different if it i...</td>\n",
       "      <td>askphilosophy</td>\n",
       "    </tr>\n",
       "    <tr>\n",
       "      <th>3</th>\n",
       "      <td>if culture and values can be subjective and re...</td>\n",
       "      <td>open discussion</td>\n",
       "      <td>askphilosophy</td>\n",
       "    </tr>\n",
       "    <tr>\n",
       "      <th>4</th>\n",
       "      <td>if culture and values can be subjective and re...</td>\n",
       "      <td>thoughts?</td>\n",
       "      <td>askphilosophy</td>\n",
       "    </tr>\n",
       "  </tbody>\n",
       "</table>\n",
       "</div>"
      ],
      "text/plain": [
       "                                            selftext  \\\n",
       "0  I'm hoping to use this as the conceptual frame...   \n",
       "1  When defining abstract objects like cat or cup...   \n",
       "2  The western world's foundation is largely root...   \n",
       "3  if culture and values can be subjective and re...   \n",
       "4  if culture and values can be subjective and re...   \n",
       "\n",
       "                                               title      subreddit  \n",
       "0       Foucauldian theory of the power of knowledge  askphilosophy  \n",
       "1                      Are definitions metaphysical?  askphilosophy  \n",
       "2  How might western society be different if it i...  askphilosophy  \n",
       "3                                    open discussion  askphilosophy  \n",
       "4                                          thoughts?  askphilosophy  "
      ]
     },
     "metadata": {},
     "output_type": "display_data"
    },
    {
     "data": {
      "text/plain": [
       "245    1660147488\n",
       "246    1660146398\n",
       "247    1660146159\n",
       "248    1660144522\n",
       "249    1660143291\n",
       "Name: created_utc, dtype: int64"
      ]
     },
     "metadata": {},
     "output_type": "display_data"
    }
   ],
   "source": [
    "phil_df_10 = retrieve_posts(1660545224, 10)"
   ]
  },
  {
   "cell_type": "code",
   "execution_count": 59,
   "id": "4b973c94-f596-416e-abf3-8e97fff722c7",
   "metadata": {},
   "outputs": [
    {
     "name": "stdout",
     "output_type": "stream",
     "text": [
      "200\n"
     ]
    },
    {
     "data": {
      "text/html": [
       "<div>\n",
       "<style scoped>\n",
       "    .dataframe tbody tr th:only-of-type {\n",
       "        vertical-align: middle;\n",
       "    }\n",
       "\n",
       "    .dataframe tbody tr th {\n",
       "        vertical-align: top;\n",
       "    }\n",
       "\n",
       "    .dataframe thead th {\n",
       "        text-align: right;\n",
       "    }\n",
       "</style>\n",
       "<table border=\"1\" class=\"dataframe\">\n",
       "  <thead>\n",
       "    <tr style=\"text-align: right;\">\n",
       "      <th></th>\n",
       "      <th>selftext</th>\n",
       "      <th>title</th>\n",
       "      <th>subreddit</th>\n",
       "    </tr>\n",
       "  </thead>\n",
       "  <tbody>\n",
       "    <tr>\n",
       "      <th>0</th>\n",
       "      <td>What are some good introductory textbooks on d...</td>\n",
       "      <td>What are some good introductory textbooks on d...</td>\n",
       "      <td>askphilosophy</td>\n",
       "    </tr>\n",
       "    <tr>\n",
       "      <th>1</th>\n",
       "      <td>By art, I am referring to any creative endeavo...</td>\n",
       "      <td>Where does an artist's source of fulfillment c...</td>\n",
       "      <td>askphilosophy</td>\n",
       "    </tr>\n",
       "    <tr>\n",
       "      <th>2</th>\n",
       "      <td>I’m so sure I’m the only real human. Just toda...</td>\n",
       "      <td>Are you real?</td>\n",
       "      <td>askphilosophy</td>\n",
       "    </tr>\n",
       "    <tr>\n",
       "      <th>3</th>\n",
       "      <td>I'm back on my aesthetics route and wanted to ...</td>\n",
       "      <td>Do any of you make art?</td>\n",
       "      <td>askphilosophy</td>\n",
       "    </tr>\n",
       "    <tr>\n",
       "      <th>4</th>\n",
       "      <td></td>\n",
       "      <td>What does the statement \"Number stands outside...</td>\n",
       "      <td>askphilosophy</td>\n",
       "    </tr>\n",
       "  </tbody>\n",
       "</table>\n",
       "</div>"
      ],
      "text/plain": [
       "                                            selftext  \\\n",
       "0  What are some good introductory textbooks on d...   \n",
       "1  By art, I am referring to any creative endeavo...   \n",
       "2  I’m so sure I’m the only real human. Just toda...   \n",
       "3  I'm back on my aesthetics route and wanted to ...   \n",
       "4                                                      \n",
       "\n",
       "                                               title      subreddit  \n",
       "0  What are some good introductory textbooks on d...  askphilosophy  \n",
       "1  Where does an artist's source of fulfillment c...  askphilosophy  \n",
       "2                                      Are you real?  askphilosophy  \n",
       "3                            Do any of you make art?  askphilosophy  \n",
       "4  What does the statement \"Number stands outside...  askphilosophy  "
      ]
     },
     "metadata": {},
     "output_type": "display_data"
    },
    {
     "data": {
      "text/plain": [
       "245    1659745716\n",
       "246    1659744515\n",
       "247    1659741166\n",
       "248    1659740577\n",
       "249    1659737252\n",
       "Name: created_utc, dtype: int64"
      ]
     },
     "metadata": {},
     "output_type": "display_data"
    }
   ],
   "source": [
    "phil_df_11 = retrieve_posts(1660143291, 11)"
   ]
  },
  {
   "cell_type": "code",
   "execution_count": 60,
   "id": "4cee2b1e-e771-4492-b818-b109c7115f66",
   "metadata": {},
   "outputs": [
    {
     "name": "stdout",
     "output_type": "stream",
     "text": [
      "200\n"
     ]
    },
    {
     "data": {
      "text/html": [
       "<div>\n",
       "<style scoped>\n",
       "    .dataframe tbody tr th:only-of-type {\n",
       "        vertical-align: middle;\n",
       "    }\n",
       "\n",
       "    .dataframe tbody tr th {\n",
       "        vertical-align: top;\n",
       "    }\n",
       "\n",
       "    .dataframe thead th {\n",
       "        text-align: right;\n",
       "    }\n",
       "</style>\n",
       "<table border=\"1\" class=\"dataframe\">\n",
       "  <thead>\n",
       "    <tr style=\"text-align: right;\">\n",
       "      <th></th>\n",
       "      <th>selftext</th>\n",
       "      <th>title</th>\n",
       "      <th>subreddit</th>\n",
       "    </tr>\n",
       "  </thead>\n",
       "  <tbody>\n",
       "    <tr>\n",
       "      <th>0</th>\n",
       "      <td>\"All the time I pray to Buddha, I keep on kill...</td>\n",
       "      <td>what does this quote mean?</td>\n",
       "      <td>askphilosophy</td>\n",
       "    </tr>\n",
       "    <tr>\n",
       "      <th>1</th>\n",
       "      <td>[Suppose]I ask for a friend who is embarrassed...</td>\n",
       "      <td>What would you recommend to a recent graduate ...</td>\n",
       "      <td>askphilosophy</td>\n",
       "    </tr>\n",
       "    <tr>\n",
       "      <th>2</th>\n",
       "      <td>Hi, I recently read some of Spinoza's Ethics, ...</td>\n",
       "      <td>Any good commentary on Spinoza's works?</td>\n",
       "      <td>askphilosophy</td>\n",
       "    </tr>\n",
       "    <tr>\n",
       "      <th>3</th>\n",
       "      <td>Hi there, I'd like to ask you what are some of...</td>\n",
       "      <td>What's the best complete book for learning logic?</td>\n",
       "      <td>askphilosophy</td>\n",
       "    </tr>\n",
       "    <tr>\n",
       "      <th>4</th>\n",
       "      <td>Title.</td>\n",
       "      <td>Any good critiques/Counter theories of Kant's ...</td>\n",
       "      <td>askphilosophy</td>\n",
       "    </tr>\n",
       "  </tbody>\n",
       "</table>\n",
       "</div>"
      ],
      "text/plain": [
       "                                            selftext  \\\n",
       "0  \"All the time I pray to Buddha, I keep on kill...   \n",
       "1  [Suppose]I ask for a friend who is embarrassed...   \n",
       "2  Hi, I recently read some of Spinoza's Ethics, ...   \n",
       "3  Hi there, I'd like to ask you what are some of...   \n",
       "4                                             Title.   \n",
       "\n",
       "                                               title      subreddit  \n",
       "0                         what does this quote mean?  askphilosophy  \n",
       "1  What would you recommend to a recent graduate ...  askphilosophy  \n",
       "2            Any good commentary on Spinoza's works?  askphilosophy  \n",
       "3  What's the best complete book for learning logic?  askphilosophy  \n",
       "4  Any good critiques/Counter theories of Kant's ...  askphilosophy  "
      ]
     },
     "metadata": {},
     "output_type": "display_data"
    },
    {
     "data": {
      "text/plain": [
       "245    1659322353\n",
       "246    1659318978\n",
       "247    1659318898\n",
       "248    1659316868\n",
       "249    1659314985\n",
       "Name: created_utc, dtype: int64"
      ]
     },
     "metadata": {},
     "output_type": "display_data"
    }
   ],
   "source": [
    "phil_df_12 = retrieve_posts(1659737252, 12)"
   ]
  },
  {
   "cell_type": "markdown",
   "id": "ce8b77ad-b21a-46b9-9753-22ce0df99721",
   "metadata": {},
   "source": [
    "#### My function made a separate df every time it pulled 250 posts so I had to concatenate them into one dataframe "
   ]
  },
  {
   "cell_type": "code",
   "execution_count": 61,
   "id": "719f3928-ba02-4f8d-9004-d3b9681c0f2f",
   "metadata": {},
   "outputs": [
    {
     "data": {
      "text/plain": [
       "(2995, 3)"
      ]
     },
     "execution_count": 61,
     "metadata": {},
     "output_type": "execute_result"
    }
   ],
   "source": [
    "full_phil_df = pd.concat([phil_df_1, phil_df_2, phil_df_3, phil_df_4, phil_df_5, phil_df_6, phil_df_7, phil_df_8, phil_df_9, phil_df_10, phil_df_11, phil_df_12])\n",
    "full_phil_df.shape"
   ]
  },
  {
   "cell_type": "code",
   "execution_count": 62,
   "id": "6a0a09d6-7de7-4a8f-9ac5-eabb7dacf048",
   "metadata": {},
   "outputs": [
    {
     "data": {
      "text/html": [
       "<div>\n",
       "<style scoped>\n",
       "    .dataframe tbody tr th:only-of-type {\n",
       "        vertical-align: middle;\n",
       "    }\n",
       "\n",
       "    .dataframe tbody tr th {\n",
       "        vertical-align: top;\n",
       "    }\n",
       "\n",
       "    .dataframe thead th {\n",
       "        text-align: right;\n",
       "    }\n",
       "</style>\n",
       "<table border=\"1\" class=\"dataframe\">\n",
       "  <thead>\n",
       "    <tr style=\"text-align: right;\">\n",
       "      <th></th>\n",
       "      <th>selftext</th>\n",
       "      <th>title</th>\n",
       "      <th>subreddit</th>\n",
       "    </tr>\n",
       "  </thead>\n",
       "  <tbody>\n",
       "    <tr>\n",
       "      <th>0</th>\n",
       "      <td></td>\n",
       "      <td>What would your first official act be if you r...</td>\n",
       "      <td>askphilosophy</td>\n",
       "    </tr>\n",
       "    <tr>\n",
       "      <th>1</th>\n",
       "      <td>Can’t find anything from Google. There was an ...</td>\n",
       "      <td>Does anyone have the review of Camus’ The Rebe...</td>\n",
       "      <td>askphilosophy</td>\n",
       "    </tr>\n",
       "    <tr>\n",
       "      <th>2</th>\n",
       "      <td>I'm need to describe how they would handle foo...</td>\n",
       "      <td>What are characteristics of Ecological Constru...</td>\n",
       "      <td>askphilosophy</td>\n",
       "    </tr>\n",
       "    <tr>\n",
       "      <th>3</th>\n",
       "      <td>I can see how this cause would be eternal, nec...</td>\n",
       "      <td>How does the contingency argument show that th...</td>\n",
       "      <td>askphilosophy</td>\n",
       "    </tr>\n",
       "    <tr>\n",
       "      <th>4</th>\n",
       "      <td>What was once a precious guideline has been di...</td>\n",
       "      <td>From my very limited perspective, philosophy a...</td>\n",
       "      <td>askphilosophy</td>\n",
       "    </tr>\n",
       "  </tbody>\n",
       "</table>\n",
       "</div>"
      ],
      "text/plain": [
       "                                            selftext  \\\n",
       "0                                                      \n",
       "1  Can’t find anything from Google. There was an ...   \n",
       "2  I'm need to describe how they would handle foo...   \n",
       "3  I can see how this cause would be eternal, nec...   \n",
       "4  What was once a precious guideline has been di...   \n",
       "\n",
       "                                               title      subreddit  \n",
       "0  What would your first official act be if you r...  askphilosophy  \n",
       "1  Does anyone have the review of Camus’ The Rebe...  askphilosophy  \n",
       "2  What are characteristics of Ecological Constru...  askphilosophy  \n",
       "3  How does the contingency argument show that th...  askphilosophy  \n",
       "4  From my very limited perspective, philosophy a...  askphilosophy  "
      ]
     },
     "execution_count": 62,
     "metadata": {},
     "output_type": "execute_result"
    }
   ],
   "source": [
    "full_phil_df.head()"
   ]
  },
  {
   "cell_type": "code",
   "execution_count": 63,
   "id": "0df8ee24-51a0-45df-922d-839c64a806d2",
   "metadata": {},
   "outputs": [],
   "source": [
    "full_phil_df.to_csv('../project-3/askphil.csv')"
   ]
  },
  {
   "cell_type": "markdown",
   "id": "8a22cdb3-325a-401e-8b1e-93a311035717",
   "metadata": {},
   "source": [
    "# Creating Religion DataFrame"
   ]
  },
  {
   "cell_type": "code",
   "execution_count": 64,
   "id": "89303bf7-d3ca-4146-88a9-efd715665eeb",
   "metadata": {},
   "outputs": [],
   "source": [
    "def retrieve_posts_r(utc, number):\n",
    "    params = {'subreddit' : 'religion', 'size': 250, 'before': utc}\n",
    "    url = 'https://api.pushshift.io/reddit/search/submission/'\n",
    "    req = requests.get(url, params)\n",
    "    print(req.status_code)\n",
    "    relig = req.json()\n",
    "    \n",
    "    posts_number = relig['data']\n",
    "    df_number = pd.DataFrame(posts_number)\n",
    "    df_number.shape\n",
    "    \n",
    "    relig_df_number = df_number[['selftext', 'title', 'subreddit']]\n",
    "    display(relig_df_number.head())\n",
    "    display(df_number['created_utc'].tail())\n",
    "    return relig_df_number"
   ]
  },
  {
   "cell_type": "code",
   "execution_count": 67,
   "id": "987f3f37-5ae0-4a45-85c2-03112311cde0",
   "metadata": {},
   "outputs": [
    {
     "name": "stdout",
     "output_type": "stream",
     "text": [
      "200\n"
     ]
    },
    {
     "data": {
      "text/html": [
       "<div>\n",
       "<style scoped>\n",
       "    .dataframe tbody tr th:only-of-type {\n",
       "        vertical-align: middle;\n",
       "    }\n",
       "\n",
       "    .dataframe tbody tr th {\n",
       "        vertical-align: top;\n",
       "    }\n",
       "\n",
       "    .dataframe thead th {\n",
       "        text-align: right;\n",
       "    }\n",
       "</style>\n",
       "<table border=\"1\" class=\"dataframe\">\n",
       "  <thead>\n",
       "    <tr style=\"text-align: right;\">\n",
       "      <th></th>\n",
       "      <th>selftext</th>\n",
       "      <th>title</th>\n",
       "      <th>subreddit</th>\n",
       "    </tr>\n",
       "  </thead>\n",
       "  <tbody>\n",
       "    <tr>\n",
       "      <th>0</th>\n",
       "      <td>In some Buddhist texts, Buddhas are referred t...</td>\n",
       "      <td>Why the Buddha is called \"god over the gods\"</td>\n",
       "      <td>religion</td>\n",
       "    </tr>\n",
       "    <tr>\n",
       "      <th>1</th>\n",
       "      <td>Hi! As a Hellenic polytheist with Christian pa...</td>\n",
       "      <td>My mom confronting me on my altar.</td>\n",
       "      <td>religion</td>\n",
       "    </tr>\n",
       "    <tr>\n",
       "      <th>2</th>\n",
       "      <td>\\n\\nI was having a friendly discussion with a...</td>\n",
       "      <td>Does the act of looking for evidence of god’s ...</td>\n",
       "      <td>religion</td>\n",
       "    </tr>\n",
       "    <tr>\n",
       "      <th>3</th>\n",
       "      <td>[removed]</td>\n",
       "      <td>Interreligious marriage</td>\n",
       "      <td>religion</td>\n",
       "    </tr>\n",
       "    <tr>\n",
       "      <th>4</th>\n",
       "      <td></td>\n",
       "      <td>⚠️Persecution Exists Today, For Minorities Reg...</td>\n",
       "      <td>religion</td>\n",
       "    </tr>\n",
       "  </tbody>\n",
       "</table>\n",
       "</div>"
      ],
      "text/plain": [
       "                                            selftext  \\\n",
       "0  In some Buddhist texts, Buddhas are referred t...   \n",
       "1  Hi! As a Hellenic polytheist with Christian pa...   \n",
       "2   \\n\\nI was having a friendly discussion with a...   \n",
       "3                                          [removed]   \n",
       "4                                                      \n",
       "\n",
       "                                               title subreddit  \n",
       "0       Why the Buddha is called \"god over the gods\"  religion  \n",
       "1                 My mom confronting me on my altar.  religion  \n",
       "2  Does the act of looking for evidence of god’s ...  religion  \n",
       "3                            Interreligious marriage  religion  \n",
       "4  ⚠️Persecution Exists Today, For Minorities Reg...  religion  "
      ]
     },
     "metadata": {},
     "output_type": "display_data"
    },
    {
     "data": {
      "text/plain": [
       "244    1663889869\n",
       "245    1663888264\n",
       "246    1663887517\n",
       "247    1663887192\n",
       "248    1663886493\n",
       "Name: created_utc, dtype: int64"
      ]
     },
     "metadata": {},
     "output_type": "display_data"
    }
   ],
   "source": [
    "#function takes a utc number which we don't know on our original pull for the first 250 posts so I did the first one manually \n",
    "params = {'subreddit' : 'religion', 'size': 250}\n",
    "url = 'https://api.pushshift.io/reddit/search/submission/'\n",
    "req = requests.get(url, params)\n",
    "print(req.status_code)\n",
    "relig = req.json()\n",
    "    \n",
    "posts_1 = relig['data']\n",
    "df_1 = pd.DataFrame(posts_1)\n",
    "df_1.shape\n",
    "    \n",
    "relig_df_1 = df_1[['selftext', 'title', 'subreddit']]\n",
    "display(relig_df_1.head())\n",
    "display(df_1['created_utc'].tail())"
   ]
  },
  {
   "cell_type": "code",
   "execution_count": 75,
   "id": "e8f0446d-daf6-44b5-8a56-05ad4f6c605f",
   "metadata": {},
   "outputs": [
    {
     "name": "stdout",
     "output_type": "stream",
     "text": [
      "200\n"
     ]
    },
    {
     "data": {
      "text/html": [
       "<div>\n",
       "<style scoped>\n",
       "    .dataframe tbody tr th:only-of-type {\n",
       "        vertical-align: middle;\n",
       "    }\n",
       "\n",
       "    .dataframe tbody tr th {\n",
       "        vertical-align: top;\n",
       "    }\n",
       "\n",
       "    .dataframe thead th {\n",
       "        text-align: right;\n",
       "    }\n",
       "</style>\n",
       "<table border=\"1\" class=\"dataframe\">\n",
       "  <thead>\n",
       "    <tr style=\"text-align: right;\">\n",
       "      <th></th>\n",
       "      <th>selftext</th>\n",
       "      <th>title</th>\n",
       "      <th>subreddit</th>\n",
       "    </tr>\n",
       "  </thead>\n",
       "  <tbody>\n",
       "    <tr>\n",
       "      <th>0</th>\n",
       "      <td></td>\n",
       "      <td>ᴛʀᴜᴇ ғᴀɪᴛʜғᴏᴏʟ</td>\n",
       "      <td>religion</td>\n",
       "    </tr>\n",
       "    <tr>\n",
       "      <th>1</th>\n",
       "      <td>I’ve seen a lot of things like he’s a snake, s...</td>\n",
       "      <td>What’s the most consistent depiction of “The D...</td>\n",
       "      <td>religion</td>\n",
       "    </tr>\n",
       "    <tr>\n",
       "      <th>2</th>\n",
       "      <td>I am at a point in my life where I find it har...</td>\n",
       "      <td>Are we just God's puppet?</td>\n",
       "      <td>religion</td>\n",
       "    </tr>\n",
       "    <tr>\n",
       "      <th>3</th>\n",
       "      <td>[removed]</td>\n",
       "      <td>Are just Gods puppets?</td>\n",
       "      <td>religion</td>\n",
       "    </tr>\n",
       "    <tr>\n",
       "      <th>4</th>\n",
       "      <td>Imagine this scenario: A group of students is ...</td>\n",
       "      <td>Library</td>\n",
       "      <td>religion</td>\n",
       "    </tr>\n",
       "  </tbody>\n",
       "</table>\n",
       "</div>"
      ],
      "text/plain": [
       "                                            selftext  \\\n",
       "0                                                      \n",
       "1  I’ve seen a lot of things like he’s a snake, s...   \n",
       "2  I am at a point in my life where I find it har...   \n",
       "3                                          [removed]   \n",
       "4  Imagine this scenario: A group of students is ...   \n",
       "\n",
       "                                               title subreddit  \n",
       "0                                     ᴛʀᴜᴇ ғᴀɪᴛʜғᴏᴏʟ  religion  \n",
       "1  What’s the most consistent depiction of “The D...  religion  \n",
       "2                          Are we just God's puppet?  religion  \n",
       "3                             Are just Gods puppets?  religion  \n",
       "4                                            Library  religion  "
      ]
     },
     "metadata": {},
     "output_type": "display_data"
    },
    {
     "data": {
      "text/plain": [
       "245    1663273980\n",
       "246    1663273892\n",
       "247    1663268109\n",
       "248    1663266429\n",
       "249    1663266220\n",
       "Name: created_utc, dtype: int64"
      ]
     },
     "metadata": {},
     "output_type": "display_data"
    }
   ],
   "source": [
    "relig_df_2 = retrieve_posts_r(1663886493, 2)"
   ]
  },
  {
   "cell_type": "code",
   "execution_count": 76,
   "id": "c69e7cc0-3144-4c21-8fb7-298173405a9f",
   "metadata": {},
   "outputs": [
    {
     "name": "stdout",
     "output_type": "stream",
     "text": [
      "200\n"
     ]
    },
    {
     "data": {
      "text/html": [
       "<div>\n",
       "<style scoped>\n",
       "    .dataframe tbody tr th:only-of-type {\n",
       "        vertical-align: middle;\n",
       "    }\n",
       "\n",
       "    .dataframe tbody tr th {\n",
       "        vertical-align: top;\n",
       "    }\n",
       "\n",
       "    .dataframe thead th {\n",
       "        text-align: right;\n",
       "    }\n",
       "</style>\n",
       "<table border=\"1\" class=\"dataframe\">\n",
       "  <thead>\n",
       "    <tr style=\"text-align: right;\">\n",
       "      <th></th>\n",
       "      <th>selftext</th>\n",
       "      <th>title</th>\n",
       "      <th>subreddit</th>\n",
       "    </tr>\n",
       "  </thead>\n",
       "  <tbody>\n",
       "    <tr>\n",
       "      <th>0</th>\n",
       "      <td>You have some people seeking truth report a co...</td>\n",
       "      <td>Why do only some people get a religious experi...</td>\n",
       "      <td>religion</td>\n",
       "    </tr>\n",
       "    <tr>\n",
       "      <th>1</th>\n",
       "      <td>Im not even sure if the title makes sense but ...</td>\n",
       "      <td>I don’t want to be a Christian anymore but I w...</td>\n",
       "      <td>religion</td>\n",
       "    </tr>\n",
       "    <tr>\n",
       "      <th>2</th>\n",
       "      <td>[removed]</td>\n",
       "      <td>Why is suicide discouraged by virtually all re...</td>\n",
       "      <td>religion</td>\n",
       "    </tr>\n",
       "    <tr>\n",
       "      <th>3</th>\n",
       "      <td>[removed]</td>\n",
       "      <td>The problem with ALWAYS choosing SCIENCE</td>\n",
       "      <td>religion</td>\n",
       "    </tr>\n",
       "    <tr>\n",
       "      <th>4</th>\n",
       "      <td></td>\n",
       "      <td>Active Obedience of Christ</td>\n",
       "      <td>religion</td>\n",
       "    </tr>\n",
       "  </tbody>\n",
       "</table>\n",
       "</div>"
      ],
      "text/plain": [
       "                                            selftext  \\\n",
       "0  You have some people seeking truth report a co...   \n",
       "1  Im not even sure if the title makes sense but ...   \n",
       "2                                          [removed]   \n",
       "3                                          [removed]   \n",
       "4                                                      \n",
       "\n",
       "                                               title subreddit  \n",
       "0  Why do only some people get a religious experi...  religion  \n",
       "1  I don’t want to be a Christian anymore but I w...  religion  \n",
       "2  Why is suicide discouraged by virtually all re...  religion  \n",
       "3           The problem with ALWAYS choosing SCIENCE  religion  \n",
       "4                         Active Obedience of Christ  religion  "
      ]
     },
     "metadata": {},
     "output_type": "display_data"
    },
    {
     "data": {
      "text/plain": [
       "244    1662569036\n",
       "245    1662567721\n",
       "246    1662567574\n",
       "247    1662567062\n",
       "248    1662566295\n",
       "Name: created_utc, dtype: int64"
      ]
     },
     "metadata": {},
     "output_type": "display_data"
    }
   ],
   "source": [
    "relig_df_3 = retrieve_posts_r(1663266220, 3)"
   ]
  },
  {
   "cell_type": "code",
   "execution_count": 77,
   "id": "e1bd4a83-8972-490d-90b4-eb289c824502",
   "metadata": {},
   "outputs": [
    {
     "name": "stdout",
     "output_type": "stream",
     "text": [
      "200\n"
     ]
    },
    {
     "data": {
      "text/html": [
       "<div>\n",
       "<style scoped>\n",
       "    .dataframe tbody tr th:only-of-type {\n",
       "        vertical-align: middle;\n",
       "    }\n",
       "\n",
       "    .dataframe tbody tr th {\n",
       "        vertical-align: top;\n",
       "    }\n",
       "\n",
       "    .dataframe thead th {\n",
       "        text-align: right;\n",
       "    }\n",
       "</style>\n",
       "<table border=\"1\" class=\"dataframe\">\n",
       "  <thead>\n",
       "    <tr style=\"text-align: right;\">\n",
       "      <th></th>\n",
       "      <th>selftext</th>\n",
       "      <th>title</th>\n",
       "      <th>subreddit</th>\n",
       "    </tr>\n",
       "  </thead>\n",
       "  <tbody>\n",
       "    <tr>\n",
       "      <th>0</th>\n",
       "      <td>What are servants and messengers for? These ar...</td>\n",
       "      <td>A God that uses Angels and Messengers cant pos...</td>\n",
       "      <td>religion</td>\n",
       "    </tr>\n",
       "    <tr>\n",
       "      <th>1</th>\n",
       "      <td>[removed]</td>\n",
       "      <td>Doubting God and fearing death. Any tips?</td>\n",
       "      <td>religion</td>\n",
       "    </tr>\n",
       "    <tr>\n",
       "      <th>2</th>\n",
       "      <td>[removed]</td>\n",
       "      <td>an sensible approach to religion.</td>\n",
       "      <td>religion</td>\n",
       "    </tr>\n",
       "    <tr>\n",
       "      <th>3</th>\n",
       "      <td>[removed]</td>\n",
       "      <td>sensible approach to religion</td>\n",
       "      <td>religion</td>\n",
       "    </tr>\n",
       "    <tr>\n",
       "      <th>4</th>\n",
       "      <td>[removed]</td>\n",
       "      <td>What are the biggest problems people face pers...</td>\n",
       "      <td>religion</td>\n",
       "    </tr>\n",
       "  </tbody>\n",
       "</table>\n",
       "</div>"
      ],
      "text/plain": [
       "                                            selftext  \\\n",
       "0  What are servants and messengers for? These ar...   \n",
       "1                                          [removed]   \n",
       "2                                          [removed]   \n",
       "3                                          [removed]   \n",
       "4                                          [removed]   \n",
       "\n",
       "                                               title subreddit  \n",
       "0  A God that uses Angels and Messengers cant pos...  religion  \n",
       "1          Doubting God and fearing death. Any tips?  religion  \n",
       "2                  an sensible approach to religion.  religion  \n",
       "3                      sensible approach to religion  religion  \n",
       "4  What are the biggest problems people face pers...  religion  "
      ]
     },
     "metadata": {},
     "output_type": "display_data"
    },
    {
     "data": {
      "text/plain": [
       "244    1661927672\n",
       "245    1661920665\n",
       "246    1661920294\n",
       "247    1661919593\n",
       "248    1661918476\n",
       "Name: created_utc, dtype: int64"
      ]
     },
     "metadata": {},
     "output_type": "display_data"
    }
   ],
   "source": [
    "relig_df_4 = retrieve_posts_r(1662566295, 4)"
   ]
  },
  {
   "cell_type": "code",
   "execution_count": 78,
   "id": "44b0fba2-a487-4f13-bef9-2c3163a4f741",
   "metadata": {},
   "outputs": [
    {
     "name": "stdout",
     "output_type": "stream",
     "text": [
      "200\n"
     ]
    },
    {
     "data": {
      "text/html": [
       "<div>\n",
       "<style scoped>\n",
       "    .dataframe tbody tr th:only-of-type {\n",
       "        vertical-align: middle;\n",
       "    }\n",
       "\n",
       "    .dataframe tbody tr th {\n",
       "        vertical-align: top;\n",
       "    }\n",
       "\n",
       "    .dataframe thead th {\n",
       "        text-align: right;\n",
       "    }\n",
       "</style>\n",
       "<table border=\"1\" class=\"dataframe\">\n",
       "  <thead>\n",
       "    <tr style=\"text-align: right;\">\n",
       "      <th></th>\n",
       "      <th>selftext</th>\n",
       "      <th>title</th>\n",
       "      <th>subreddit</th>\n",
       "    </tr>\n",
       "  </thead>\n",
       "  <tbody>\n",
       "    <tr>\n",
       "      <th>0</th>\n",
       "      <td>[removed]</td>\n",
       "      <td>Video of christian streamer scamming his viewers</td>\n",
       "      <td>religion</td>\n",
       "    </tr>\n",
       "    <tr>\n",
       "      <th>1</th>\n",
       "      <td>what is the oldest known written scripture or ...</td>\n",
       "      <td>what is the oldest written scripture or any ot...</td>\n",
       "      <td>religion</td>\n",
       "    </tr>\n",
       "    <tr>\n",
       "      <th>2</th>\n",
       "      <td>I am interested to hear the thoughts behind th...</td>\n",
       "      <td>As someone that follows religion, do you belie...</td>\n",
       "      <td>religion</td>\n",
       "    </tr>\n",
       "    <tr>\n",
       "      <th>3</th>\n",
       "      <td>Perhaps one of the most pernicious temptations...</td>\n",
       "      <td>Is there a hierarchy of spiritual development/...</td>\n",
       "      <td>religion</td>\n",
       "    </tr>\n",
       "    <tr>\n",
       "      <th>4</th>\n",
       "      <td>[removed]</td>\n",
       "      <td>How do you have complete faith in a religion?</td>\n",
       "      <td>religion</td>\n",
       "    </tr>\n",
       "  </tbody>\n",
       "</table>\n",
       "</div>"
      ],
      "text/plain": [
       "                                            selftext  \\\n",
       "0                                          [removed]   \n",
       "1  what is the oldest known written scripture or ...   \n",
       "2  I am interested to hear the thoughts behind th...   \n",
       "3  Perhaps one of the most pernicious temptations...   \n",
       "4                                          [removed]   \n",
       "\n",
       "                                               title subreddit  \n",
       "0   Video of christian streamer scamming his viewers  religion  \n",
       "1  what is the oldest written scripture or any ot...  religion  \n",
       "2  As someone that follows religion, do you belie...  religion  \n",
       "3  Is there a hierarchy of spiritual development/...  religion  \n",
       "4      How do you have complete faith in a religion?  religion  "
      ]
     },
     "metadata": {},
     "output_type": "display_data"
    },
    {
     "data": {
      "text/plain": [
       "244    1661376150\n",
       "245    1661373804\n",
       "246    1661373603\n",
       "247    1661367513\n",
       "248    1661366095\n",
       "Name: created_utc, dtype: int64"
      ]
     },
     "metadata": {},
     "output_type": "display_data"
    }
   ],
   "source": [
    "relig_df_5 = retrieve_posts_r(1661918476, 5)"
   ]
  },
  {
   "cell_type": "code",
   "execution_count": 79,
   "id": "7d901d86-0e13-4a61-9707-b37e9138b458",
   "metadata": {},
   "outputs": [
    {
     "name": "stdout",
     "output_type": "stream",
     "text": [
      "200\n"
     ]
    },
    {
     "data": {
      "text/html": [
       "<div>\n",
       "<style scoped>\n",
       "    .dataframe tbody tr th:only-of-type {\n",
       "        vertical-align: middle;\n",
       "    }\n",
       "\n",
       "    .dataframe tbody tr th {\n",
       "        vertical-align: top;\n",
       "    }\n",
       "\n",
       "    .dataframe thead th {\n",
       "        text-align: right;\n",
       "    }\n",
       "</style>\n",
       "<table border=\"1\" class=\"dataframe\">\n",
       "  <thead>\n",
       "    <tr style=\"text-align: right;\">\n",
       "      <th></th>\n",
       "      <th>selftext</th>\n",
       "      <th>title</th>\n",
       "      <th>subreddit</th>\n",
       "    </tr>\n",
       "  </thead>\n",
       "  <tbody>\n",
       "    <tr>\n",
       "      <th>0</th>\n",
       "      <td>Especially in the context of you (i.e. humans)...</td>\n",
       "      <td>How important is the concept of \"reciprocity\" ...</td>\n",
       "      <td>religion</td>\n",
       "    </tr>\n",
       "    <tr>\n",
       "      <th>1</th>\n",
       "      <td>Which religion does this concept defy:  If we ...</td>\n",
       "      <td>How can two people with very different wisdom ...</td>\n",
       "      <td>religion</td>\n",
       "    </tr>\n",
       "    <tr>\n",
       "      <th>2</th>\n",
       "      <td>*“****For God so loved the world, that he gav...</td>\n",
       "      <td>Why didnt God send Jesus in the time of Noah?</td>\n",
       "      <td>religion</td>\n",
       "    </tr>\n",
       "    <tr>\n",
       "      <th>3</th>\n",
       "      <td>.</td>\n",
       "      <td>what is your opinion on catharism</td>\n",
       "      <td>religion</td>\n",
       "    </tr>\n",
       "    <tr>\n",
       "      <th>4</th>\n",
       "      <td></td>\n",
       "      <td>Just a Suggestion??? Obedience Is Not Just for...</td>\n",
       "      <td>religion</td>\n",
       "    </tr>\n",
       "  </tbody>\n",
       "</table>\n",
       "</div>"
      ],
      "text/plain": [
       "                                            selftext  \\\n",
       "0  Especially in the context of you (i.e. humans)...   \n",
       "1  Which religion does this concept defy:  If we ...   \n",
       "2   *“****For God so loved the world, that he gav...   \n",
       "3                                                  .   \n",
       "4                                                      \n",
       "\n",
       "                                               title subreddit  \n",
       "0  How important is the concept of \"reciprocity\" ...  religion  \n",
       "1  How can two people with very different wisdom ...  religion  \n",
       "2      Why didnt God send Jesus in the time of Noah?  religion  \n",
       "3                  what is your opinion on catharism  religion  \n",
       "4  Just a Suggestion??? Obedience Is Not Just for...  religion  "
      ]
     },
     "metadata": {},
     "output_type": "display_data"
    },
    {
     "data": {
      "text/plain": [
       "244    1660826303\n",
       "245    1660821217\n",
       "246    1660821009\n",
       "247    1660819381\n",
       "248    1660819324\n",
       "Name: created_utc, dtype: int64"
      ]
     },
     "metadata": {},
     "output_type": "display_data"
    }
   ],
   "source": [
    "relig_df_6 = retrieve_posts_r(1661366095, 6)"
   ]
  },
  {
   "cell_type": "code",
   "execution_count": 80,
   "id": "bec6bd4f-ceaf-42b9-85cf-8a8e4fab3b65",
   "metadata": {},
   "outputs": [
    {
     "name": "stdout",
     "output_type": "stream",
     "text": [
      "200\n"
     ]
    },
    {
     "data": {
      "text/html": [
       "<div>\n",
       "<style scoped>\n",
       "    .dataframe tbody tr th:only-of-type {\n",
       "        vertical-align: middle;\n",
       "    }\n",
       "\n",
       "    .dataframe tbody tr th {\n",
       "        vertical-align: top;\n",
       "    }\n",
       "\n",
       "    .dataframe thead th {\n",
       "        text-align: right;\n",
       "    }\n",
       "</style>\n",
       "<table border=\"1\" class=\"dataframe\">\n",
       "  <thead>\n",
       "    <tr style=\"text-align: right;\">\n",
       "      <th></th>\n",
       "      <th>selftext</th>\n",
       "      <th>title</th>\n",
       "      <th>subreddit</th>\n",
       "    </tr>\n",
       "  </thead>\n",
       "  <tbody>\n",
       "    <tr>\n",
       "      <th>0</th>\n",
       "      <td></td>\n",
       "      <td>what does this mean, found in our lay of manao...</td>\n",
       "      <td>religion</td>\n",
       "    </tr>\n",
       "    <tr>\n",
       "      <th>1</th>\n",
       "      <td>Hi guys, when i was younger and living in HK, ...</td>\n",
       "      <td>Is the El Shaddai movement a cult?</td>\n",
       "      <td>religion</td>\n",
       "    </tr>\n",
       "    <tr>\n",
       "      <th>2</th>\n",
       "      <td>[removed]</td>\n",
       "      <td>Help please!! Report this account sex traffick...</td>\n",
       "      <td>religion</td>\n",
       "    </tr>\n",
       "    <tr>\n",
       "      <th>3</th>\n",
       "      <td>\\nMe and my parents had a discourse about live...</td>\n",
       "      <td>Live Aid (yes the charity concert) and my pare...</td>\n",
       "      <td>religion</td>\n",
       "    </tr>\n",
       "    <tr>\n",
       "      <th>4</th>\n",
       "      <td>[removed]</td>\n",
       "      <td>Love Religion but can't seem to find one</td>\n",
       "      <td>religion</td>\n",
       "    </tr>\n",
       "  </tbody>\n",
       "</table>\n",
       "</div>"
      ],
      "text/plain": [
       "                                            selftext  \\\n",
       "0                                                      \n",
       "1  Hi guys, when i was younger and living in HK, ...   \n",
       "2                                          [removed]   \n",
       "3  \\nMe and my parents had a discourse about live...   \n",
       "4                                          [removed]   \n",
       "\n",
       "                                               title subreddit  \n",
       "0  what does this mean, found in our lay of manao...  religion  \n",
       "1                 Is the El Shaddai movement a cult?  religion  \n",
       "2  Help please!! Report this account sex traffick...  religion  \n",
       "3  Live Aid (yes the charity concert) and my pare...  religion  \n",
       "4           Love Religion but can't seem to find one  religion  "
      ]
     },
     "metadata": {},
     "output_type": "display_data"
    },
    {
     "data": {
      "text/plain": [
       "245    1660343588\n",
       "246    1660342196\n",
       "247    1660339190\n",
       "248    1660337973\n",
       "249    1660336136\n",
       "Name: created_utc, dtype: int64"
      ]
     },
     "metadata": {},
     "output_type": "display_data"
    }
   ],
   "source": [
    "relig_df_7 = retrieve_posts_r(1660819324, 7)"
   ]
  },
  {
   "cell_type": "code",
   "execution_count": 81,
   "id": "9a0b3d2d-b260-42fa-89d5-e13ba28dc55c",
   "metadata": {},
   "outputs": [
    {
     "name": "stdout",
     "output_type": "stream",
     "text": [
      "200\n"
     ]
    },
    {
     "data": {
      "text/html": [
       "<div>\n",
       "<style scoped>\n",
       "    .dataframe tbody tr th:only-of-type {\n",
       "        vertical-align: middle;\n",
       "    }\n",
       "\n",
       "    .dataframe tbody tr th {\n",
       "        vertical-align: top;\n",
       "    }\n",
       "\n",
       "    .dataframe thead th {\n",
       "        text-align: right;\n",
       "    }\n",
       "</style>\n",
       "<table border=\"1\" class=\"dataframe\">\n",
       "  <thead>\n",
       "    <tr style=\"text-align: right;\">\n",
       "      <th></th>\n",
       "      <th>selftext</th>\n",
       "      <th>title</th>\n",
       "      <th>subreddit</th>\n",
       "    </tr>\n",
       "  </thead>\n",
       "  <tbody>\n",
       "    <tr>\n",
       "      <th>0</th>\n",
       "      <td>[removed]</td>\n",
       "      <td>Religion will probably prevail over \"progress\"...</td>\n",
       "      <td>religion</td>\n",
       "    </tr>\n",
       "    <tr>\n",
       "      <th>1</th>\n",
       "      <td>Be free be free be free be free be free be fre...</td>\n",
       "      <td>It's been torturing my brain apart for over a ...</td>\n",
       "      <td>religion</td>\n",
       "    </tr>\n",
       "    <tr>\n",
       "      <th>2</th>\n",
       "      <td></td>\n",
       "      <td>I'm God less than a million have seen and are ...</td>\n",
       "      <td>religion</td>\n",
       "    </tr>\n",
       "    <tr>\n",
       "      <th>3</th>\n",
       "      <td>[removed]</td>\n",
       "      <td>How to Overcome Religious Trauma?</td>\n",
       "      <td>religion</td>\n",
       "    </tr>\n",
       "    <tr>\n",
       "      <th>4</th>\n",
       "      <td></td>\n",
       "      <td>The last Afghan Sikhs - BBC World Service</td>\n",
       "      <td>religion</td>\n",
       "    </tr>\n",
       "  </tbody>\n",
       "</table>\n",
       "</div>"
      ],
      "text/plain": [
       "                                            selftext  \\\n",
       "0                                          [removed]   \n",
       "1  Be free be free be free be free be free be fre...   \n",
       "2                                                      \n",
       "3                                          [removed]   \n",
       "4                                                      \n",
       "\n",
       "                                               title subreddit  \n",
       "0  Religion will probably prevail over \"progress\"...  religion  \n",
       "1  It's been torturing my brain apart for over a ...  religion  \n",
       "2  I'm God less than a million have seen and are ...  religion  \n",
       "3                  How to Overcome Religious Trauma?  religion  \n",
       "4          The last Afghan Sikhs - BBC World Service  religion  "
      ]
     },
     "metadata": {},
     "output_type": "display_data"
    },
    {
     "data": {
      "text/plain": [
       "245    1659745969\n",
       "246    1659742425\n",
       "247    1659742083\n",
       "248    1659742001\n",
       "249    1659741707\n",
       "Name: created_utc, dtype: int64"
      ]
     },
     "metadata": {},
     "output_type": "display_data"
    }
   ],
   "source": [
    "relig_df_8 = retrieve_posts_r(1660336136, 8)"
   ]
  },
  {
   "cell_type": "code",
   "execution_count": 82,
   "id": "23382772-7c5f-438a-be81-9d3f7e2ba0c9",
   "metadata": {},
   "outputs": [
    {
     "name": "stdout",
     "output_type": "stream",
     "text": [
      "200\n"
     ]
    },
    {
     "data": {
      "text/html": [
       "<div>\n",
       "<style scoped>\n",
       "    .dataframe tbody tr th:only-of-type {\n",
       "        vertical-align: middle;\n",
       "    }\n",
       "\n",
       "    .dataframe tbody tr th {\n",
       "        vertical-align: top;\n",
       "    }\n",
       "\n",
       "    .dataframe thead th {\n",
       "        text-align: right;\n",
       "    }\n",
       "</style>\n",
       "<table border=\"1\" class=\"dataframe\">\n",
       "  <thead>\n",
       "    <tr style=\"text-align: right;\">\n",
       "      <th></th>\n",
       "      <th>selftext</th>\n",
       "      <th>title</th>\n",
       "      <th>subreddit</th>\n",
       "    </tr>\n",
       "  </thead>\n",
       "  <tbody>\n",
       "    <tr>\n",
       "      <th>0</th>\n",
       "      <td>Hi! Hope this is okay to post here since it is...</td>\n",
       "      <td>Religious Studies Iceberg</td>\n",
       "      <td>religion</td>\n",
       "    </tr>\n",
       "    <tr>\n",
       "      <th>1</th>\n",
       "      <td>I grew up catholic and realized that I was par...</td>\n",
       "      <td>I'm convince 90% of religious people are lying...</td>\n",
       "      <td>religion</td>\n",
       "    </tr>\n",
       "    <tr>\n",
       "      <th>2</th>\n",
       "      <td>This is just I concept I came up with right no...</td>\n",
       "      <td>Is it possible for God to be all matter in exi...</td>\n",
       "      <td>religion</td>\n",
       "    </tr>\n",
       "    <tr>\n",
       "      <th>3</th>\n",
       "      <td>https://youtu.be/ttevamkS6gw</td>\n",
       "      <td>I watched this video today… and it was amazing...</td>\n",
       "      <td>religion</td>\n",
       "    </tr>\n",
       "    <tr>\n",
       "      <th>4</th>\n",
       "      <td>[removed]</td>\n",
       "      <td>Unexplainable golden light.</td>\n",
       "      <td>religion</td>\n",
       "    </tr>\n",
       "  </tbody>\n",
       "</table>\n",
       "</div>"
      ],
      "text/plain": [
       "                                            selftext  \\\n",
       "0  Hi! Hope this is okay to post here since it is...   \n",
       "1  I grew up catholic and realized that I was par...   \n",
       "2  This is just I concept I came up with right no...   \n",
       "3                       https://youtu.be/ttevamkS6gw   \n",
       "4                                          [removed]   \n",
       "\n",
       "                                               title subreddit  \n",
       "0                          Religious Studies Iceberg  religion  \n",
       "1  I'm convince 90% of religious people are lying...  religion  \n",
       "2  Is it possible for God to be all matter in exi...  religion  \n",
       "3  I watched this video today… and it was amazing...  religion  \n",
       "4                        Unexplainable golden light.  religion  "
      ]
     },
     "metadata": {},
     "output_type": "display_data"
    },
    {
     "data": {
      "text/plain": [
       "245    1659232919\n",
       "246    1659232636\n",
       "247    1659231238\n",
       "248    1659230579\n",
       "249    1659227578\n",
       "Name: created_utc, dtype: int64"
      ]
     },
     "metadata": {},
     "output_type": "display_data"
    }
   ],
   "source": [
    "relig_df_9 = retrieve_posts_r(1659741707, 9)"
   ]
  },
  {
   "cell_type": "code",
   "execution_count": 83,
   "id": "a3ae4992-0e2c-4837-9e2b-5c94e2513ef5",
   "metadata": {},
   "outputs": [
    {
     "name": "stdout",
     "output_type": "stream",
     "text": [
      "200\n"
     ]
    },
    {
     "data": {
      "text/html": [
       "<div>\n",
       "<style scoped>\n",
       "    .dataframe tbody tr th:only-of-type {\n",
       "        vertical-align: middle;\n",
       "    }\n",
       "\n",
       "    .dataframe tbody tr th {\n",
       "        vertical-align: top;\n",
       "    }\n",
       "\n",
       "    .dataframe thead th {\n",
       "        text-align: right;\n",
       "    }\n",
       "</style>\n",
       "<table border=\"1\" class=\"dataframe\">\n",
       "  <thead>\n",
       "    <tr style=\"text-align: right;\">\n",
       "      <th></th>\n",
       "      <th>selftext</th>\n",
       "      <th>title</th>\n",
       "      <th>subreddit</th>\n",
       "    </tr>\n",
       "  </thead>\n",
       "  <tbody>\n",
       "    <tr>\n",
       "      <th>0</th>\n",
       "      <td>[removed]</td>\n",
       "      <td>Why so many Middle Eastern cults share beliefs...</td>\n",
       "      <td>religion</td>\n",
       "    </tr>\n",
       "    <tr>\n",
       "      <th>1</th>\n",
       "      <td>When i look at the set of Divine Teachers / Av...</td>\n",
       "      <td>suffering of the founders of religions and Kri...</td>\n",
       "      <td>religion</td>\n",
       "    </tr>\n",
       "    <tr>\n",
       "      <th>2</th>\n",
       "      <td></td>\n",
       "      <td>Religion in Ukraine</td>\n",
       "      <td>religion</td>\n",
       "    </tr>\n",
       "    <tr>\n",
       "      <th>3</th>\n",
       "      <td></td>\n",
       "      <td>The Choice Is Easy</td>\n",
       "      <td>religion</td>\n",
       "    </tr>\n",
       "    <tr>\n",
       "      <th>4</th>\n",
       "      <td>I ponder the differences between being raised ...</td>\n",
       "      <td>How multi-religious is your community?</td>\n",
       "      <td>religion</td>\n",
       "    </tr>\n",
       "  </tbody>\n",
       "</table>\n",
       "</div>"
      ],
      "text/plain": [
       "                                            selftext  \\\n",
       "0                                          [removed]   \n",
       "1  When i look at the set of Divine Teachers / Av...   \n",
       "2                                                      \n",
       "3                                                      \n",
       "4  I ponder the differences between being raised ...   \n",
       "\n",
       "                                               title subreddit  \n",
       "0  Why so many Middle Eastern cults share beliefs...  religion  \n",
       "1  suffering of the founders of religions and Kri...  religion  \n",
       "2                                Religion in Ukraine  religion  \n",
       "3                                 The Choice Is Easy  religion  \n",
       "4             How multi-religious is your community?  religion  "
      ]
     },
     "metadata": {},
     "output_type": "display_data"
    },
    {
     "data": {
      "text/plain": [
       "244    1658752015\n",
       "245    1658740162\n",
       "246    1658737676\n",
       "247    1658735063\n",
       "248    1658731003\n",
       "Name: created_utc, dtype: int64"
      ]
     },
     "metadata": {},
     "output_type": "display_data"
    }
   ],
   "source": [
    "relig_df_10 = retrieve_posts_r(1659227578, 10)"
   ]
  },
  {
   "cell_type": "code",
   "execution_count": 84,
   "id": "8ba3b355-cb04-4e7c-9b2a-07af7125bce3",
   "metadata": {},
   "outputs": [
    {
     "name": "stdout",
     "output_type": "stream",
     "text": [
      "200\n"
     ]
    },
    {
     "data": {
      "text/html": [
       "<div>\n",
       "<style scoped>\n",
       "    .dataframe tbody tr th:only-of-type {\n",
       "        vertical-align: middle;\n",
       "    }\n",
       "\n",
       "    .dataframe tbody tr th {\n",
       "        vertical-align: top;\n",
       "    }\n",
       "\n",
       "    .dataframe thead th {\n",
       "        text-align: right;\n",
       "    }\n",
       "</style>\n",
       "<table border=\"1\" class=\"dataframe\">\n",
       "  <thead>\n",
       "    <tr style=\"text-align: right;\">\n",
       "      <th></th>\n",
       "      <th>selftext</th>\n",
       "      <th>title</th>\n",
       "      <th>subreddit</th>\n",
       "    </tr>\n",
       "  </thead>\n",
       "  <tbody>\n",
       "    <tr>\n",
       "      <th>0</th>\n",
       "      <td>I was just scrolling through Twitter and came ...</td>\n",
       "      <td>Does any religion do \"No True Scotsman\" as wel...</td>\n",
       "      <td>religion</td>\n",
       "    </tr>\n",
       "    <tr>\n",
       "      <th>1</th>\n",
       "      <td></td>\n",
       "      <td>You need to hear this this is bad for everyone.</td>\n",
       "      <td>religion</td>\n",
       "    </tr>\n",
       "    <tr>\n",
       "      <th>2</th>\n",
       "      <td>What do you think about relationships (especia...</td>\n",
       "      <td>Thoughts on inter-religious relationships?</td>\n",
       "      <td>religion</td>\n",
       "    </tr>\n",
       "    <tr>\n",
       "      <th>3</th>\n",
       "      <td></td>\n",
       "      <td>Why do Christians get admonished when they \"ch...</td>\n",
       "      <td>religion</td>\n",
       "    </tr>\n",
       "    <tr>\n",
       "      <th>4</th>\n",
       "      <td>It seems almost all centuries old Christian de...</td>\n",
       "      <td>The successful Episcopal Polity model</td>\n",
       "      <td>religion</td>\n",
       "    </tr>\n",
       "  </tbody>\n",
       "</table>\n",
       "</div>"
      ],
      "text/plain": [
       "                                            selftext  \\\n",
       "0  I was just scrolling through Twitter and came ...   \n",
       "1                                                      \n",
       "2  What do you think about relationships (especia...   \n",
       "3                                                      \n",
       "4  It seems almost all centuries old Christian de...   \n",
       "\n",
       "                                               title subreddit  \n",
       "0  Does any religion do \"No True Scotsman\" as wel...  religion  \n",
       "1    You need to hear this this is bad for everyone.  religion  \n",
       "2         Thoughts on inter-religious relationships?  religion  \n",
       "3  Why do Christians get admonished when they \"ch...  religion  \n",
       "4              The successful Episcopal Polity model  religion  "
      ]
     },
     "metadata": {},
     "output_type": "display_data"
    },
    {
     "data": {
      "text/plain": [
       "245    1658227910\n",
       "246    1658225689\n",
       "247    1658224244\n",
       "248    1658222248\n",
       "249    1658221202\n",
       "Name: created_utc, dtype: int64"
      ]
     },
     "metadata": {},
     "output_type": "display_data"
    }
   ],
   "source": [
    "relig_df_11 = retrieve_posts_r(1658731003, 11)"
   ]
  },
  {
   "cell_type": "code",
   "execution_count": 85,
   "id": "c9bdba8d-f5fb-457f-86b9-b47b11de3697",
   "metadata": {},
   "outputs": [
    {
     "name": "stdout",
     "output_type": "stream",
     "text": [
      "200\n"
     ]
    },
    {
     "data": {
      "text/html": [
       "<div>\n",
       "<style scoped>\n",
       "    .dataframe tbody tr th:only-of-type {\n",
       "        vertical-align: middle;\n",
       "    }\n",
       "\n",
       "    .dataframe tbody tr th {\n",
       "        vertical-align: top;\n",
       "    }\n",
       "\n",
       "    .dataframe thead th {\n",
       "        text-align: right;\n",
       "    }\n",
       "</style>\n",
       "<table border=\"1\" class=\"dataframe\">\n",
       "  <thead>\n",
       "    <tr style=\"text-align: right;\">\n",
       "      <th></th>\n",
       "      <th>selftext</th>\n",
       "      <th>title</th>\n",
       "      <th>subreddit</th>\n",
       "    </tr>\n",
       "  </thead>\n",
       "  <tbody>\n",
       "    <tr>\n",
       "      <th>0</th>\n",
       "      <td>[removed]</td>\n",
       "      <td>Windows Showing Allah's Existence and Unity</td>\n",
       "      <td>religion</td>\n",
       "    </tr>\n",
       "    <tr>\n",
       "      <th>1</th>\n",
       "      <td></td>\n",
       "      <td>Please see the whole video and post your hones...</td>\n",
       "      <td>religion</td>\n",
       "    </tr>\n",
       "    <tr>\n",
       "      <th>2</th>\n",
       "      <td>Christian mechanic Ashfaq Masih (Pakistan) got...</td>\n",
       "      <td>Christian mechanic sentenced to death for blas...</td>\n",
       "      <td>religion</td>\n",
       "    </tr>\n",
       "    <tr>\n",
       "      <th>3</th>\n",
       "      <td></td>\n",
       "      <td>There’s a quote I once heard: “Be a human firs...</td>\n",
       "      <td>religion</td>\n",
       "    </tr>\n",
       "    <tr>\n",
       "      <th>4</th>\n",
       "      <td>Something I found very interesting in TANAKH, ...</td>\n",
       "      <td>Belief Vs. What is Written</td>\n",
       "      <td>religion</td>\n",
       "    </tr>\n",
       "  </tbody>\n",
       "</table>\n",
       "</div>"
      ],
      "text/plain": [
       "                                            selftext  \\\n",
       "0                                          [removed]   \n",
       "1                                                      \n",
       "2  Christian mechanic Ashfaq Masih (Pakistan) got...   \n",
       "3                                                      \n",
       "4  Something I found very interesting in TANAKH, ...   \n",
       "\n",
       "                                               title subreddit  \n",
       "0        Windows Showing Allah's Existence and Unity  religion  \n",
       "1  Please see the whole video and post your hones...  religion  \n",
       "2  Christian mechanic sentenced to death for blas...  religion  \n",
       "3  There’s a quote I once heard: “Be a human firs...  religion  \n",
       "4                         Belief Vs. What is Written  religion  "
      ]
     },
     "metadata": {},
     "output_type": "display_data"
    },
    {
     "data": {
      "text/plain": [
       "245    1657702553\n",
       "246    1657699871\n",
       "247    1657698585\n",
       "248    1657697494\n",
       "249    1657694664\n",
       "Name: created_utc, dtype: int64"
      ]
     },
     "metadata": {},
     "output_type": "display_data"
    }
   ],
   "source": [
    "relig_df_12 = retrieve_posts_r(1658221202, 12)"
   ]
  },
  {
   "cell_type": "code",
   "execution_count": 86,
   "id": "978101a7-799b-48b8-87c2-8fc80e2bb38e",
   "metadata": {},
   "outputs": [
    {
     "data": {
      "text/plain": [
       "(2994, 3)"
      ]
     },
     "execution_count": 86,
     "metadata": {},
     "output_type": "execute_result"
    }
   ],
   "source": [
    "full_relig_df = pd.concat([relig_df_1, relig_df_2, relig_df_3, relig_df_4, relig_df_5, relig_df_6, relig_df_7, relig_df_8, relig_df_9, relig_df_10, relig_df_11, relig_df_12])\n",
    "full_relig_df.shape"
   ]
  },
  {
   "cell_type": "code",
   "execution_count": 87,
   "id": "911e52f5-434f-49e1-88e1-f22dc85fa335",
   "metadata": {},
   "outputs": [
    {
     "data": {
      "text/html": [
       "<div>\n",
       "<style scoped>\n",
       "    .dataframe tbody tr th:only-of-type {\n",
       "        vertical-align: middle;\n",
       "    }\n",
       "\n",
       "    .dataframe tbody tr th {\n",
       "        vertical-align: top;\n",
       "    }\n",
       "\n",
       "    .dataframe thead th {\n",
       "        text-align: right;\n",
       "    }\n",
       "</style>\n",
       "<table border=\"1\" class=\"dataframe\">\n",
       "  <thead>\n",
       "    <tr style=\"text-align: right;\">\n",
       "      <th></th>\n",
       "      <th>selftext</th>\n",
       "      <th>title</th>\n",
       "      <th>subreddit</th>\n",
       "    </tr>\n",
       "  </thead>\n",
       "  <tbody>\n",
       "    <tr>\n",
       "      <th>0</th>\n",
       "      <td>In some Buddhist texts, Buddhas are referred t...</td>\n",
       "      <td>Why the Buddha is called \"god over the gods\"</td>\n",
       "      <td>religion</td>\n",
       "    </tr>\n",
       "    <tr>\n",
       "      <th>1</th>\n",
       "      <td>Hi! As a Hellenic polytheist with Christian pa...</td>\n",
       "      <td>My mom confronting me on my altar.</td>\n",
       "      <td>religion</td>\n",
       "    </tr>\n",
       "    <tr>\n",
       "      <th>2</th>\n",
       "      <td>\\n\\nI was having a friendly discussion with a...</td>\n",
       "      <td>Does the act of looking for evidence of god’s ...</td>\n",
       "      <td>religion</td>\n",
       "    </tr>\n",
       "    <tr>\n",
       "      <th>3</th>\n",
       "      <td>[removed]</td>\n",
       "      <td>Interreligious marriage</td>\n",
       "      <td>religion</td>\n",
       "    </tr>\n",
       "    <tr>\n",
       "      <th>4</th>\n",
       "      <td></td>\n",
       "      <td>⚠️Persecution Exists Today, For Minorities Reg...</td>\n",
       "      <td>religion</td>\n",
       "    </tr>\n",
       "  </tbody>\n",
       "</table>\n",
       "</div>"
      ],
      "text/plain": [
       "                                            selftext  \\\n",
       "0  In some Buddhist texts, Buddhas are referred t...   \n",
       "1  Hi! As a Hellenic polytheist with Christian pa...   \n",
       "2   \\n\\nI was having a friendly discussion with a...   \n",
       "3                                          [removed]   \n",
       "4                                                      \n",
       "\n",
       "                                               title subreddit  \n",
       "0       Why the Buddha is called \"god over the gods\"  religion  \n",
       "1                 My mom confronting me on my altar.  religion  \n",
       "2  Does the act of looking for evidence of god’s ...  religion  \n",
       "3                            Interreligious marriage  religion  \n",
       "4  ⚠️Persecution Exists Today, For Minorities Reg...  religion  "
      ]
     },
     "execution_count": 87,
     "metadata": {},
     "output_type": "execute_result"
    }
   ],
   "source": [
    "full_relig_df.head()"
   ]
  },
  {
   "cell_type": "code",
   "execution_count": 88,
   "id": "05f6c7b1-474f-4dfe-b269-60f598877cc6",
   "metadata": {},
   "outputs": [],
   "source": [
    "full_relig_df.to_csv('../project-3/relig.csv')"
   ]
  },
  {
   "cell_type": "markdown",
   "id": "f41adcde-46ab-484e-8b37-a41b026caee4",
   "metadata": {},
   "source": [
    "Code adapted from Riley Dallas's Pushshift Tutorial Video"
   ]
  },
  {
   "cell_type": "code",
   "execution_count": null,
   "id": "068adc3a-b918-4f0c-b57a-2c67e506b6a9",
   "metadata": {},
   "outputs": [],
   "source": []
  }
 ],
 "metadata": {
  "kernelspec": {
   "display_name": "Python 3 (ipykernel)",
   "language": "python",
   "name": "python3"
  },
  "language_info": {
   "codemirror_mode": {
    "name": "ipython",
    "version": 3
   },
   "file_extension": ".py",
   "mimetype": "text/x-python",
   "name": "python",
   "nbconvert_exporter": "python",
   "pygments_lexer": "ipython3",
   "version": "3.9.12"
  }
 },
 "nbformat": 4,
 "nbformat_minor": 5
}
